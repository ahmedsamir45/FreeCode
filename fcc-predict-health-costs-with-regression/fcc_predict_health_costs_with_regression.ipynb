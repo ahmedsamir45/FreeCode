{
 "cells": [
  {
   "cell_type": "markdown",
   "metadata": {
    "id": "M9TX15KOkPBV"
   },
   "source": [
    "---\n",
    "\n",
    "In this challenge, you will predict healthcare costs using a regression algorithm.\n",
    "\n",
    "You are given a dataset that contains information about different people including their healthcare costs. Use the data to predict healthcare costs based on new data.\n",
    "\n",
    "The first two cells of this notebook import libraries and the data.\n",
    "\n",
    "Make sure to convert categorical data to numbers. Use 80% of the data as the `train_dataset` and 20% of the data as the `test_dataset`.\n",
    "\n",
    "`pop` off the \"expenses\" column from these datasets to create new datasets called `train_labels` and `test_labels`. Use these labels when training your model.\n",
    "\n",
    "Create a model and train it with the `train_dataset`. Run the final cell in this notebook to check your model. The final cell will use the unseen `test_dataset` to check how well the model generalizes.\n",
    "\n",
    "To pass the challenge, `model.evaluate` must return a Mean Absolute Error of under 3500. This means it predicts health care costs correctly within $3500.\n",
    "\n",
    "The final cell will also predict expenses using the `test_dataset` and graph the results.\n",
    "\n",
    "---"
   ]
  },
  {
   "cell_type": "code",
   "execution_count": 1,
   "metadata": {
    "id": "1rRo8oNqZ-Rj"
   },
   "outputs": [
    {
     "name": "stderr",
     "output_type": "stream",
     "text": [
      "\n",
      "[notice] A new release of pip is available: 24.2 -> 24.3.1\n",
      "[notice] To update, run: python.exe -m pip install --upgrade pip\n"
     ]
    }
   ],
   "source": [
    "# Import libraries. You may or may not use all of these.\n",
    "!pip install -q git+https://github.com/tensorflow/docs\n",
    "import matplotlib.pyplot as plt\n",
    "import numpy as np\n",
    "import pandas as pd\n",
    "\n",
    "# try:\n",
    "#   # %tensorflow_version only exists in Colab.\n",
    "#   %tensorflow_version 2.x\n",
    "# except Exception:\n",
    "#   pass\n",
    "import tensorflow as tf\n",
    "\n",
    "from tensorflow import keras\n",
    "from tensorflow.keras import layers\n",
    "\n",
    "import tensorflow_docs as tfdocs\n",
    "import tensorflow_docs.plots\n",
    "import tensorflow_docs.modeling"
   ]
  },
  {
   "cell_type": "code",
   "execution_count": 2,
   "metadata": {
    "id": "CiX2FI4gZtTt"
   },
   "outputs": [
    {
     "name": "stderr",
     "output_type": "stream",
     "text": [
      "'wget' is not recognized as an internal or external command,\n",
      "operable program or batch file.\n"
     ]
    },
    {
     "data": {
      "text/html": [
       "<div>\n",
       "<style scoped>\n",
       "    .dataframe tbody tr th:only-of-type {\n",
       "        vertical-align: middle;\n",
       "    }\n",
       "\n",
       "    .dataframe tbody tr th {\n",
       "        vertical-align: top;\n",
       "    }\n",
       "\n",
       "    .dataframe thead th {\n",
       "        text-align: right;\n",
       "    }\n",
       "</style>\n",
       "<table border=\"1\" class=\"dataframe\">\n",
       "  <thead>\n",
       "    <tr style=\"text-align: right;\">\n",
       "      <th></th>\n",
       "      <th>age</th>\n",
       "      <th>sex</th>\n",
       "      <th>bmi</th>\n",
       "      <th>children</th>\n",
       "      <th>smoker</th>\n",
       "      <th>region</th>\n",
       "      <th>expenses</th>\n",
       "    </tr>\n",
       "  </thead>\n",
       "  <tbody>\n",
       "    <tr>\n",
       "      <th>1333</th>\n",
       "      <td>50</td>\n",
       "      <td>male</td>\n",
       "      <td>31.0</td>\n",
       "      <td>3</td>\n",
       "      <td>no</td>\n",
       "      <td>northwest</td>\n",
       "      <td>10600.55</td>\n",
       "    </tr>\n",
       "    <tr>\n",
       "      <th>1334</th>\n",
       "      <td>18</td>\n",
       "      <td>female</td>\n",
       "      <td>31.9</td>\n",
       "      <td>0</td>\n",
       "      <td>no</td>\n",
       "      <td>northeast</td>\n",
       "      <td>2205.98</td>\n",
       "    </tr>\n",
       "    <tr>\n",
       "      <th>1335</th>\n",
       "      <td>18</td>\n",
       "      <td>female</td>\n",
       "      <td>36.9</td>\n",
       "      <td>0</td>\n",
       "      <td>no</td>\n",
       "      <td>southeast</td>\n",
       "      <td>1629.83</td>\n",
       "    </tr>\n",
       "    <tr>\n",
       "      <th>1336</th>\n",
       "      <td>21</td>\n",
       "      <td>female</td>\n",
       "      <td>25.8</td>\n",
       "      <td>0</td>\n",
       "      <td>no</td>\n",
       "      <td>southwest</td>\n",
       "      <td>2007.95</td>\n",
       "    </tr>\n",
       "    <tr>\n",
       "      <th>1337</th>\n",
       "      <td>61</td>\n",
       "      <td>female</td>\n",
       "      <td>29.1</td>\n",
       "      <td>0</td>\n",
       "      <td>yes</td>\n",
       "      <td>northwest</td>\n",
       "      <td>29141.36</td>\n",
       "    </tr>\n",
       "  </tbody>\n",
       "</table>\n",
       "</div>"
      ],
      "text/plain": [
       "      age     sex   bmi  children smoker     region  expenses\n",
       "1333   50    male  31.0         3     no  northwest  10600.55\n",
       "1334   18  female  31.9         0     no  northeast   2205.98\n",
       "1335   18  female  36.9         0     no  southeast   1629.83\n",
       "1336   21  female  25.8         0     no  southwest   2007.95\n",
       "1337   61  female  29.1         0    yes  northwest  29141.36"
      ]
     },
     "execution_count": 2,
     "metadata": {},
     "output_type": "execute_result"
    }
   ],
   "source": [
    "# Import data\n",
    "!wget \"https://cdn.freecodecamp.org/project-data/health-costs/insurance.csv\"\n",
    "# dataset_path = keras.utils.get_file(\"insurance.csv\", \"https://cdn.freecodecamp.org/project-data/health-costs/insurance.csv\")\n",
    "dataset_path = \"insurance.csv\"\n",
    "dataset = pd.read_csv(dataset_path)\n",
    "dataset.tail()"
   ]
  },
  {
   "cell_type": "code",
   "execution_count": 3,
   "metadata": {
    "colab": {
     "base_uri": "https://localhost:8080/",
     "height": 204
    },
    "id": "LcopvQh3X-kX",
    "outputId": "d4d529a5-3ec7-4011-c6c6-1478302d92e6"
   },
   "outputs": [
    {
     "data": {
      "text/html": [
       "<div>\n",
       "<style scoped>\n",
       "    .dataframe tbody tr th:only-of-type {\n",
       "        vertical-align: middle;\n",
       "    }\n",
       "\n",
       "    .dataframe tbody tr th {\n",
       "        vertical-align: top;\n",
       "    }\n",
       "\n",
       "    .dataframe thead th {\n",
       "        text-align: right;\n",
       "    }\n",
       "</style>\n",
       "<table border=\"1\" class=\"dataframe\">\n",
       "  <thead>\n",
       "    <tr style=\"text-align: right;\">\n",
       "      <th></th>\n",
       "      <th>age</th>\n",
       "      <th>bmi</th>\n",
       "      <th>children</th>\n",
       "      <th>expenses</th>\n",
       "      <th>sex_male</th>\n",
       "      <th>smoker_yes</th>\n",
       "      <th>region_northwest</th>\n",
       "      <th>region_southeast</th>\n",
       "      <th>region_southwest</th>\n",
       "    </tr>\n",
       "  </thead>\n",
       "  <tbody>\n",
       "    <tr>\n",
       "      <th>0</th>\n",
       "      <td>19</td>\n",
       "      <td>27.9</td>\n",
       "      <td>0</td>\n",
       "      <td>16884.92</td>\n",
       "      <td>False</td>\n",
       "      <td>True</td>\n",
       "      <td>False</td>\n",
       "      <td>False</td>\n",
       "      <td>True</td>\n",
       "    </tr>\n",
       "    <tr>\n",
       "      <th>1</th>\n",
       "      <td>18</td>\n",
       "      <td>33.8</td>\n",
       "      <td>1</td>\n",
       "      <td>1725.55</td>\n",
       "      <td>True</td>\n",
       "      <td>False</td>\n",
       "      <td>False</td>\n",
       "      <td>True</td>\n",
       "      <td>False</td>\n",
       "    </tr>\n",
       "    <tr>\n",
       "      <th>2</th>\n",
       "      <td>28</td>\n",
       "      <td>33.0</td>\n",
       "      <td>3</td>\n",
       "      <td>4449.46</td>\n",
       "      <td>True</td>\n",
       "      <td>False</td>\n",
       "      <td>False</td>\n",
       "      <td>True</td>\n",
       "      <td>False</td>\n",
       "    </tr>\n",
       "    <tr>\n",
       "      <th>3</th>\n",
       "      <td>33</td>\n",
       "      <td>22.7</td>\n",
       "      <td>0</td>\n",
       "      <td>21984.47</td>\n",
       "      <td>True</td>\n",
       "      <td>False</td>\n",
       "      <td>True</td>\n",
       "      <td>False</td>\n",
       "      <td>False</td>\n",
       "    </tr>\n",
       "    <tr>\n",
       "      <th>4</th>\n",
       "      <td>32</td>\n",
       "      <td>28.9</td>\n",
       "      <td>0</td>\n",
       "      <td>3866.86</td>\n",
       "      <td>True</td>\n",
       "      <td>False</td>\n",
       "      <td>True</td>\n",
       "      <td>False</td>\n",
       "      <td>False</td>\n",
       "    </tr>\n",
       "  </tbody>\n",
       "</table>\n",
       "</div>"
      ],
      "text/plain": [
       "   age   bmi  children  expenses  sex_male  smoker_yes  region_northwest  \\\n",
       "0   19  27.9         0  16884.92     False        True             False   \n",
       "1   18  33.8         1   1725.55      True       False             False   \n",
       "2   28  33.0         3   4449.46      True       False             False   \n",
       "3   33  22.7         0  21984.47      True       False              True   \n",
       "4   32  28.9         0   3866.86      True       False              True   \n",
       "\n",
       "   region_southeast  region_southwest  \n",
       "0             False              True  \n",
       "1              True             False  \n",
       "2              True             False  \n",
       "3             False             False  \n",
       "4             False             False  "
      ]
     },
     "execution_count": 3,
     "metadata": {},
     "output_type": "execute_result"
    }
   ],
   "source": [
    "catColumns = [\"sex\", \"smoker\", \"region\"]\n",
    "dataset = pd.get_dummies(dataset, columns = catColumns, drop_first=True)\n",
    "\n",
    "dataset.head()"
   ]
  },
  {
   "cell_type": "code",
   "execution_count": 4,
   "metadata": {
    "id": "uAOP0XLG73Pc"
   },
   "outputs": [],
   "source": [
    "train_dataset = dataset.sample(frac=0.8, random_state=0)\n",
    "test_dataset = dataset.drop(train_dataset.index)\n",
    "\n",
    "train_labels = train_dataset.pop(\"expenses\")\n",
    "test_labels = test_dataset.pop(\"expenses\")"
   ]
  },
  {
   "cell_type": "code",
   "execution_count": 5,
   "metadata": {
    "colab": {
     "base_uri": "https://localhost:8080/",
     "height": 297
    },
    "id": "ElUB_P7H76w4",
    "outputId": "014ae9de-afb9-4d71-f495-e3afda92b189"
   },
   "outputs": [
    {
     "data": {
      "text/html": [
       "<div>\n",
       "<style scoped>\n",
       "    .dataframe tbody tr th:only-of-type {\n",
       "        vertical-align: middle;\n",
       "    }\n",
       "\n",
       "    .dataframe tbody tr th {\n",
       "        vertical-align: top;\n",
       "    }\n",
       "\n",
       "    .dataframe thead th {\n",
       "        text-align: right;\n",
       "    }\n",
       "</style>\n",
       "<table border=\"1\" class=\"dataframe\">\n",
       "  <thead>\n",
       "    <tr style=\"text-align: right;\">\n",
       "      <th></th>\n",
       "      <th>count</th>\n",
       "      <th>mean</th>\n",
       "      <th>std</th>\n",
       "      <th>min</th>\n",
       "      <th>25%</th>\n",
       "      <th>50%</th>\n",
       "      <th>75%</th>\n",
       "      <th>max</th>\n",
       "    </tr>\n",
       "  </thead>\n",
       "  <tbody>\n",
       "    <tr>\n",
       "      <th>age</th>\n",
       "      <td>1070.0</td>\n",
       "      <td>39.036449</td>\n",
       "      <td>14.142122</td>\n",
       "      <td>18.0</td>\n",
       "      <td>26.0</td>\n",
       "      <td>39.0</td>\n",
       "      <td>51.0</td>\n",
       "      <td>64.0</td>\n",
       "    </tr>\n",
       "    <tr>\n",
       "      <th>bmi</th>\n",
       "      <td>1070.0</td>\n",
       "      <td>30.737290</td>\n",
       "      <td>6.065193</td>\n",
       "      <td>16.0</td>\n",
       "      <td>26.3</td>\n",
       "      <td>30.5</td>\n",
       "      <td>34.8</td>\n",
       "      <td>53.1</td>\n",
       "    </tr>\n",
       "    <tr>\n",
       "      <th>children</th>\n",
       "      <td>1070.0</td>\n",
       "      <td>1.093458</td>\n",
       "      <td>1.211364</td>\n",
       "      <td>0.0</td>\n",
       "      <td>0.0</td>\n",
       "      <td>1.0</td>\n",
       "      <td>2.0</td>\n",
       "      <td>5.0</td>\n",
       "    </tr>\n",
       "  </tbody>\n",
       "</table>\n",
       "</div>"
      ],
      "text/plain": [
       "           count       mean        std   min   25%   50%   75%   max\n",
       "age       1070.0  39.036449  14.142122  18.0  26.0  39.0  51.0  64.0\n",
       "bmi       1070.0  30.737290   6.065193  16.0  26.3  30.5  34.8  53.1\n",
       "children  1070.0   1.093458   1.211364   0.0   0.0   1.0   2.0   5.0"
      ]
     },
     "execution_count": 5,
     "metadata": {},
     "output_type": "execute_result"
    }
   ],
   "source": [
    "train_stats = train_dataset.describe()\n",
    "train_stats = train_stats.transpose()\n",
    "train_stats"
   ]
  },
  {
   "cell_type": "code",
   "execution_count": 6,
   "metadata": {
    "id": "UpFxK1wA82xo"
   },
   "outputs": [],
   "source": [
    "def norm(x):\n",
    "  return (x - train_stats['mean']) / train_stats['std']\n",
    "normed_train_data = norm(train_dataset)\n",
    "normed_test_data = norm(test_dataset)"
   ]
  },
  {
   "cell_type": "code",
   "execution_count": 7,
   "metadata": {
    "colab": {
     "base_uri": "https://localhost:8080/"
    },
    "id": "kmAi2_Y38P8T",
    "outputId": "49854ebc-2dc6-44b8-cd10-d149e23a768a"
   },
   "outputs": [
    {
     "name": "stdout",
     "output_type": "stream",
     "text": [
      "Model: \"sequential\"\n",
      "_________________________________________________________________\n",
      " Layer (type)                Output Shape              Param #   \n",
      "=================================================================\n",
      " dense (Dense)               (None, 128)               1152      \n",
      "                                                                 \n",
      " dense_1 (Dense)             (None, 64)                8256      \n",
      "                                                                 \n",
      " dense_2 (Dense)             (None, 64)                4160      \n",
      "                                                                 \n",
      " dense_3 (Dense)             (None, 32)                2080      \n",
      "                                                                 \n",
      " dense_4 (Dense)             (None, 16)                528       \n",
      "                                                                 \n",
      " dense_5 (Dense)             (None, 1)                 17        \n",
      "                                                                 \n",
      "=================================================================\n",
      "Total params: 16193 (63.25 KB)\n",
      "Trainable params: 16193 (63.25 KB)\n",
      "Non-trainable params: 0 (0.00 Byte)\n",
      "_________________________________________________________________\n"
     ]
    }
   ],
   "source": [
    "model = keras.Sequential([\n",
    "    layers.Dense(128, activation='relu', input_shape=[len(train_dataset.keys())]),\n",
    "    layers.Dense(64, activation='relu'),\n",
    "    layers.Dense(64, activation='relu'),\n",
    "    layers.Dense(32, activation='relu'),\n",
    "    layers.Dense(16, activation='relu'),\n",
    "    layers.Dense(1, activation='relu')\n",
    "  ])\n",
    "optimizer = tf.keras.optimizers.RMSprop()\n",
    "\n",
    "model.compile(loss='mae',\n",
    "              optimizer=optimizer,\n",
    "              metrics=['mae','mse'])\n",
    "model.summary()"
   ]
  },
  {
   "cell_type": "code",
   "execution_count": 12,
   "metadata": {
    "id": "pzNc4WvQ8btM"
   },
   "outputs": [
    {
     "name": "stdout",
     "output_type": "stream",
     "text": [
      "(1070, 8) (1070,)\n",
      "Epoch 1/1000\n",
      " 1/27 [>.............................] - ETA: 1:19 - loss: 10880.3691 - mae: 10880.3691 - mse: 231491536.0000INFO:tensorflow:Assets written to: .\\checkpoint\\assets\n"
     ]
    },
    {
     "name": "stderr",
     "output_type": "stream",
     "text": [
      "INFO:tensorflow:Assets written to: .\\checkpoint\\assets\n"
     ]
    },
    {
     "name": "stdout",
     "output_type": "stream",
     "text": [
      "27/27 [==============================] - 4s 50ms/step - loss: 12549.8232 - mae: 12549.8232 - mse: 297399168.0000 - val_loss: 13800.0000 - val_mae: 13800.0000 - val_mse: 344764288.0000\n",
      "Epoch 2/1000\n",
      "27/27 [==============================] - ETA: 0s - loss: 10711.8135 - mae: 10711.8135 - mse: 252002192.0000INFO:tensorflow:Assets written to: .\\checkpoint\\assets\n"
     ]
    },
    {
     "name": "stderr",
     "output_type": "stream",
     "text": [
      "INFO:tensorflow:Assets written to: .\\checkpoint\\assets\n"
     ]
    },
    {
     "name": "stdout",
     "output_type": "stream",
     "text": [
      "27/27 [==============================] - 1s 30ms/step - loss: 10711.8135 - mae: 10711.8135 - mse: 252002192.0000 - val_loss: 10009.8438 - val_mae: 10009.8438 - val_mse: 244530528.0000\n",
      "Epoch 3/1000\n",
      "26/27 [===========================>..] - ETA: 0s - loss: 7430.2197 - mae: 7430.2197 - mse: 158617152.0000INFO:tensorflow:Assets written to: .\\checkpoint\\assets\n"
     ]
    },
    {
     "name": "stderr",
     "output_type": "stream",
     "text": [
      "INFO:tensorflow:Assets written to: .\\checkpoint\\assets\n"
     ]
    },
    {
     "name": "stdout",
     "output_type": "stream",
     "text": [
      "27/27 [==============================] - 1s 28ms/step - loss: 7447.7080 - mae: 7447.7080 - mse: 160296960.0000 - val_loss: 7853.8477 - val_mae: 7853.8477 - val_mse: 176049904.0000\n",
      "Epoch 4/1000\n",
      " 1/27 [>.............................] - ETA: 0s - loss: 8479.1660 - mae: 8479.1660 - mse: 203224160.0000INFO:tensorflow:Assets written to: .\\checkpoint\\assets\n"
     ]
    },
    {
     "name": "stderr",
     "output_type": "stream",
     "text": [
      "INFO:tensorflow:Assets written to: .\\checkpoint\\assets\n"
     ]
    },
    {
     "name": "stdout",
     "output_type": "stream",
     "text": [
      "27/27 [==============================] - 1s 26ms/step - loss: 7078.2817 - mae: 7078.2817 - mse: 144738560.0000 - val_loss: 7778.3589 - val_mae: 7778.3589 - val_mse: 176752624.0000\n",
      "Epoch 5/1000\n",
      " 1/27 [>.............................] - ETA: 0s - loss: 6442.9702 - mae: 6442.9702 - mse: 128279136.0000INFO:tensorflow:Assets written to: .\\checkpoint\\assets\n"
     ]
    },
    {
     "name": "stderr",
     "output_type": "stream",
     "text": [
      "INFO:tensorflow:Assets written to: .\\checkpoint\\assets\n"
     ]
    },
    {
     "name": "stdout",
     "output_type": "stream",
     "text": [
      "27/27 [==============================] - 1s 28ms/step - loss: 6985.6011 - mae: 6985.6011 - mse: 145450368.0000 - val_loss: 7699.5527 - val_mae: 7699.5527 - val_mse: 175428080.0000\n",
      "Epoch 6/1000\n",
      " 1/27 [>.............................] - ETA: 0s - loss: 6864.5869 - mae: 6864.5869 - mse: 151235808.0000INFO:tensorflow:Assets written to: .\\checkpoint\\assets\n"
     ]
    },
    {
     "name": "stderr",
     "output_type": "stream",
     "text": [
      "INFO:tensorflow:Assets written to: .\\checkpoint\\assets\n"
     ]
    },
    {
     "name": "stdout",
     "output_type": "stream",
     "text": [
      "27/27 [==============================] - 1s 30ms/step - loss: 6888.9321 - mae: 6888.9321 - mse: 145152960.0000 - val_loss: 7653.6836 - val_mae: 7653.6836 - val_mse: 181946496.0000\n",
      "Epoch 7/1000\n",
      "25/27 [==========================>...] - ETA: 0s - loss: 6888.2104 - mae: 6888.2104 - mse: 148769520.0000INFO:tensorflow:Assets written to: .\\checkpoint\\assets\n"
     ]
    },
    {
     "name": "stderr",
     "output_type": "stream",
     "text": [
      "INFO:tensorflow:Assets written to: .\\checkpoint\\assets\n"
     ]
    },
    {
     "name": "stdout",
     "output_type": "stream",
     "text": [
      "27/27 [==============================] - 1s 29ms/step - loss: 6809.0898 - mae: 6809.0898 - mse: 147075792.0000 - val_loss: 7621.9873 - val_mae: 7621.9873 - val_mse: 185765216.0000\n",
      "Epoch 8/1000\n",
      " 1/27 [>.............................] - ETA: 0s - loss: 5894.1562 - mae: 5894.1562 - mse: 156927248.0000INFO:tensorflow:Assets written to: .\\checkpoint\\assets\n"
     ]
    },
    {
     "name": "stderr",
     "output_type": "stream",
     "text": [
      "INFO:tensorflow:Assets written to: .\\checkpoint\\assets\n"
     ]
    },
    {
     "name": "stdout",
     "output_type": "stream",
     "text": [
      "27/27 [==============================] - 1s 38ms/step - loss: 6706.3286 - mae: 6706.3286 - mse: 147320224.0000 - val_loss: 7486.8071 - val_mae: 7486.8071 - val_mse: 178507968.0000\n",
      "Epoch 9/1000\n",
      "22/27 [=======================>......] - ETA: 0s - loss: 6601.2886 - mae: 6601.2886 - mse: 145370240.0000INFO:tensorflow:Assets written to: .\\checkpoint\\assets\n"
     ]
    },
    {
     "name": "stderr",
     "output_type": "stream",
     "text": [
      "INFO:tensorflow:Assets written to: .\\checkpoint\\assets\n"
     ]
    },
    {
     "name": "stdout",
     "output_type": "stream",
     "text": [
      "27/27 [==============================] - 1s 29ms/step - loss: 6621.7642 - mae: 6621.7642 - mse: 148269408.0000 - val_loss: 7452.1104 - val_mae: 7452.1104 - val_mse: 188153104.0000\n",
      "Epoch 10/1000\n",
      "27/27 [==============================] - ETA: 0s - loss: 6524.7090 - mae: 6524.7090 - mse: 149775376.0000INFO:tensorflow:Assets written to: .\\checkpoint\\assets\n"
     ]
    },
    {
     "name": "stderr",
     "output_type": "stream",
     "text": [
      "INFO:tensorflow:Assets written to: .\\checkpoint\\assets\n"
     ]
    },
    {
     "name": "stdout",
     "output_type": "stream",
     "text": [
      "27/27 [==============================] - 1s 29ms/step - loss: 6524.7090 - mae: 6524.7090 - mse: 149775376.0000 - val_loss: 7422.6182 - val_mae: 7422.6182 - val_mse: 191659920.0000\n",
      "Epoch 11/1000\n",
      " 1/27 [>.............................] - ETA: 0s - loss: 4914.1431 - mae: 4914.1431 - mse: 122422040.0000INFO:tensorflow:Assets written to: .\\checkpoint\\assets\n"
     ]
    },
    {
     "name": "stderr",
     "output_type": "stream",
     "text": [
      "INFO:tensorflow:Assets written to: .\\checkpoint\\assets\n"
     ]
    },
    {
     "name": "stdout",
     "output_type": "stream",
     "text": [
      "27/27 [==============================] - 1s 29ms/step - loss: 6429.2563 - mae: 6429.2563 - mse: 151017248.0000 - val_loss: 7290.7847 - val_mae: 7290.7847 - val_mse: 190466048.0000\n",
      "Epoch 12/1000\n",
      " 1/27 [>.............................] - ETA: 0s - loss: 4669.9395 - mae: 4669.9395 - mse: 90056544.0000INFO:tensorflow:Assets written to: .\\checkpoint\\assets\n"
     ]
    },
    {
     "name": "stderr",
     "output_type": "stream",
     "text": [
      "INFO:tensorflow:Assets written to: .\\checkpoint\\assets\n"
     ]
    },
    {
     "name": "stdout",
     "output_type": "stream",
     "text": [
      "27/27 [==============================] - 1s 30ms/step - loss: 6375.1787 - mae: 6375.1787 - mse: 152013312.0000 - val_loss: 7228.5625 - val_mae: 7228.5625 - val_mse: 187390944.0000\n",
      "Epoch 13/1000\n",
      "27/27 [==============================] - 0s 4ms/step - loss: 6329.3296 - mae: 6329.3296 - mse: 152615920.0000 - val_loss: 7258.5083 - val_mae: 7258.5083 - val_mse: 193570784.0000\n",
      "Epoch 14/1000\n",
      " 1/27 [>.............................] - ETA: 0s - loss: 5870.2490 - mae: 5870.2490 - mse: 140853792.0000INFO:tensorflow:Assets written to: .\\checkpoint\\assets\n"
     ]
    },
    {
     "name": "stderr",
     "output_type": "stream",
     "text": [
      "INFO:tensorflow:Assets written to: .\\checkpoint\\assets\n"
     ]
    },
    {
     "name": "stdout",
     "output_type": "stream",
     "text": [
      "27/27 [==============================] - 1s 27ms/step - loss: 6306.0483 - mae: 6306.0483 - mse: 152853376.0000 - val_loss: 7183.7510 - val_mae: 7183.7510 - val_mse: 188382816.0000\n",
      "Epoch 15/1000\n",
      " 1/27 [>.............................] - ETA: 0s - loss: 3928.5854 - mae: 3928.5854 - mse: 72184664.0000INFO:tensorflow:Assets written to: .\\checkpoint\\assets\n"
     ]
    },
    {
     "name": "stderr",
     "output_type": "stream",
     "text": [
      "INFO:tensorflow:Assets written to: .\\checkpoint\\assets\n"
     ]
    },
    {
     "name": "stdout",
     "output_type": "stream",
     "text": [
      "27/27 [==============================] - 1s 27ms/step - loss: 6291.9893 - mae: 6291.9893 - mse: 151869552.0000 - val_loss: 7177.3657 - val_mae: 7177.3657 - val_mse: 189754896.0000\n",
      "Epoch 16/1000\n",
      " 1/27 [>.............................] - ETA: 0s - loss: 6078.6304 - mae: 6078.6304 - mse: 151017440.0000INFO:tensorflow:Assets written to: .\\checkpoint\\assets\n"
     ]
    },
    {
     "name": "stderr",
     "output_type": "stream",
     "text": [
      "INFO:tensorflow:Assets written to: .\\checkpoint\\assets\n"
     ]
    },
    {
     "name": "stdout",
     "output_type": "stream",
     "text": [
      "27/27 [==============================] - 1s 28ms/step - loss: 6275.0503 - mae: 6275.0503 - mse: 152567408.0000 - val_loss: 7155.5127 - val_mae: 7155.5127 - val_mse: 187220560.0000\n",
      "Epoch 17/1000\n",
      "27/27 [==============================] - 0s 3ms/step - loss: 6246.3613 - mae: 6246.3613 - mse: 152695200.0000 - val_loss: 7207.0098 - val_mae: 7207.0098 - val_mse: 182052896.0000\n",
      "Epoch 18/1000\n",
      "27/27 [==============================] - 0s 4ms/step - loss: 6245.1372 - mae: 6245.1372 - mse: 152506080.0000 - val_loss: 7184.2026 - val_mae: 7184.2026 - val_mse: 182106272.0000\n",
      "Epoch 19/1000\n",
      " 1/27 [>.............................] - ETA: 0s - loss: 8397.6582 - mae: 8397.6582 - mse: 229726432.0000INFO:tensorflow:Assets written to: .\\checkpoint\\assets\n"
     ]
    },
    {
     "name": "stderr",
     "output_type": "stream",
     "text": [
      "INFO:tensorflow:Assets written to: .\\checkpoint\\assets\n"
     ]
    },
    {
     "name": "stdout",
     "output_type": "stream",
     "text": [
      "27/27 [==============================] - 1s 37ms/step - loss: 6228.1035 - mae: 6228.1035 - mse: 150917328.0000 - val_loss: 7130.6768 - val_mae: 7130.6768 - val_mse: 190096992.0000\n",
      "Epoch 20/1000\n",
      "24/27 [=========================>....] - ETA: 0s - loss: 6148.1323 - mae: 6148.1323 - mse: 151323952.0000INFO:tensorflow:Assets written to: .\\checkpoint\\assets\n"
     ]
    },
    {
     "name": "stderr",
     "output_type": "stream",
     "text": [
      "INFO:tensorflow:Assets written to: .\\checkpoint\\assets\n"
     ]
    },
    {
     "name": "stdout",
     "output_type": "stream",
     "text": [
      "27/27 [==============================] - 1s 27ms/step - loss: 6205.7759 - mae: 6205.7759 - mse: 151069936.0000 - val_loss: 7128.2393 - val_mae: 7128.2393 - val_mse: 190793760.0000\n",
      "Epoch 21/1000\n",
      " 1/27 [>.............................] - ETA: 0s - loss: 5074.2451 - mae: 5074.2451 - mse: 141555968.0000INFO:tensorflow:Assets written to: .\\checkpoint\\assets\n"
     ]
    },
    {
     "name": "stderr",
     "output_type": "stream",
     "text": [
      "INFO:tensorflow:Assets written to: .\\checkpoint\\assets\n"
     ]
    },
    {
     "name": "stdout",
     "output_type": "stream",
     "text": [
      "27/27 [==============================] - 1s 25ms/step - loss: 6199.4619 - mae: 6199.4619 - mse: 150409760.0000 - val_loss: 7081.4883 - val_mae: 7081.4883 - val_mse: 184771520.0000\n",
      "Epoch 22/1000\n",
      "27/27 [==============================] - 0s 3ms/step - loss: 6189.2017 - mae: 6189.2017 - mse: 150222800.0000 - val_loss: 7370.4663 - val_mae: 7370.4663 - val_mse: 198104112.0000\n",
      "Epoch 23/1000\n",
      " 1/27 [>.............................] - ETA: 0s - loss: 4660.9399 - mae: 4660.9399 - mse: 89830576.0000INFO:tensorflow:Assets written to: .\\checkpoint\\assets\n"
     ]
    },
    {
     "name": "stderr",
     "output_type": "stream",
     "text": [
      "INFO:tensorflow:Assets written to: .\\checkpoint\\assets\n"
     ]
    },
    {
     "name": "stdout",
     "output_type": "stream",
     "text": [
      "27/27 [==============================] - 1s 25ms/step - loss: 6161.6484 - mae: 6161.6484 - mse: 150415696.0000 - val_loss: 7051.3271 - val_mae: 7051.3271 - val_mse: 184323888.0000\n",
      "Epoch 24/1000\n",
      " 1/27 [>.............................] - ETA: 0s - loss: 8721.0449 - mae: 8721.0449 - mse: 225549520.0000INFO:tensorflow:Assets written to: .\\checkpoint\\assets\n"
     ]
    },
    {
     "name": "stderr",
     "output_type": "stream",
     "text": [
      "INFO:tensorflow:Assets written to: .\\checkpoint\\assets\n"
     ]
    },
    {
     "name": "stdout",
     "output_type": "stream",
     "text": [
      "27/27 [==============================] - 1s 28ms/step - loss: 6149.5796 - mae: 6149.5796 - mse: 149207152.0000 - val_loss: 7038.0518 - val_mae: 7038.0518 - val_mse: 186108032.0000\n",
      "Epoch 25/1000\n",
      " 1/27 [>.............................] - ETA: 0s - loss: 4659.6387 - mae: 4659.6387 - mse: 95638080.0000INFO:tensorflow:Assets written to: .\\checkpoint\\assets\n"
     ]
    },
    {
     "name": "stderr",
     "output_type": "stream",
     "text": [
      "INFO:tensorflow:Assets written to: .\\checkpoint\\assets\n"
     ]
    },
    {
     "name": "stdout",
     "output_type": "stream",
     "text": [
      "27/27 [==============================] - 1s 26ms/step - loss: 6134.0527 - mae: 6134.0527 - mse: 148932336.0000 - val_loss: 7014.9756 - val_mae: 7014.9756 - val_mse: 183364576.0000\n",
      "Epoch 26/1000\n",
      "27/27 [==============================] - 0s 3ms/step - loss: 6115.3984 - mae: 6115.3984 - mse: 148332608.0000 - val_loss: 7023.8521 - val_mae: 7023.8521 - val_mse: 187243168.0000\n",
      "Epoch 27/1000\n",
      " 1/27 [>.............................] - ETA: 0s - loss: 5731.5596 - mae: 5731.5596 - mse: 162806848.0000INFO:tensorflow:Assets written to: .\\checkpoint\\assets\n"
     ]
    },
    {
     "name": "stderr",
     "output_type": "stream",
     "text": [
      "INFO:tensorflow:Assets written to: .\\checkpoint\\assets\n"
     ]
    },
    {
     "name": "stdout",
     "output_type": "stream",
     "text": [
      "27/27 [==============================] - 1s 25ms/step - loss: 6085.9165 - mae: 6085.9165 - mse: 148353232.0000 - val_loss: 6977.4702 - val_mae: 6977.4702 - val_mse: 180804720.0000\n",
      "Epoch 28/1000\n",
      " 1/27 [>.............................] - ETA: 0s - loss: 3884.2607 - mae: 3884.2607 - mse: 81805432.0000INFO:tensorflow:Assets written to: .\\checkpoint\\assets\n"
     ]
    },
    {
     "name": "stderr",
     "output_type": "stream",
     "text": [
      "INFO:tensorflow:Assets written to: .\\checkpoint\\assets\n"
     ]
    },
    {
     "name": "stdout",
     "output_type": "stream",
     "text": [
      "27/27 [==============================] - 1s 25ms/step - loss: 6078.1226 - mae: 6078.1226 - mse: 147111776.0000 - val_loss: 6954.5518 - val_mae: 6954.5518 - val_mse: 181264864.0000\n",
      "Epoch 29/1000\n",
      "27/27 [==============================] - 0s 3ms/step - loss: 6058.8989 - mae: 6058.8989 - mse: 146735808.0000 - val_loss: 7112.6050 - val_mae: 7112.6050 - val_mse: 190434576.0000\n",
      "Epoch 30/1000\n",
      " 1/27 [>.............................] - ETA: 0s - loss: 3356.9038 - mae: 3356.9038 - mse: 61454652.0000INFO:tensorflow:Assets written to: .\\checkpoint\\assets\n"
     ]
    },
    {
     "name": "stderr",
     "output_type": "stream",
     "text": [
      "INFO:tensorflow:Assets written to: .\\checkpoint\\assets\n"
     ]
    },
    {
     "name": "stdout",
     "output_type": "stream",
     "text": [
      "27/27 [==============================] - 1s 36ms/step - loss: 6044.3213 - mae: 6044.3213 - mse: 146280464.0000 - val_loss: 6918.4219 - val_mae: 6918.4219 - val_mse: 182447472.0000\n",
      "Epoch 31/1000\n",
      " 1/27 [>.............................] - ETA: 0s - loss: 5981.1792 - mae: 5981.1792 - mse: 146404768.0000INFO:tensorflow:Assets written to: .\\checkpoint\\assets\n"
     ]
    },
    {
     "name": "stderr",
     "output_type": "stream",
     "text": [
      "INFO:tensorflow:Assets written to: .\\checkpoint\\assets\n"
     ]
    },
    {
     "name": "stdout",
     "output_type": "stream",
     "text": [
      "27/27 [==============================] - 1s 27ms/step - loss: 6020.8027 - mae: 6020.8027 - mse: 144825312.0000 - val_loss: 6910.6401 - val_mae: 6910.6401 - val_mse: 183097456.0000\n",
      "Epoch 32/1000\n",
      " 1/27 [>.............................] - ETA: 0s - loss: 7110.0239 - mae: 7110.0239 - mse: 190026336.0000INFO:tensorflow:Assets written to: .\\checkpoint\\assets\n"
     ]
    },
    {
     "name": "stderr",
     "output_type": "stream",
     "text": [
      "INFO:tensorflow:Assets written to: .\\checkpoint\\assets\n"
     ]
    },
    {
     "name": "stdout",
     "output_type": "stream",
     "text": [
      "27/27 [==============================] - 1s 30ms/step - loss: 5990.3857 - mae: 5990.3857 - mse: 144147680.0000 - val_loss: 6852.6216 - val_mae: 6852.6216 - val_mse: 177381456.0000\n",
      "Epoch 33/1000\n",
      "27/27 [==============================] - 0s 4ms/step - loss: 5972.5874 - mae: 5972.5874 - mse: 142392288.0000 - val_loss: 7200.0654 - val_mae: 7200.0654 - val_mse: 190515376.0000\n",
      "Epoch 34/1000\n",
      "27/27 [==============================] - 0s 3ms/step - loss: 5953.0537 - mae: 5953.0537 - mse: 142408496.0000 - val_loss: 6889.5396 - val_mae: 6889.5396 - val_mse: 182861328.0000\n",
      "Epoch 35/1000\n",
      " 1/27 [>.............................] - ETA: 0s - loss: 9174.8887 - mae: 9174.8887 - mse: 240232880.0000INFO:tensorflow:Assets written to: .\\checkpoint\\assets\n"
     ]
    },
    {
     "name": "stderr",
     "output_type": "stream",
     "text": [
      "INFO:tensorflow:Assets written to: .\\checkpoint\\assets\n"
     ]
    },
    {
     "name": "stdout",
     "output_type": "stream",
     "text": [
      "27/27 [==============================] - 1s 27ms/step - loss: 5922.8813 - mae: 5922.8813 - mse: 141303696.0000 - val_loss: 6758.5352 - val_mae: 6758.5352 - val_mse: 172048000.0000\n",
      "Epoch 36/1000\n",
      " 1/27 [>.............................] - ETA: 0s - loss: 3543.6750 - mae: 3543.6750 - mse: 80188992.0000INFO:tensorflow:Assets written to: .\\checkpoint\\assets\n"
     ]
    },
    {
     "name": "stderr",
     "output_type": "stream",
     "text": [
      "INFO:tensorflow:Assets written to: .\\checkpoint\\assets\n"
     ]
    },
    {
     "name": "stdout",
     "output_type": "stream",
     "text": [
      "27/27 [==============================] - 1s 31ms/step - loss: 5918.5063 - mae: 5918.5063 - mse: 140545680.0000 - val_loss: 6720.8330 - val_mae: 6720.8330 - val_mse: 171354784.0000\n",
      "Epoch 37/1000\n",
      "27/27 [==============================] - 0s 3ms/step - loss: 5855.4502 - mae: 5855.4502 - mse: 139544112.0000 - val_loss: 6802.8481 - val_mae: 6802.8481 - val_mse: 163425552.0000\n",
      "Epoch 38/1000\n",
      "22/27 [=======================>......] - ETA: 0s - loss: 5598.5693 - mae: 5598.5693 - mse: 130791216.0000INFO:tensorflow:Assets written to: .\\checkpoint\\assets\n"
     ]
    },
    {
     "name": "stderr",
     "output_type": "stream",
     "text": [
      "INFO:tensorflow:Assets written to: .\\checkpoint\\assets\n"
     ]
    },
    {
     "name": "stdout",
     "output_type": "stream",
     "text": [
      "27/27 [==============================] - 1s 30ms/step - loss: 5842.0835 - mae: 5842.0835 - mse: 137531984.0000 - val_loss: 6670.3472 - val_mae: 6670.3472 - val_mse: 164847536.0000\n",
      "Epoch 39/1000\n",
      " 1/27 [>.............................] - ETA: 0s - loss: 8818.6924 - mae: 8818.6924 - mse: 212205376.0000INFO:tensorflow:Assets written to: .\\checkpoint\\assets\n"
     ]
    },
    {
     "name": "stderr",
     "output_type": "stream",
     "text": [
      "INFO:tensorflow:Assets written to: .\\checkpoint\\assets\n"
     ]
    },
    {
     "name": "stdout",
     "output_type": "stream",
     "text": [
      "27/27 [==============================] - 1s 28ms/step - loss: 5810.6816 - mae: 5810.6816 - mse: 135859456.0000 - val_loss: 6621.3535 - val_mae: 6621.3535 - val_mse: 171216416.0000\n",
      "Epoch 40/1000\n",
      " 1/27 [>.............................] - ETA: 0s - loss: 3806.4751 - mae: 3806.4751 - mse: 72596008.0000INFO:tensorflow:Assets written to: .\\checkpoint\\assets\n"
     ]
    },
    {
     "name": "stderr",
     "output_type": "stream",
     "text": [
      "INFO:tensorflow:Assets written to: .\\checkpoint\\assets\n"
     ]
    },
    {
     "name": "stdout",
     "output_type": "stream",
     "text": [
      "27/27 [==============================] - 1s 28ms/step - loss: 5755.2021 - mae: 5755.2021 - mse: 134839904.0000 - val_loss: 6559.3042 - val_mae: 6559.3042 - val_mse: 167827488.0000\n",
      "Epoch 41/1000\n",
      " 1/27 [>.............................] - ETA: 0s - loss: 4181.2554 - mae: 4181.2554 - mse: 66703032.0000INFO:tensorflow:Assets written to: .\\checkpoint\\assets\n"
     ]
    },
    {
     "name": "stderr",
     "output_type": "stream",
     "text": [
      "INFO:tensorflow:Assets written to: .\\checkpoint\\assets\n"
     ]
    },
    {
     "name": "stdout",
     "output_type": "stream",
     "text": [
      "27/27 [==============================] - 1s 35ms/step - loss: 5723.7983 - mae: 5723.7983 - mse: 132028384.0000 - val_loss: 6491.0034 - val_mae: 6491.0034 - val_mse: 163385728.0000\n",
      "Epoch 42/1000\n",
      " 1/27 [>.............................] - ETA: 0s - loss: 5847.1191 - mae: 5847.1191 - mse: 166074464.0000INFO:tensorflow:Assets written to: .\\checkpoint\\assets\n"
     ]
    },
    {
     "name": "stderr",
     "output_type": "stream",
     "text": [
      "INFO:tensorflow:Assets written to: .\\checkpoint\\assets\n"
     ]
    },
    {
     "name": "stdout",
     "output_type": "stream",
     "text": [
      "27/27 [==============================] - 1s 25ms/step - loss: 5684.8662 - mae: 5684.8662 - mse: 131626600.0000 - val_loss: 6440.5991 - val_mae: 6440.5991 - val_mse: 162011952.0000\n",
      "Epoch 43/1000\n",
      " 1/27 [>.............................] - ETA: 0s - loss: 6136.1885 - mae: 6136.1885 - mse: 139391472.0000INFO:tensorflow:Assets written to: .\\checkpoint\\assets\n"
     ]
    },
    {
     "name": "stderr",
     "output_type": "stream",
     "text": [
      "INFO:tensorflow:Assets written to: .\\checkpoint\\assets\n"
     ]
    },
    {
     "name": "stdout",
     "output_type": "stream",
     "text": [
      "27/27 [==============================] - 1s 26ms/step - loss: 5650.4517 - mae: 5650.4517 - mse: 129915944.0000 - val_loss: 6385.4375 - val_mae: 6385.4375 - val_mse: 159551264.0000\n",
      "Epoch 44/1000\n",
      "26/27 [===========================>..] - ETA: 0s - loss: 5562.4307 - mae: 5562.4307 - mse: 127442648.0000INFO:tensorflow:Assets written to: .\\checkpoint\\assets\n"
     ]
    },
    {
     "name": "stderr",
     "output_type": "stream",
     "text": [
      "INFO:tensorflow:Assets written to: .\\checkpoint\\assets\n"
     ]
    },
    {
     "name": "stdout",
     "output_type": "stream",
     "text": [
      "27/27 [==============================] - 1s 27ms/step - loss: 5592.0381 - mae: 5592.0381 - mse: 128108560.0000 - val_loss: 6305.4795 - val_mae: 6305.4795 - val_mse: 155865504.0000\n",
      "Epoch 45/1000\n",
      " 1/27 [>.............................] - ETA: 0s - loss: 5177.1836 - mae: 5177.1836 - mse: 90153296.0000INFO:tensorflow:Assets written to: .\\checkpoint\\assets\n"
     ]
    },
    {
     "name": "stderr",
     "output_type": "stream",
     "text": [
      "INFO:tensorflow:Assets written to: .\\checkpoint\\assets\n"
     ]
    },
    {
     "name": "stdout",
     "output_type": "stream",
     "text": [
      "27/27 [==============================] - 1s 26ms/step - loss: 5542.8950 - mae: 5542.8950 - mse: 126424008.0000 - val_loss: 6254.2197 - val_mae: 6254.2197 - val_mse: 148892544.0000\n",
      "Epoch 46/1000\n",
      " 1/27 [>.............................] - ETA: 0s - loss: 3652.6646 - mae: 3652.6646 - mse: 66451392.0000INFO:tensorflow:Assets written to: .\\checkpoint\\assets\n"
     ]
    },
    {
     "name": "stderr",
     "output_type": "stream",
     "text": [
      "INFO:tensorflow:Assets written to: .\\checkpoint\\assets\n"
     ]
    },
    {
     "name": "stdout",
     "output_type": "stream",
     "text": [
      "27/27 [==============================] - 1s 31ms/step - loss: 5458.4648 - mae: 5458.4648 - mse: 122528928.0000 - val_loss: 6145.6411 - val_mae: 6145.6411 - val_mse: 149437024.0000\n",
      "Epoch 47/1000\n",
      " 1/27 [>.............................] - ETA: 0s - loss: 9933.1055 - mae: 9933.1055 - mse: 275415232.0000INFO:tensorflow:Assets written to: .\\checkpoint\\assets\n"
     ]
    },
    {
     "name": "stderr",
     "output_type": "stream",
     "text": [
      "INFO:tensorflow:Assets written to: .\\checkpoint\\assets\n"
     ]
    },
    {
     "name": "stdout",
     "output_type": "stream",
     "text": [
      "27/27 [==============================] - 1s 28ms/step - loss: 5400.7104 - mae: 5400.7104 - mse: 118445816.0000 - val_loss: 6126.7319 - val_mae: 6126.7319 - val_mse: 149411072.0000\n",
      "Epoch 48/1000\n",
      "27/27 [==============================] - 0s 3ms/step - loss: 5306.2471 - mae: 5306.2471 - mse: 115060696.0000 - val_loss: 6258.3628 - val_mae: 6258.3628 - val_mse: 150465648.0000\n",
      "Epoch 49/1000\n",
      " 1/27 [>.............................] - ETA: 0s - loss: 4791.7168 - mae: 4791.7168 - mse: 96387968.0000INFO:tensorflow:Assets written to: .\\checkpoint\\assets\n"
     ]
    },
    {
     "name": "stderr",
     "output_type": "stream",
     "text": [
      "INFO:tensorflow:Assets written to: .\\checkpoint\\assets\n"
     ]
    },
    {
     "name": "stdout",
     "output_type": "stream",
     "text": [
      "27/27 [==============================] - 1s 30ms/step - loss: 5207.9907 - mae: 5207.9907 - mse: 111545168.0000 - val_loss: 5880.1304 - val_mae: 5880.1304 - val_mse: 126891728.0000\n",
      "Epoch 50/1000\n",
      "20/27 [=====================>........] - ETA: 0s - loss: 5180.6343 - mae: 5180.6343 - mse: 105993816.0000INFO:tensorflow:Assets written to: .\\checkpoint\\assets\n"
     ]
    },
    {
     "name": "stderr",
     "output_type": "stream",
     "text": [
      "INFO:tensorflow:Assets written to: .\\checkpoint\\assets\n"
     ]
    },
    {
     "name": "stdout",
     "output_type": "stream",
     "text": [
      "27/27 [==============================] - 1s 43ms/step - loss: 5065.9990 - mae: 5065.9990 - mse: 104688456.0000 - val_loss: 5579.0156 - val_mae: 5579.0156 - val_mse: 124721952.0000\n",
      "Epoch 51/1000\n",
      "27/27 [==============================] - ETA: 0s - loss: 4953.6079 - mae: 4953.6079 - mse: 99985024.0000INFO:tensorflow:Assets written to: .\\checkpoint\\assets\n"
     ]
    },
    {
     "name": "stderr",
     "output_type": "stream",
     "text": [
      "INFO:tensorflow:Assets written to: .\\checkpoint\\assets\n"
     ]
    },
    {
     "name": "stdout",
     "output_type": "stream",
     "text": [
      "27/27 [==============================] - 1s 29ms/step - loss: 4953.6079 - mae: 4953.6079 - mse: 99985024.0000 - val_loss: 5377.8506 - val_mae: 5377.8506 - val_mse: 117281336.0000\n",
      "Epoch 52/1000\n",
      "14/27 [==============>...............] - ETA: 0s - loss: 4584.4487 - mae: 4584.4487 - mse: 90142480.0000 INFO:tensorflow:Assets written to: .\\checkpoint\\assets\n"
     ]
    },
    {
     "name": "stderr",
     "output_type": "stream",
     "text": [
      "INFO:tensorflow:Assets written to: .\\checkpoint\\assets\n"
     ]
    },
    {
     "name": "stdout",
     "output_type": "stream",
     "text": [
      "27/27 [==============================] - 1s 28ms/step - loss: 4763.3774 - mae: 4763.3774 - mse: 93380016.0000 - val_loss: 5152.3032 - val_mae: 5152.3032 - val_mse: 110519424.0000\n",
      "Epoch 53/1000\n",
      " 1/27 [>.............................] - ETA: 0s - loss: 2525.3289 - mae: 2525.3289 - mse: 33358140.0000INFO:tensorflow:Assets written to: .\\checkpoint\\assets\n"
     ]
    },
    {
     "name": "stderr",
     "output_type": "stream",
     "text": [
      "INFO:tensorflow:Assets written to: .\\checkpoint\\assets\n"
     ]
    },
    {
     "name": "stdout",
     "output_type": "stream",
     "text": [
      "27/27 [==============================] - 1s 28ms/step - loss: 4623.6899 - mae: 4623.6899 - mse: 86512584.0000 - val_loss: 5030.7163 - val_mae: 5030.7163 - val_mse: 106905664.0000\n",
      "Epoch 54/1000\n",
      "17/27 [=================>............] - ETA: 0s - loss: 4235.6787 - mae: 4235.6787 - mse: 77547528.0000INFO:tensorflow:Assets written to: .\\checkpoint\\assets\n"
     ]
    },
    {
     "name": "stderr",
     "output_type": "stream",
     "text": [
      "INFO:tensorflow:Assets written to: .\\checkpoint\\assets\n"
     ]
    },
    {
     "name": "stdout",
     "output_type": "stream",
     "text": [
      "27/27 [==============================] - 1s 29ms/step - loss: 4389.5884 - mae: 4389.5884 - mse: 79725440.0000 - val_loss: 4730.8315 - val_mae: 4730.8315 - val_mse: 89468720.0000\n",
      "Epoch 55/1000\n",
      "27/27 [==============================] - 0s 3ms/step - loss: 4198.7969 - mae: 4198.7969 - mse: 73337888.0000 - val_loss: 4775.3643 - val_mae: 4775.3643 - val_mse: 93303944.0000\n",
      "Epoch 56/1000\n",
      " 1/27 [>.............................] - ETA: 0s - loss: 4015.1125 - mae: 4015.1125 - mse: 68497176.0000INFO:tensorflow:Assets written to: .\\checkpoint\\assets\n"
     ]
    },
    {
     "name": "stderr",
     "output_type": "stream",
     "text": [
      "INFO:tensorflow:Assets written to: .\\checkpoint\\assets\n"
     ]
    },
    {
     "name": "stdout",
     "output_type": "stream",
     "text": [
      "27/27 [==============================] - 1s 27ms/step - loss: 4018.6709 - mae: 4018.6709 - mse: 66621248.0000 - val_loss: 4282.5332 - val_mae: 4282.5332 - val_mse: 77428080.0000\n",
      "Epoch 57/1000\n",
      "27/27 [==============================] - 0s 3ms/step - loss: 3908.7585 - mae: 3908.7585 - mse: 60118552.0000 - val_loss: 4395.7407 - val_mae: 4395.7407 - val_mse: 66616096.0000\n",
      "Epoch 58/1000\n",
      "27/27 [==============================] - 0s 4ms/step - loss: 3817.3140 - mae: 3817.3140 - mse: 56614860.0000 - val_loss: 4336.9336 - val_mae: 4336.9336 - val_mse: 62501644.0000\n",
      "Epoch 59/1000\n",
      " 1/27 [>.............................] - ETA: 0s - loss: 3015.1262 - mae: 3015.1262 - mse: 28195644.0000INFO:tensorflow:Assets written to: .\\checkpoint\\assets\n"
     ]
    },
    {
     "name": "stderr",
     "output_type": "stream",
     "text": [
      "INFO:tensorflow:Assets written to: .\\checkpoint\\assets\n"
     ]
    },
    {
     "name": "stdout",
     "output_type": "stream",
     "text": [
      "27/27 [==============================] - 1s 30ms/step - loss: 3769.3174 - mae: 3769.3174 - mse: 56096628.0000 - val_loss: 4250.9453 - val_mae: 4250.9453 - val_mse: 70493904.0000\n",
      "Epoch 60/1000\n",
      "27/27 [==============================] - 0s 4ms/step - loss: 3694.2205 - mae: 3694.2205 - mse: 52902432.0000 - val_loss: 4354.4907 - val_mae: 4354.4907 - val_mse: 57567632.0000\n",
      "Epoch 61/1000\n",
      "27/27 [==============================] - ETA: 0s - loss: 3701.8635 - mae: 3701.8635 - mse: 52047868.0000INFO:tensorflow:Assets written to: .\\checkpoint\\assets\n"
     ]
    },
    {
     "name": "stderr",
     "output_type": "stream",
     "text": [
      "INFO:tensorflow:Assets written to: .\\checkpoint\\assets\n"
     ]
    },
    {
     "name": "stdout",
     "output_type": "stream",
     "text": [
      "27/27 [==============================] - 1s 29ms/step - loss: 3701.8635 - mae: 3701.8635 - mse: 52047868.0000 - val_loss: 3998.5308 - val_mae: 3998.5308 - val_mse: 64269076.0000\n",
      "Epoch 62/1000\n",
      "27/27 [==============================] - 0s 5ms/step - loss: 3594.3105 - mae: 3594.3105 - mse: 49116284.0000 - val_loss: 4107.1440 - val_mae: 4107.1436 - val_mse: 56158176.0000\n",
      "Epoch 63/1000\n",
      "27/27 [==============================] - 0s 4ms/step - loss: 3672.0769 - mae: 3672.0769 - mse: 49287992.0000 - val_loss: 4077.4714 - val_mae: 4077.4714 - val_mse: 54662392.0000\n",
      "Epoch 64/1000\n",
      " 1/27 [>.............................] - ETA: 0s - loss: 3974.8047 - mae: 3974.8047 - mse: 47282608.0000INFO:tensorflow:Assets written to: .\\checkpoint\\assets\n"
     ]
    },
    {
     "name": "stderr",
     "output_type": "stream",
     "text": [
      "INFO:tensorflow:Assets written to: .\\checkpoint\\assets\n"
     ]
    },
    {
     "name": "stdout",
     "output_type": "stream",
     "text": [
      "27/27 [==============================] - 1s 38ms/step - loss: 3620.1453 - mae: 3620.1453 - mse: 47883064.0000 - val_loss: 3955.0549 - val_mae: 3955.0549 - val_mse: 59474840.0000\n",
      "Epoch 65/1000\n",
      "27/27 [==============================] - 0s 3ms/step - loss: 3614.5842 - mae: 3614.5842 - mse: 46720368.0000 - val_loss: 4403.4541 - val_mae: 4403.4541 - val_mse: 48661424.0000\n",
      "Epoch 66/1000\n",
      " 1/27 [>.............................] - ETA: 0s - loss: 3897.0093 - mae: 3897.0093 - mse: 36230876.0000INFO:tensorflow:Assets written to: .\\checkpoint\\assets\n"
     ]
    },
    {
     "name": "stderr",
     "output_type": "stream",
     "text": [
      "INFO:tensorflow:Assets written to: .\\checkpoint\\assets\n"
     ]
    },
    {
     "name": "stdout",
     "output_type": "stream",
     "text": [
      "27/27 [==============================] - 1s 27ms/step - loss: 3513.6821 - mae: 3513.6821 - mse: 43946464.0000 - val_loss: 3814.8726 - val_mae: 3814.8726 - val_mse: 50459228.0000\n",
      "Epoch 67/1000\n",
      "27/27 [==============================] - 0s 3ms/step - loss: 3615.8530 - mae: 3615.8530 - mse: 43318596.0000 - val_loss: 4144.9517 - val_mae: 4144.9517 - val_mse: 46499652.0000\n",
      "Epoch 68/1000\n",
      "27/27 [==============================] - 0s 3ms/step - loss: 3598.4102 - mae: 3598.4102 - mse: 42640920.0000 - val_loss: 3963.5881 - val_mae: 3963.5881 - val_mse: 52729288.0000\n",
      "Epoch 69/1000\n",
      "27/27 [==============================] - 0s 3ms/step - loss: 3501.5718 - mae: 3501.5718 - mse: 42207248.0000 - val_loss: 3939.7317 - val_mae: 3939.7317 - val_mse: 44762916.0000\n",
      "Epoch 70/1000\n",
      "27/27 [==============================] - 0s 3ms/step - loss: 3485.7056 - mae: 3485.7056 - mse: 39443048.0000 - val_loss: 4048.8396 - val_mae: 4048.8396 - val_mse: 43752812.0000\n",
      "Epoch 71/1000\n",
      " 1/27 [>.............................] - ETA: 0s - loss: 4210.0977 - mae: 4210.0977 - mse: 38489236.0000INFO:tensorflow:Assets written to: .\\checkpoint\\assets\n"
     ]
    },
    {
     "name": "stderr",
     "output_type": "stream",
     "text": [
      "INFO:tensorflow:Assets written to: .\\checkpoint\\assets\n"
     ]
    },
    {
     "name": "stdout",
     "output_type": "stream",
     "text": [
      "27/27 [==============================] - 1s 29ms/step - loss: 3511.0549 - mae: 3511.0549 - mse: 38904064.0000 - val_loss: 3697.3140 - val_mae: 3697.3140 - val_mse: 46240136.0000\n",
      "Epoch 72/1000\n",
      "27/27 [==============================] - 0s 4ms/step - loss: 3464.2380 - mae: 3464.2380 - mse: 38693764.0000 - val_loss: 3716.4648 - val_mae: 3716.4648 - val_mse: 45544056.0000\n",
      "Epoch 73/1000\n",
      "27/27 [==============================] - 0s 3ms/step - loss: 3419.4316 - mae: 3419.4316 - mse: 37394624.0000 - val_loss: 4020.6724 - val_mae: 4020.6724 - val_mse: 46530040.0000\n",
      "Epoch 74/1000\n",
      " 1/27 [>.............................] - ETA: 0s - loss: 3949.6384 - mae: 3949.6384 - mse: 45186536.0000INFO:tensorflow:Assets written to: .\\checkpoint\\assets\n"
     ]
    },
    {
     "name": "stderr",
     "output_type": "stream",
     "text": [
      "INFO:tensorflow:Assets written to: .\\checkpoint\\assets\n"
     ]
    },
    {
     "name": "stdout",
     "output_type": "stream",
     "text": [
      "27/27 [==============================] - 1s 27ms/step - loss: 3455.2903 - mae: 3455.2903 - mse: 37626044.0000 - val_loss: 3665.4639 - val_mae: 3665.4639 - val_mse: 42094476.0000\n",
      "Epoch 75/1000\n",
      "27/27 [==============================] - 0s 3ms/step - loss: 3412.1204 - mae: 3412.1204 - mse: 37436740.0000 - val_loss: 3921.2637 - val_mae: 3921.2637 - val_mse: 45028508.0000\n",
      "Epoch 76/1000\n",
      " 1/27 [>.............................] - ETA: 0s - loss: 2812.5444 - mae: 2812.5444 - mse: 32058680.0000INFO:tensorflow:Assets written to: .\\checkpoint\\assets\n"
     ]
    },
    {
     "name": "stderr",
     "output_type": "stream",
     "text": [
      "INFO:tensorflow:Assets written to: .\\checkpoint\\assets\n"
     ]
    },
    {
     "name": "stdout",
     "output_type": "stream",
     "text": [
      "27/27 [==============================] - 1s 28ms/step - loss: 3406.3428 - mae: 3406.3428 - mse: 38220416.0000 - val_loss: 3563.9507 - val_mae: 3563.9507 - val_mse: 43170324.0000\n",
      "Epoch 77/1000\n",
      "27/27 [==============================] - 0s 3ms/step - loss: 3436.2539 - mae: 3436.2539 - mse: 38626312.0000 - val_loss: 3639.7886 - val_mae: 3639.7886 - val_mse: 42990196.0000\n",
      "Epoch 78/1000\n",
      "27/27 [==============================] - 0s 3ms/step - loss: 3384.7339 - mae: 3384.7339 - mse: 38884816.0000 - val_loss: 3668.5879 - val_mae: 3668.5879 - val_mse: 43523656.0000\n",
      "Epoch 79/1000\n",
      "27/27 [==============================] - 0s 6ms/step - loss: 3377.6101 - mae: 3377.6101 - mse: 39180908.0000 - val_loss: 3565.2800 - val_mae: 3565.2800 - val_mse: 44181776.0000\n",
      "Epoch 80/1000\n",
      " 1/27 [>.............................] - ETA: 0s - loss: 2215.1777 - mae: 2215.1777 - mse: 22549736.0000INFO:tensorflow:Assets written to: .\\checkpoint\\assets\n"
     ]
    },
    {
     "name": "stderr",
     "output_type": "stream",
     "text": [
      "INFO:tensorflow:Assets written to: .\\checkpoint\\assets\n"
     ]
    },
    {
     "name": "stdout",
     "output_type": "stream",
     "text": [
      "27/27 [==============================] - 1s 27ms/step - loss: 3289.4827 - mae: 3289.4827 - mse: 39669520.0000 - val_loss: 3545.5625 - val_mae: 3545.5623 - val_mse: 43406392.0000\n",
      "Epoch 81/1000\n",
      " 1/27 [>.............................] - ETA: 0s - loss: 3003.7561 - mae: 3003.7561 - mse: 32275360.0000INFO:tensorflow:Assets written to: .\\checkpoint\\assets\n"
     ]
    },
    {
     "name": "stderr",
     "output_type": "stream",
     "text": [
      "INFO:tensorflow:Assets written to: .\\checkpoint\\assets\n"
     ]
    },
    {
     "name": "stdout",
     "output_type": "stream",
     "text": [
      "27/27 [==============================] - 1s 25ms/step - loss: 3348.7952 - mae: 3348.7952 - mse: 39507144.0000 - val_loss: 3395.0225 - val_mae: 3395.0225 - val_mse: 44502912.0000\n",
      "Epoch 82/1000\n",
      "27/27 [==============================] - 0s 3ms/step - loss: 3283.4812 - mae: 3283.4812 - mse: 40220072.0000 - val_loss: 3411.8262 - val_mae: 3411.8262 - val_mse: 45855228.0000\n",
      "Epoch 83/1000\n",
      "27/27 [==============================] - 0s 3ms/step - loss: 3293.2825 - mae: 3293.2825 - mse: 41887232.0000 - val_loss: 3506.9265 - val_mae: 3506.9265 - val_mse: 46249992.0000\n",
      "Epoch 84/1000\n",
      "27/27 [==============================] - 0s 3ms/step - loss: 3249.9722 - mae: 3249.9722 - mse: 41289852.0000 - val_loss: 4065.6985 - val_mae: 4065.6985 - val_mse: 52566180.0000\n",
      "Epoch 85/1000\n",
      "27/27 [==============================] - 0s 3ms/step - loss: 3268.1445 - mae: 3268.1445 - mse: 41062356.0000 - val_loss: 3612.0679 - val_mae: 3612.0679 - val_mse: 45518656.0000\n",
      "Epoch 86/1000\n",
      "27/27 [==============================] - 0s 3ms/step - loss: 3254.6201 - mae: 3254.6201 - mse: 40356480.0000 - val_loss: 3602.9333 - val_mae: 3602.9333 - val_mse: 43899760.0000\n",
      "Epoch 87/1000\n",
      " 1/27 [>.............................] - ETA: 0s - loss: 2740.7368 - mae: 2740.7368 - mse: 26906194.0000INFO:tensorflow:Assets written to: .\\checkpoint\\assets\n"
     ]
    },
    {
     "name": "stderr",
     "output_type": "stream",
     "text": [
      "INFO:tensorflow:Assets written to: .\\checkpoint\\assets\n"
     ]
    },
    {
     "name": "stdout",
     "output_type": "stream",
     "text": [
      "27/27 [==============================] - 1s 25ms/step - loss: 3277.3362 - mae: 3277.3362 - mse: 41211792.0000 - val_loss: 3375.9875 - val_mae: 3375.9875 - val_mse: 43854656.0000\n",
      "Epoch 88/1000\n",
      " 1/27 [>.............................] - ETA: 0s - loss: 4627.3037 - mae: 4627.3037 - mse: 68840416.0000INFO:tensorflow:Assets written to: .\\checkpoint\\assets\n"
     ]
    },
    {
     "name": "stderr",
     "output_type": "stream",
     "text": [
      "INFO:tensorflow:Assets written to: .\\checkpoint\\assets\n"
     ]
    },
    {
     "name": "stdout",
     "output_type": "stream",
     "text": [
      "27/27 [==============================] - 1s 25ms/step - loss: 3249.4570 - mae: 3249.4570 - mse: 40619876.0000 - val_loss: 3264.2734 - val_mae: 3264.2734 - val_mse: 45696148.0000\n",
      "Epoch 89/1000\n",
      "27/27 [==============================] - 0s 5ms/step - loss: 3184.4126 - mae: 3184.4126 - mse: 40303552.0000 - val_loss: 3308.8328 - val_mae: 3308.8328 - val_mse: 44313204.0000\n",
      "Epoch 90/1000\n",
      "27/27 [==============================] - 0s 3ms/step - loss: 3237.4155 - mae: 3237.4155 - mse: 42000732.0000 - val_loss: 3794.6602 - val_mae: 3794.6602 - val_mse: 47853796.0000\n",
      "Epoch 91/1000\n",
      "27/27 [==============================] - 0s 3ms/step - loss: 3188.2456 - mae: 3188.2456 - mse: 40636228.0000 - val_loss: 3379.5383 - val_mae: 3379.5383 - val_mse: 46786756.0000\n",
      "Epoch 92/1000\n",
      "27/27 [==============================] - 0s 3ms/step - loss: 3236.1914 - mae: 3236.1914 - mse: 40519080.0000 - val_loss: 3573.1804 - val_mae: 3573.1804 - val_mse: 42586576.0000\n",
      "Epoch 93/1000\n",
      "27/27 [==============================] - 0s 3ms/step - loss: 3223.7893 - mae: 3223.7893 - mse: 41755444.0000 - val_loss: 3650.9905 - val_mae: 3650.9905 - val_mse: 47786472.0000\n",
      "Epoch 94/1000\n",
      " 1/27 [>.............................] - ETA: 0s - loss: 3679.4917 - mae: 3679.4917 - mse: 51146804.0000INFO:tensorflow:Assets written to: .\\checkpoint\\assets\n"
     ]
    },
    {
     "name": "stderr",
     "output_type": "stream",
     "text": [
      "INFO:tensorflow:Assets written to: .\\checkpoint\\assets\n"
     ]
    },
    {
     "name": "stdout",
     "output_type": "stream",
     "text": [
      "27/27 [==============================] - 1s 36ms/step - loss: 3239.4912 - mae: 3239.4912 - mse: 40751660.0000 - val_loss: 3253.1602 - val_mae: 3253.1602 - val_mse: 42466304.0000\n",
      "Epoch 95/1000\n",
      "27/27 [==============================] - 0s 3ms/step - loss: 3187.5190 - mae: 3187.5190 - mse: 40388588.0000 - val_loss: 3667.3210 - val_mae: 3667.3210 - val_mse: 46517784.0000\n",
      "Epoch 96/1000\n",
      " 1/27 [>.............................] - ETA: 0s - loss: 2707.7385 - mae: 2707.7385 - mse: 26760256.0000INFO:tensorflow:Assets written to: .\\checkpoint\\assets\n"
     ]
    },
    {
     "name": "stderr",
     "output_type": "stream",
     "text": [
      "INFO:tensorflow:Assets written to: .\\checkpoint\\assets\n"
     ]
    },
    {
     "name": "stdout",
     "output_type": "stream",
     "text": [
      "27/27 [==============================] - 1s 26ms/step - loss: 3217.3784 - mae: 3217.3784 - mse: 40529308.0000 - val_loss: 3250.7441 - val_mae: 3250.7441 - val_mse: 41404728.0000\n",
      "Epoch 97/1000\n",
      "27/27 [==============================] - 0s 3ms/step - loss: 3189.5674 - mae: 3189.5674 - mse: 40831048.0000 - val_loss: 3484.4895 - val_mae: 3484.4895 - val_mse: 44949524.0000\n",
      "Epoch 98/1000\n",
      " 1/27 [>.............................] - ETA: 0s - loss: 3193.5842 - mae: 3193.5842 - mse: 42754124.0000INFO:tensorflow:Assets written to: .\\checkpoint\\assets\n"
     ]
    },
    {
     "name": "stderr",
     "output_type": "stream",
     "text": [
      "INFO:tensorflow:Assets written to: .\\checkpoint\\assets\n"
     ]
    },
    {
     "name": "stdout",
     "output_type": "stream",
     "text": [
      "27/27 [==============================] - 1s 26ms/step - loss: 3159.4062 - mae: 3159.4062 - mse: 39545264.0000 - val_loss: 3211.1250 - val_mae: 3211.1250 - val_mse: 44571020.0000\n",
      "Epoch 99/1000\n",
      "19/27 [====================>.........] - ETA: 0s - loss: 3077.1384 - mae: 3077.1384 - mse: 38426156.0000INFO:tensorflow:Assets written to: .\\checkpoint\\assets\n"
     ]
    },
    {
     "name": "stderr",
     "output_type": "stream",
     "text": [
      "INFO:tensorflow:Assets written to: .\\checkpoint\\assets\n"
     ]
    },
    {
     "name": "stdout",
     "output_type": "stream",
     "text": [
      "27/27 [==============================] - 1s 28ms/step - loss: 3189.4795 - mae: 3189.4795 - mse: 40683200.0000 - val_loss: 3186.9541 - val_mae: 3186.9541 - val_mse: 42362324.0000\n",
      "Epoch 100/1000\n",
      "26/27 [===========================>..] - ETA: 0s - loss: 3166.3030 - mae: 3166.3030 - mse: 39650824.0000INFO:tensorflow:Assets written to: .\\checkpoint\\assets\n"
     ]
    },
    {
     "name": "stderr",
     "output_type": "stream",
     "text": [
      "INFO:tensorflow:Assets written to: .\\checkpoint\\assets\n"
     ]
    },
    {
     "name": "stdout",
     "output_type": "stream",
     "text": [
      "27/27 [==============================] - 1s 26ms/step - loss: 3128.0210 - mae: 3128.0210 - mse: 38920220.0000 - val_loss: 3175.3689 - val_mae: 3175.3689 - val_mse: 42663708.0000\n",
      "Epoch 101/1000\n",
      " 1/27 [>.............................] - ETA: 0s - loss: 3074.4370 - mae: 3074.4370 - mse: 38875072.0000INFO:tensorflow:Assets written to: .\\checkpoint\\assets\n"
     ]
    },
    {
     "name": "stderr",
     "output_type": "stream",
     "text": [
      "INFO:tensorflow:Assets written to: .\\checkpoint\\assets\n"
     ]
    },
    {
     "name": "stdout",
     "output_type": "stream",
     "text": [
      "27/27 [==============================] - 1s 26ms/step - loss: 3185.3645 - mae: 3185.3645 - mse: 40159308.0000 - val_loss: 3165.8071 - val_mae: 3165.8071 - val_mse: 40752344.0000\n",
      "Epoch 102/1000\n",
      "27/27 [==============================] - 0s 3ms/step - loss: 3171.0652 - mae: 3171.0652 - mse: 40046560.0000 - val_loss: 3216.7737 - val_mae: 3216.7737 - val_mse: 40668420.0000\n",
      "Epoch 103/1000\n",
      "27/27 [==============================] - 0s 3ms/step - loss: 3102.8948 - mae: 3102.8948 - mse: 38121100.0000 - val_loss: 3387.9087 - val_mae: 3387.9087 - val_mse: 41002320.0000\n",
      "Epoch 104/1000\n",
      "27/27 [==============================] - 0s 3ms/step - loss: 3197.5923 - mae: 3197.5923 - mse: 40023348.0000 - val_loss: 3184.1492 - val_mae: 3184.1492 - val_mse: 41904192.0000\n",
      "Epoch 105/1000\n",
      "27/27 [==============================] - 0s 4ms/step - loss: 3155.7759 - mae: 3155.7759 - mse: 39309468.0000 - val_loss: 3934.4744 - val_mae: 3934.4744 - val_mse: 41238328.0000\n",
      "Epoch 106/1000\n",
      " 1/27 [>.............................] - ETA: 0s - loss: 4454.3369 - mae: 4454.3369 - mse: 44244964.0000INFO:tensorflow:Assets written to: .\\checkpoint\\assets\n"
     ]
    },
    {
     "name": "stderr",
     "output_type": "stream",
     "text": [
      "INFO:tensorflow:Assets written to: .\\checkpoint\\assets\n"
     ]
    },
    {
     "name": "stdout",
     "output_type": "stream",
     "text": [
      "27/27 [==============================] - 1s 28ms/step - loss: 3145.6462 - mae: 3145.6462 - mse: 38861576.0000 - val_loss: 3105.1948 - val_mae: 3105.1948 - val_mse: 40924448.0000\n",
      "Epoch 107/1000\n",
      "27/27 [==============================] - 0s 3ms/step - loss: 3097.8079 - mae: 3097.8079 - mse: 38569856.0000 - val_loss: 3423.4246 - val_mae: 3423.4246 - val_mse: 38894688.0000\n",
      "Epoch 108/1000\n",
      "27/27 [==============================] - 0s 3ms/step - loss: 3118.2527 - mae: 3118.2527 - mse: 37887084.0000 - val_loss: 3131.4438 - val_mae: 3131.4438 - val_mse: 39964448.0000\n",
      "Epoch 109/1000\n",
      "27/27 [==============================] - 0s 3ms/step - loss: 3122.9866 - mae: 3122.9866 - mse: 37988444.0000 - val_loss: 3209.9536 - val_mae: 3209.9536 - val_mse: 40952872.0000\n",
      "Epoch 110/1000\n",
      "27/27 [==============================] - 0s 3ms/step - loss: 3174.1006 - mae: 3174.1006 - mse: 38998708.0000 - val_loss: 3199.1550 - val_mae: 3199.1550 - val_mse: 39524076.0000\n",
      "Epoch 111/1000\n",
      "27/27 [==============================] - 0s 3ms/step - loss: 3082.2825 - mae: 3082.2825 - mse: 38642924.0000 - val_loss: 3171.2439 - val_mae: 3171.2439 - val_mse: 39663988.0000\n",
      "Epoch 112/1000\n",
      " 1/27 [>.............................] - ETA: 0s - loss: 4393.1992 - mae: 4393.1992 - mse: 53998480.0000INFO:tensorflow:Assets written to: .\\checkpoint\\assets\n"
     ]
    },
    {
     "name": "stderr",
     "output_type": "stream",
     "text": [
      "INFO:tensorflow:Assets written to: .\\checkpoint\\assets\n"
     ]
    },
    {
     "name": "stdout",
     "output_type": "stream",
     "text": [
      "27/27 [==============================] - 1s 28ms/step - loss: 3134.2202 - mae: 3134.2202 - mse: 38366836.0000 - val_loss: 3028.5481 - val_mae: 3028.5481 - val_mse: 39561032.0000\n",
      "Epoch 113/1000\n",
      "27/27 [==============================] - 0s 3ms/step - loss: 3023.3052 - mae: 3023.3052 - mse: 37505384.0000 - val_loss: 3146.1069 - val_mae: 3146.1069 - val_mse: 39838188.0000\n",
      "Epoch 114/1000\n",
      "27/27 [==============================] - 0s 4ms/step - loss: 3135.1396 - mae: 3135.1396 - mse: 39246004.0000 - val_loss: 3547.4392 - val_mae: 3547.4392 - val_mse: 38212408.0000\n",
      "Epoch 115/1000\n",
      "27/27 [==============================] - 0s 3ms/step - loss: 3072.4153 - mae: 3072.4153 - mse: 37348452.0000 - val_loss: 3286.2229 - val_mae: 3286.2229 - val_mse: 40255948.0000\n",
      "Epoch 116/1000\n",
      "27/27 [==============================] - 0s 3ms/step - loss: 3079.5034 - mae: 3079.5034 - mse: 38728236.0000 - val_loss: 3290.3318 - val_mae: 3290.3318 - val_mse: 37414580.0000\n",
      "Epoch 117/1000\n",
      "27/27 [==============================] - 0s 5ms/step - loss: 3093.3062 - mae: 3093.3062 - mse: 37083824.0000 - val_loss: 3070.6101 - val_mae: 3070.6101 - val_mse: 36087948.0000\n",
      "Epoch 118/1000\n",
      "27/27 [==============================] - 0s 4ms/step - loss: 3057.2510 - mae: 3057.2510 - mse: 36762312.0000 - val_loss: 3245.7471 - val_mae: 3245.7471 - val_mse: 38105016.0000\n",
      "Epoch 119/1000\n",
      "27/27 [==============================] - 0s 4ms/step - loss: 3069.5732 - mae: 3069.5732 - mse: 37623280.0000 - val_loss: 3128.8562 - val_mae: 3128.8562 - val_mse: 36936044.0000\n",
      "Epoch 120/1000\n",
      "27/27 [==============================] - 0s 4ms/step - loss: 3043.3948 - mae: 3043.3948 - mse: 37363092.0000 - val_loss: 3335.0935 - val_mae: 3335.0935 - val_mse: 38896648.0000\n",
      "Epoch 121/1000\n",
      "27/27 [==============================] - 0s 4ms/step - loss: 3027.3303 - mae: 3027.3303 - mse: 37187320.0000 - val_loss: 3245.9971 - val_mae: 3245.9971 - val_mse: 36322748.0000\n",
      "Epoch 122/1000\n",
      " 1/27 [>.............................] - ETA: 0s - loss: 2800.0698 - mae: 2800.0698 - mse: 26502776.0000INFO:tensorflow:Assets written to: .\\checkpoint\\assets\n"
     ]
    },
    {
     "name": "stderr",
     "output_type": "stream",
     "text": [
      "INFO:tensorflow:Assets written to: .\\checkpoint\\assets\n"
     ]
    },
    {
     "name": "stdout",
     "output_type": "stream",
     "text": [
      "27/27 [==============================] - 1s 40ms/step - loss: 3002.1052 - mae: 3002.1052 - mse: 35850300.0000 - val_loss: 2957.5579 - val_mae: 2957.5579 - val_mse: 39480628.0000\n",
      "Epoch 123/1000\n",
      " 1/27 [>.............................] - ETA: 0s - loss: 3349.9092 - mae: 3349.9092 - mse: 43682004.0000INFO:tensorflow:Assets written to: .\\checkpoint\\assets\n"
     ]
    },
    {
     "name": "stderr",
     "output_type": "stream",
     "text": [
      "INFO:tensorflow:Assets written to: .\\checkpoint\\assets\n"
     ]
    },
    {
     "name": "stdout",
     "output_type": "stream",
     "text": [
      "27/27 [==============================] - 1s 29ms/step - loss: 3059.5173 - mae: 3059.5173 - mse: 37182908.0000 - val_loss: 2951.1875 - val_mae: 2951.1875 - val_mse: 36224288.0000\n",
      "Epoch 124/1000\n",
      "27/27 [==============================] - 0s 3ms/step - loss: 3010.0117 - mae: 3010.0117 - mse: 36430856.0000 - val_loss: 4148.0176 - val_mae: 4148.0176 - val_mse: 46392108.0000\n",
      "Epoch 125/1000\n",
      "27/27 [==============================] - 0s 4ms/step - loss: 3014.4980 - mae: 3014.4980 - mse: 36403324.0000 - val_loss: 3339.2131 - val_mae: 3339.2131 - val_mse: 35932032.0000\n",
      "Epoch 126/1000\n",
      "27/27 [==============================] - 0s 3ms/step - loss: 3000.7026 - mae: 3000.7026 - mse: 35690328.0000 - val_loss: 3338.7581 - val_mae: 3338.7581 - val_mse: 36153144.0000\n",
      "Epoch 127/1000\n",
      "27/27 [==============================] - 0s 4ms/step - loss: 3038.3049 - mae: 3038.3049 - mse: 36513064.0000 - val_loss: 2975.4614 - val_mae: 2975.4614 - val_mse: 34837696.0000\n",
      "Epoch 128/1000\n",
      "27/27 [==============================] - 0s 3ms/step - loss: 2949.3196 - mae: 2949.3196 - mse: 35358500.0000 - val_loss: 2993.9417 - val_mae: 2993.9417 - val_mse: 35095024.0000\n",
      "Epoch 129/1000\n",
      "27/27 [==============================] - 0s 4ms/step - loss: 3028.8635 - mae: 3028.8635 - mse: 35415740.0000 - val_loss: 3054.7056 - val_mae: 3054.7056 - val_mse: 34447204.0000\n",
      "Epoch 130/1000\n",
      " 1/27 [>.............................] - ETA: 0s - loss: 1344.3228 - mae: 1344.3228 - mse: 7277999.0000INFO:tensorflow:Assets written to: .\\checkpoint\\assets\n"
     ]
    },
    {
     "name": "stderr",
     "output_type": "stream",
     "text": [
      "INFO:tensorflow:Assets written to: .\\checkpoint\\assets\n"
     ]
    },
    {
     "name": "stdout",
     "output_type": "stream",
     "text": [
      "27/27 [==============================] - 1s 28ms/step - loss: 2990.7571 - mae: 2990.7571 - mse: 35986824.0000 - val_loss: 2875.9966 - val_mae: 2875.9966 - val_mse: 34053520.0000\n",
      "Epoch 131/1000\n",
      "27/27 [==============================] - 0s 3ms/step - loss: 2999.8008 - mae: 2999.8008 - mse: 35727720.0000 - val_loss: 2903.4792 - val_mae: 2903.4792 - val_mse: 33846692.0000\n",
      "Epoch 132/1000\n",
      "27/27 [==============================] - 0s 3ms/step - loss: 2938.0076 - mae: 2938.0076 - mse: 35490808.0000 - val_loss: 2979.6355 - val_mae: 2979.6355 - val_mse: 33748172.0000\n",
      "Epoch 133/1000\n",
      "27/27 [==============================] - 0s 3ms/step - loss: 2982.8179 - mae: 2982.8179 - mse: 36468336.0000 - val_loss: 3057.3101 - val_mae: 3057.3101 - val_mse: 34164392.0000\n",
      "Epoch 134/1000\n",
      "27/27 [==============================] - 0s 3ms/step - loss: 2967.1396 - mae: 2967.1396 - mse: 35226868.0000 - val_loss: 3108.4756 - val_mae: 3108.4756 - val_mse: 35877252.0000\n",
      "Epoch 135/1000\n",
      "27/27 [==============================] - 0s 3ms/step - loss: 2937.5713 - mae: 2937.5713 - mse: 35273736.0000 - val_loss: 3062.5935 - val_mae: 3062.5935 - val_mse: 33993188.0000\n",
      "Epoch 136/1000\n",
      " 1/27 [>.............................] - ETA: 0s - loss: 2780.6499 - mae: 2780.6499 - mse: 30216832.0000INFO:tensorflow:Assets written to: .\\checkpoint\\assets\n"
     ]
    },
    {
     "name": "stderr",
     "output_type": "stream",
     "text": [
      "INFO:tensorflow:Assets written to: .\\checkpoint\\assets\n"
     ]
    },
    {
     "name": "stdout",
     "output_type": "stream",
     "text": [
      "27/27 [==============================] - 1s 26ms/step - loss: 2936.6326 - mae: 2936.6326 - mse: 34990784.0000 - val_loss: 2847.4839 - val_mae: 2847.4839 - val_mse: 33693724.0000\n",
      "Epoch 137/1000\n",
      "17/27 [=================>............] - ETA: 0s - loss: 3062.4297 - mae: 3062.4297 - mse: 36899892.0000INFO:tensorflow:Assets written to: .\\checkpoint\\assets\n"
     ]
    },
    {
     "name": "stderr",
     "output_type": "stream",
     "text": [
      "INFO:tensorflow:Assets written to: .\\checkpoint\\assets\n"
     ]
    },
    {
     "name": "stdout",
     "output_type": "stream",
     "text": [
      "27/27 [==============================] - 1s 27ms/step - loss: 2918.5322 - mae: 2918.5322 - mse: 34925344.0000 - val_loss: 2771.0168 - val_mae: 2771.0168 - val_mse: 33806236.0000\n",
      "Epoch 138/1000\n",
      "27/27 [==============================] - 0s 3ms/step - loss: 2905.0403 - mae: 2905.0403 - mse: 34934256.0000 - val_loss: 3102.8613 - val_mae: 3102.8613 - val_mse: 33756668.0000\n",
      "Epoch 139/1000\n",
      "27/27 [==============================] - 0s 3ms/step - loss: 2931.4495 - mae: 2931.4495 - mse: 34940900.0000 - val_loss: 2803.3425 - val_mae: 2803.3425 - val_mse: 32272188.0000\n",
      "Epoch 140/1000\n",
      "27/27 [==============================] - 0s 3ms/step - loss: 2932.8018 - mae: 2932.8018 - mse: 34734624.0000 - val_loss: 2829.6621 - val_mae: 2829.6621 - val_mse: 31810292.0000\n",
      "Epoch 141/1000\n",
      "27/27 [==============================] - 0s 3ms/step - loss: 2919.4343 - mae: 2919.4343 - mse: 34031980.0000 - val_loss: 3351.5981 - val_mae: 3351.5981 - val_mse: 34472704.0000\n",
      "Epoch 142/1000\n",
      " 1/27 [>.............................] - ETA: 0s - loss: 3797.7637 - mae: 3797.7637 - mse: 52435848.0000INFO:tensorflow:Assets written to: .\\checkpoint\\assets\n"
     ]
    },
    {
     "name": "stderr",
     "output_type": "stream",
     "text": [
      "INFO:tensorflow:Assets written to: .\\checkpoint\\assets\n"
     ]
    },
    {
     "name": "stdout",
     "output_type": "stream",
     "text": [
      "27/27 [==============================] - 1s 25ms/step - loss: 2884.6311 - mae: 2884.6311 - mse: 34129404.0000 - val_loss: 2692.6069 - val_mae: 2692.6069 - val_mse: 32452840.0000\n",
      "Epoch 143/1000\n",
      "27/27 [==============================] - 0s 3ms/step - loss: 2893.8567 - mae: 2893.8567 - mse: 34479340.0000 - val_loss: 2778.3101 - val_mae: 2778.3101 - val_mse: 31249364.0000\n",
      "Epoch 144/1000\n",
      "27/27 [==============================] - 0s 3ms/step - loss: 2883.1416 - mae: 2883.1416 - mse: 34676436.0000 - val_loss: 2901.5193 - val_mae: 2901.5193 - val_mse: 32844130.0000\n",
      "Epoch 145/1000\n",
      "27/27 [==============================] - 0s 3ms/step - loss: 2833.9448 - mae: 2833.9448 - mse: 34069600.0000 - val_loss: 2788.1340 - val_mae: 2788.1340 - val_mse: 33058252.0000\n",
      "Epoch 146/1000\n",
      "27/27 [==============================] - 0s 3ms/step - loss: 2890.7361 - mae: 2890.7361 - mse: 34445660.0000 - val_loss: 2741.2026 - val_mae: 2741.2026 - val_mse: 32588998.0000\n",
      "Epoch 147/1000\n",
      "27/27 [==============================] - 0s 5ms/step - loss: 2827.3955 - mae: 2827.3955 - mse: 34732996.0000 - val_loss: 2970.4526 - val_mae: 2970.4526 - val_mse: 31173950.0000\n",
      "Epoch 148/1000\n",
      "18/27 [===================>..........] - ETA: 0s - loss: 2616.4387 - mae: 2616.4387 - mse: 28735830.0000INFO:tensorflow:Assets written to: .\\checkpoint\\assets\n"
     ]
    },
    {
     "name": "stderr",
     "output_type": "stream",
     "text": [
      "INFO:tensorflow:Assets written to: .\\checkpoint\\assets\n"
     ]
    },
    {
     "name": "stdout",
     "output_type": "stream",
     "text": [
      "27/27 [==============================] - 1s 28ms/step - loss: 2827.2966 - mae: 2827.2966 - mse: 33609000.0000 - val_loss: 2683.2407 - val_mae: 2683.2407 - val_mse: 31882068.0000\n",
      "Epoch 149/1000\n",
      "27/27 [==============================] - 0s 3ms/step - loss: 2887.2600 - mae: 2887.2600 - mse: 33952848.0000 - val_loss: 2981.3716 - val_mae: 2981.3716 - val_mse: 32557430.0000\n",
      "Epoch 150/1000\n",
      "27/27 [==============================] - 0s 3ms/step - loss: 2795.1470 - mae: 2795.1470 - mse: 33436968.0000 - val_loss: 2852.8962 - val_mae: 2852.8962 - val_mse: 31542288.0000\n",
      "Epoch 151/1000\n",
      "23/27 [========================>.....] - ETA: 0s - loss: 2911.5747 - mae: 2911.5747 - mse: 35061484.0000INFO:tensorflow:Assets written to: .\\checkpoint\\assets\n"
     ]
    },
    {
     "name": "stderr",
     "output_type": "stream",
     "text": [
      "INFO:tensorflow:Assets written to: .\\checkpoint\\assets\n"
     ]
    },
    {
     "name": "stdout",
     "output_type": "stream",
     "text": [
      "27/27 [==============================] - 1s 30ms/step - loss: 2914.1848 - mae: 2914.1848 - mse: 34243160.0000 - val_loss: 2668.1606 - val_mae: 2668.1606 - val_mse: 30795688.0000\n",
      "Epoch 152/1000\n",
      "27/27 [==============================] - 0s 3ms/step - loss: 2826.1892 - mae: 2826.1892 - mse: 33430328.0000 - val_loss: 2699.0420 - val_mae: 2699.0420 - val_mse: 30291728.0000\n",
      "Epoch 153/1000\n",
      "27/27 [==============================] - 0s 3ms/step - loss: 2779.4187 - mae: 2779.4187 - mse: 33961084.0000 - val_loss: 2931.6716 - val_mae: 2931.6716 - val_mse: 32907690.0000\n",
      "Epoch 154/1000\n",
      "27/27 [==============================] - 0s 4ms/step - loss: 2829.7881 - mae: 2829.7881 - mse: 34047120.0000 - val_loss: 2734.6997 - val_mae: 2734.6997 - val_mse: 32083756.0000\n",
      "Epoch 155/1000\n",
      "27/27 [==============================] - 0s 3ms/step - loss: 2818.0776 - mae: 2818.0776 - mse: 34195812.0000 - val_loss: 3489.6553 - val_mae: 3489.6553 - val_mse: 36818116.0000\n",
      "Epoch 156/1000\n",
      "27/27 [==============================] - 0s 5ms/step - loss: 2776.7991 - mae: 2776.7991 - mse: 33213578.0000 - val_loss: 2692.7312 - val_mae: 2692.7312 - val_mse: 31960248.0000\n",
      "Epoch 157/1000\n",
      "27/27 [==============================] - 0s 4ms/step - loss: 2763.8555 - mae: 2763.8555 - mse: 32447574.0000 - val_loss: 2678.8735 - val_mae: 2678.8735 - val_mse: 30792476.0000\n",
      "Epoch 158/1000\n",
      "27/27 [==============================] - 0s 3ms/step - loss: 2799.0471 - mae: 2799.0471 - mse: 33447908.0000 - val_loss: 2674.6140 - val_mae: 2674.6140 - val_mse: 30023316.0000\n",
      "Epoch 159/1000\n",
      "27/27 [==============================] - 0s 4ms/step - loss: 2738.7100 - mae: 2738.7100 - mse: 32432076.0000 - val_loss: 2713.7778 - val_mae: 2713.7778 - val_mse: 29793510.0000\n",
      "Epoch 160/1000\n",
      "27/27 [==============================] - 0s 3ms/step - loss: 2774.3096 - mae: 2774.3096 - mse: 32376186.0000 - val_loss: 2780.1040 - val_mae: 2780.1040 - val_mse: 30704574.0000\n",
      "Epoch 161/1000\n",
      " 1/27 [>.............................] - ETA: 0s - loss: 1073.3317 - mae: 1073.3317 - mse: 5632367.0000INFO:tensorflow:Assets written to: .\\checkpoint\\assets\n"
     ]
    },
    {
     "name": "stderr",
     "output_type": "stream",
     "text": [
      "INFO:tensorflow:Assets written to: .\\checkpoint\\assets\n"
     ]
    },
    {
     "name": "stdout",
     "output_type": "stream",
     "text": [
      "27/27 [==============================] - 1s 27ms/step - loss: 2744.8706 - mae: 2744.8706 - mse: 32703198.0000 - val_loss: 2577.6982 - val_mae: 2577.6982 - val_mse: 30106476.0000\n",
      "Epoch 162/1000\n",
      "27/27 [==============================] - 0s 3ms/step - loss: 2709.8159 - mae: 2709.8159 - mse: 32356276.0000 - val_loss: 3416.0815 - val_mae: 3416.0815 - val_mse: 34279656.0000\n",
      "Epoch 163/1000\n",
      "27/27 [==============================] - 0s 3ms/step - loss: 2694.2312 - mae: 2694.2312 - mse: 31338668.0000 - val_loss: 3290.6279 - val_mae: 3290.6279 - val_mse: 32757228.0000\n",
      "Epoch 164/1000\n",
      "27/27 [==============================] - 0s 3ms/step - loss: 2714.2542 - mae: 2714.2542 - mse: 32280212.0000 - val_loss: 2601.7117 - val_mae: 2601.7117 - val_mse: 29870230.0000\n",
      "Epoch 165/1000\n",
      "27/27 [==============================] - 0s 3ms/step - loss: 2726.4692 - mae: 2726.4692 - mse: 32443512.0000 - val_loss: 2702.0515 - val_mae: 2702.0515 - val_mse: 30539272.0000\n",
      "Epoch 166/1000\n",
      "27/27 [==============================] - 0s 3ms/step - loss: 2670.1611 - mae: 2670.1611 - mse: 32298790.0000 - val_loss: 2599.2854 - val_mae: 2599.2854 - val_mse: 29758014.0000\n",
      "Epoch 167/1000\n",
      "27/27 [==============================] - 0s 3ms/step - loss: 2697.0972 - mae: 2697.0972 - mse: 31672938.0000 - val_loss: 2983.2534 - val_mae: 2983.2534 - val_mse: 31393312.0000\n",
      "Epoch 168/1000\n",
      "27/27 [==============================] - 0s 3ms/step - loss: 2673.7681 - mae: 2673.7681 - mse: 31984798.0000 - val_loss: 2966.7056 - val_mae: 2966.7056 - val_mse: 31152472.0000\n",
      "Epoch 169/1000\n",
      "27/27 [==============================] - 0s 3ms/step - loss: 2684.3875 - mae: 2684.3875 - mse: 32139652.0000 - val_loss: 2606.6023 - val_mae: 2606.6023 - val_mse: 30665590.0000\n",
      "Epoch 170/1000\n",
      " 1/27 [>.............................] - ETA: 0s - loss: 2430.6865 - mae: 2430.6865 - mse: 28340080.0000INFO:tensorflow:Assets written to: .\\checkpoint\\assets\n"
     ]
    },
    {
     "name": "stderr",
     "output_type": "stream",
     "text": [
      "INFO:tensorflow:Assets written to: .\\checkpoint\\assets\n"
     ]
    },
    {
     "name": "stdout",
     "output_type": "stream",
     "text": [
      "27/27 [==============================] - 1s 38ms/step - loss: 2677.2681 - mae: 2677.2681 - mse: 31822394.0000 - val_loss: 2504.5193 - val_mae: 2504.5193 - val_mse: 29672504.0000\n",
      "Epoch 171/1000\n",
      "27/27 [==============================] - 0s 3ms/step - loss: 2683.0266 - mae: 2683.0266 - mse: 31801834.0000 - val_loss: 2674.5090 - val_mae: 2674.5090 - val_mse: 31485112.0000\n",
      "Epoch 172/1000\n",
      "27/27 [==============================] - 0s 3ms/step - loss: 2663.4863 - mae: 2663.4863 - mse: 32273844.0000 - val_loss: 2768.0144 - val_mae: 2768.0144 - val_mse: 31302714.0000\n",
      "Epoch 173/1000\n",
      " 1/27 [>.............................] - ETA: 0s - loss: 2194.3906 - mae: 2194.3906 - mse: 30213232.0000INFO:tensorflow:Assets written to: .\\checkpoint\\assets\n"
     ]
    },
    {
     "name": "stderr",
     "output_type": "stream",
     "text": [
      "INFO:tensorflow:Assets written to: .\\checkpoint\\assets\n"
     ]
    },
    {
     "name": "stdout",
     "output_type": "stream",
     "text": [
      "27/27 [==============================] - 1s 27ms/step - loss: 2600.3630 - mae: 2600.3630 - mse: 31551698.0000 - val_loss: 2477.7407 - val_mae: 2477.7407 - val_mse: 30534874.0000\n",
      "Epoch 174/1000\n",
      "27/27 [==============================] - 0s 6ms/step - loss: 2624.9167 - mae: 2624.9167 - mse: 31387924.0000 - val_loss: 2583.1873 - val_mae: 2583.1873 - val_mse: 30372486.0000\n",
      "Epoch 175/1000\n",
      "27/27 [==============================] - 0s 3ms/step - loss: 2628.6277 - mae: 2628.6277 - mse: 31784638.0000 - val_loss: 2915.6812 - val_mae: 2915.6812 - val_mse: 32832466.0000\n",
      "Epoch 176/1000\n",
      "27/27 [==============================] - 0s 3ms/step - loss: 2692.3923 - mae: 2692.3923 - mse: 31630738.0000 - val_loss: 2594.8142 - val_mae: 2594.8142 - val_mse: 28860608.0000\n",
      "Epoch 177/1000\n",
      "27/27 [==============================] - 0s 3ms/step - loss: 2595.5964 - mae: 2595.5964 - mse: 31375194.0000 - val_loss: 2583.6499 - val_mae: 2583.6499 - val_mse: 28786436.0000\n",
      "Epoch 178/1000\n",
      "27/27 [==============================] - 0s 3ms/step - loss: 2633.9998 - mae: 2633.9998 - mse: 31580084.0000 - val_loss: 2577.0354 - val_mae: 2577.0354 - val_mse: 30518062.0000\n",
      "Epoch 179/1000\n",
      "27/27 [==============================] - 0s 2ms/step - loss: 2594.2383 - mae: 2594.2383 - mse: 30710450.0000 - val_loss: 2575.1196 - val_mae: 2575.1196 - val_mse: 30070818.0000\n",
      "Epoch 180/1000\n",
      "27/27 [==============================] - 0s 3ms/step - loss: 2567.3293 - mae: 2567.3293 - mse: 30362134.0000 - val_loss: 2553.5044 - val_mae: 2553.5044 - val_mse: 30077752.0000\n",
      "Epoch 181/1000\n",
      "27/27 [==============================] - 0s 3ms/step - loss: 2563.9729 - mae: 2563.9729 - mse: 30893252.0000 - val_loss: 2479.1848 - val_mae: 2479.1848 - val_mse: 30736580.0000\n",
      "Epoch 182/1000\n",
      "27/27 [==============================] - 0s 3ms/step - loss: 2563.2439 - mae: 2563.2439 - mse: 30975266.0000 - val_loss: 2821.7024 - val_mae: 2821.7024 - val_mse: 28918092.0000\n",
      "Epoch 183/1000\n",
      "27/27 [==============================] - 0s 3ms/step - loss: 2615.2415 - mae: 2615.2415 - mse: 30881990.0000 - val_loss: 2635.0957 - val_mae: 2635.0957 - val_mse: 29518546.0000\n",
      "Epoch 184/1000\n",
      " 1/27 [>.............................] - ETA: 0s - loss: 3445.1760 - mae: 3445.1760 - mse: 48748064.0000INFO:tensorflow:Assets written to: .\\checkpoint\\assets\n"
     ]
    },
    {
     "name": "stderr",
     "output_type": "stream",
     "text": [
      "INFO:tensorflow:Assets written to: .\\checkpoint\\assets\n"
     ]
    },
    {
     "name": "stdout",
     "output_type": "stream",
     "text": [
      "27/27 [==============================] - 1s 26ms/step - loss: 2561.1621 - mae: 2561.1621 - mse: 30333998.0000 - val_loss: 2446.9199 - val_mae: 2446.9199 - val_mse: 28850920.0000\n",
      "Epoch 185/1000\n",
      "27/27 [==============================] - 0s 3ms/step - loss: 2598.9526 - mae: 2598.9526 - mse: 31208206.0000 - val_loss: 2727.6445 - val_mae: 2727.6445 - val_mse: 29631150.0000\n",
      "Epoch 186/1000\n",
      "27/27 [==============================] - 0s 5ms/step - loss: 2550.9927 - mae: 2550.9927 - mse: 30243384.0000 - val_loss: 2453.6523 - val_mae: 2453.6523 - val_mse: 29020560.0000\n",
      "Epoch 187/1000\n",
      "27/27 [==============================] - 0s 4ms/step - loss: 2541.6355 - mae: 2541.6355 - mse: 30040186.0000 - val_loss: 2452.6501 - val_mae: 2452.6501 - val_mse: 29730902.0000\n",
      "Epoch 188/1000\n",
      "27/27 [==============================] - 0s 3ms/step - loss: 2553.6321 - mae: 2553.6321 - mse: 30319460.0000 - val_loss: 2807.0149 - val_mae: 2807.0149 - val_mse: 30032066.0000\n",
      "Epoch 189/1000\n",
      "27/27 [==============================] - 0s 3ms/step - loss: 2544.7822 - mae: 2544.7822 - mse: 30093118.0000 - val_loss: 2449.5303 - val_mae: 2449.5303 - val_mse: 28523994.0000\n",
      "Epoch 190/1000\n",
      "27/27 [==============================] - 0s 5ms/step - loss: 2540.2161 - mae: 2540.2161 - mse: 30360512.0000 - val_loss: 2695.9971 - val_mae: 2695.9971 - val_mse: 29356706.0000\n",
      "Epoch 191/1000\n",
      "27/27 [==============================] - 0s 8ms/step - loss: 2536.6292 - mae: 2536.6292 - mse: 29538148.0000 - val_loss: 2493.7112 - val_mae: 2493.7112 - val_mse: 29194116.0000\n",
      "Epoch 192/1000\n",
      "27/27 [==============================] - 0s 8ms/step - loss: 2484.5891 - mae: 2484.5891 - mse: 29625768.0000 - val_loss: 2773.7756 - val_mae: 2773.7756 - val_mse: 29719676.0000\n",
      "Epoch 193/1000\n",
      "22/27 [=======================>......] - ETA: 0s - loss: 2535.5503 - mae: 2535.5503 - mse: 29691902.0000INFO:tensorflow:Assets written to: .\\checkpoint\\assets\n"
     ]
    },
    {
     "name": "stderr",
     "output_type": "stream",
     "text": [
      "INFO:tensorflow:Assets written to: .\\checkpoint\\assets\n"
     ]
    },
    {
     "name": "stdout",
     "output_type": "stream",
     "text": [
      "27/27 [==============================] - 1s 35ms/step - loss: 2537.7559 - mae: 2537.7559 - mse: 29898084.0000 - val_loss: 2427.1587 - val_mae: 2427.1587 - val_mse: 28268084.0000\n",
      "Epoch 194/1000\n",
      "27/27 [==============================] - 0s 3ms/step - loss: 2513.7236 - mae: 2513.7236 - mse: 29738060.0000 - val_loss: 3037.9644 - val_mae: 3037.9644 - val_mse: 30659714.0000\n",
      "Epoch 195/1000\n",
      "20/27 [=====================>........] - ETA: 0s - loss: 2501.0210 - mae: 2501.0210 - mse: 28750662.0000INFO:tensorflow:Assets written to: .\\checkpoint\\assets\n"
     ]
    },
    {
     "name": "stderr",
     "output_type": "stream",
     "text": [
      "INFO:tensorflow:Assets written to: .\\checkpoint\\assets\n"
     ]
    },
    {
     "name": "stdout",
     "output_type": "stream",
     "text": [
      "27/27 [==============================] - 1s 31ms/step - loss: 2574.4150 - mae: 2574.4150 - mse: 29909646.0000 - val_loss: 2411.8931 - val_mae: 2411.8931 - val_mse: 28294078.0000\n",
      "Epoch 196/1000\n",
      "27/27 [==============================] - 0s 4ms/step - loss: 2505.4854 - mae: 2505.4854 - mse: 30044868.0000 - val_loss: 2456.3264 - val_mae: 2456.3264 - val_mse: 28324690.0000\n",
      "Epoch 197/1000\n",
      "27/27 [==============================] - 0s 4ms/step - loss: 2517.5837 - mae: 2517.5837 - mse: 29707738.0000 - val_loss: 2758.9980 - val_mae: 2758.9980 - val_mse: 29252264.0000\n",
      "Epoch 198/1000\n",
      "27/27 [==============================] - 0s 3ms/step - loss: 2537.6833 - mae: 2537.6833 - mse: 29955186.0000 - val_loss: 2422.2988 - val_mae: 2422.2988 - val_mse: 27992162.0000\n",
      "Epoch 199/1000\n",
      "27/27 [==============================] - 0s 3ms/step - loss: 2474.3093 - mae: 2474.3093 - mse: 29495002.0000 - val_loss: 2827.6531 - val_mae: 2827.6531 - val_mse: 30125970.0000\n",
      "Epoch 200/1000\n",
      "27/27 [==============================] - 0s 3ms/step - loss: 2495.1318 - mae: 2495.1318 - mse: 29563482.0000 - val_loss: 2634.4773 - val_mae: 2634.4773 - val_mse: 28895040.0000\n",
      "Epoch 201/1000\n",
      "27/27 [==============================] - 0s 4ms/step - loss: 2478.0071 - mae: 2478.0071 - mse: 29214842.0000 - val_loss: 2498.7483 - val_mae: 2498.7483 - val_mse: 29189866.0000\n",
      "Epoch 202/1000\n",
      "27/27 [==============================] - 0s 3ms/step - loss: 2454.3628 - mae: 2454.3628 - mse: 29695952.0000 - val_loss: 2703.0994 - val_mae: 2703.0994 - val_mse: 28862298.0000\n",
      "Epoch 203/1000\n",
      "27/27 [==============================] - 0s 3ms/step - loss: 2488.5581 - mae: 2488.5581 - mse: 29344058.0000 - val_loss: 2453.5293 - val_mae: 2453.5293 - val_mse: 26982088.0000\n",
      "Epoch 204/1000\n",
      "27/27 [==============================] - 0s 3ms/step - loss: 2493.5688 - mae: 2493.5688 - mse: 29547804.0000 - val_loss: 2601.3914 - val_mae: 2601.3914 - val_mse: 27952676.0000\n",
      "Epoch 205/1000\n",
      "27/27 [==============================] - 0s 3ms/step - loss: 2498.5598 - mae: 2498.5598 - mse: 29427076.0000 - val_loss: 2486.4558 - val_mae: 2486.4558 - val_mse: 28630160.0000\n",
      "Epoch 206/1000\n",
      "27/27 [==============================] - 0s 3ms/step - loss: 2495.4973 - mae: 2495.4973 - mse: 29443410.0000 - val_loss: 2589.9875 - val_mae: 2589.9875 - val_mse: 28569390.0000\n",
      "Epoch 207/1000\n",
      "19/27 [====================>.........] - ETA: 0s - loss: 2353.6494 - mae: 2353.6494 - mse: 27427742.0000INFO:tensorflow:Assets written to: .\\checkpoint\\assets\n"
     ]
    },
    {
     "name": "stderr",
     "output_type": "stream",
     "text": [
      "INFO:tensorflow:Assets written to: .\\checkpoint\\assets\n"
     ]
    },
    {
     "name": "stdout",
     "output_type": "stream",
     "text": [
      "27/27 [==============================] - 1s 32ms/step - loss: 2433.5693 - mae: 2433.5693 - mse: 29394868.0000 - val_loss: 2335.5713 - val_mae: 2335.5713 - val_mse: 28395426.0000\n",
      "Epoch 208/1000\n",
      "27/27 [==============================] - 0s 4ms/step - loss: 2435.9180 - mae: 2435.9180 - mse: 28888466.0000 - val_loss: 2660.3855 - val_mae: 2660.3855 - val_mse: 28356414.0000\n",
      "Epoch 209/1000\n",
      "27/27 [==============================] - 0s 3ms/step - loss: 2430.7756 - mae: 2430.7756 - mse: 28558084.0000 - val_loss: 2550.0254 - val_mae: 2550.0254 - val_mse: 27719452.0000\n",
      "Epoch 210/1000\n",
      "27/27 [==============================] - 0s 4ms/step - loss: 2419.5649 - mae: 2419.5649 - mse: 28739694.0000 - val_loss: 2717.2004 - val_mae: 2717.2004 - val_mse: 28541608.0000\n",
      "Epoch 211/1000\n",
      "27/27 [==============================] - 0s 4ms/step - loss: 2449.9224 - mae: 2449.9224 - mse: 29399002.0000 - val_loss: 2438.4961 - val_mae: 2438.4961 - val_mse: 27547370.0000\n",
      "Epoch 212/1000\n",
      "27/27 [==============================] - 0s 4ms/step - loss: 2424.8103 - mae: 2424.8103 - mse: 28723286.0000 - val_loss: 2339.9351 - val_mae: 2339.9351 - val_mse: 26866546.0000\n",
      "Epoch 213/1000\n",
      " 1/27 [>.............................] - ETA: 0s - loss: 649.5743 - mae: 649.5743 - mse: 3851523.0000INFO:tensorflow:Assets written to: .\\checkpoint\\assets\n"
     ]
    },
    {
     "name": "stderr",
     "output_type": "stream",
     "text": [
      "INFO:tensorflow:Assets written to: .\\checkpoint\\assets\n"
     ]
    },
    {
     "name": "stdout",
     "output_type": "stream",
     "text": [
      "27/27 [==============================] - 1s 39ms/step - loss: 2476.9761 - mae: 2476.9761 - mse: 29217072.0000 - val_loss: 2327.1260 - val_mae: 2327.1260 - val_mse: 26701166.0000\n",
      "Epoch 214/1000\n",
      "27/27 [==============================] - 0s 4ms/step - loss: 2387.6565 - mae: 2387.6565 - mse: 28237434.0000 - val_loss: 2629.3855 - val_mae: 2629.3855 - val_mse: 28608704.0000\n",
      "Epoch 215/1000\n",
      " 1/27 [>.............................] - ETA: 0s - loss: 1871.4409 - mae: 1871.4409 - mse: 18186672.0000INFO:tensorflow:Assets written to: .\\checkpoint\\assets\n"
     ]
    },
    {
     "name": "stderr",
     "output_type": "stream",
     "text": [
      "INFO:tensorflow:Assets written to: .\\checkpoint\\assets\n"
     ]
    },
    {
     "name": "stdout",
     "output_type": "stream",
     "text": [
      "27/27 [==============================] - 1s 27ms/step - loss: 2420.8325 - mae: 2420.8325 - mse: 28719810.0000 - val_loss: 2290.4746 - val_mae: 2290.4746 - val_mse: 27866470.0000\n",
      "Epoch 216/1000\n",
      "27/27 [==============================] - 0s 4ms/step - loss: 2402.1848 - mae: 2402.1848 - mse: 28405332.0000 - val_loss: 2513.5352 - val_mae: 2513.5352 - val_mse: 26763814.0000\n",
      "Epoch 217/1000\n",
      "27/27 [==============================] - 0s 3ms/step - loss: 2402.3206 - mae: 2402.3206 - mse: 27913282.0000 - val_loss: 2338.0757 - val_mae: 2338.0757 - val_mse: 26771882.0000\n",
      "Epoch 218/1000\n",
      "27/27 [==============================] - 0s 3ms/step - loss: 2398.3652 - mae: 2398.3652 - mse: 28035190.0000 - val_loss: 2302.2222 - val_mae: 2302.2222 - val_mse: 26234866.0000\n",
      "Epoch 219/1000\n",
      " 1/27 [>.............................] - ETA: 0s - loss: 676.0911 - mae: 676.0911 - mse: 1315211.7500INFO:tensorflow:Assets written to: .\\checkpoint\\assets\n"
     ]
    },
    {
     "name": "stderr",
     "output_type": "stream",
     "text": [
      "INFO:tensorflow:Assets written to: .\\checkpoint\\assets\n"
     ]
    },
    {
     "name": "stdout",
     "output_type": "stream",
     "text": [
      "27/27 [==============================] - 2s 66ms/step - loss: 2408.8394 - mae: 2408.8394 - mse: 28401598.0000 - val_loss: 2289.3625 - val_mae: 2289.3625 - val_mse: 26560212.0000\n",
      "Epoch 220/1000\n",
      "27/27 [==============================] - 0s 3ms/step - loss: 2352.9270 - mae: 2352.9270 - mse: 28053062.0000 - val_loss: 2627.5403 - val_mae: 2627.5403 - val_mse: 27656432.0000\n",
      "Epoch 221/1000\n",
      "27/27 [==============================] - 0s 3ms/step - loss: 2425.7703 - mae: 2425.7703 - mse: 28242058.0000 - val_loss: 2398.5188 - val_mae: 2398.5188 - val_mse: 26824946.0000\n",
      "Epoch 222/1000\n",
      "27/27 [==============================] - 0s 3ms/step - loss: 2368.3547 - mae: 2368.3547 - mse: 27479962.0000 - val_loss: 2660.3391 - val_mae: 2660.3391 - val_mse: 26855268.0000\n",
      "Epoch 223/1000\n",
      "27/27 [==============================] - 0s 3ms/step - loss: 2345.8381 - mae: 2345.8381 - mse: 27346074.0000 - val_loss: 2566.1104 - val_mae: 2566.1104 - val_mse: 27314440.0000\n",
      "Epoch 224/1000\n",
      "27/27 [==============================] - 0s 3ms/step - loss: 2331.4585 - mae: 2331.4585 - mse: 26907650.0000 - val_loss: 2559.4573 - val_mae: 2559.4573 - val_mse: 27245710.0000\n",
      "Epoch 225/1000\n",
      "27/27 [==============================] - 0s 3ms/step - loss: 2306.2622 - mae: 2306.2622 - mse: 27003274.0000 - val_loss: 2843.6023 - val_mae: 2843.6023 - val_mse: 27583288.0000\n",
      "Epoch 226/1000\n",
      "27/27 [==============================] - 0s 4ms/step - loss: 2396.4170 - mae: 2396.4170 - mse: 27596804.0000 - val_loss: 2400.1738 - val_mae: 2400.1738 - val_mse: 26403154.0000\n",
      "Epoch 227/1000\n",
      "27/27 [==============================] - 0s 3ms/step - loss: 2356.3218 - mae: 2356.3218 - mse: 27321090.0000 - val_loss: 2837.0896 - val_mae: 2837.0896 - val_mse: 28306088.0000\n",
      "Epoch 228/1000\n",
      "27/27 [==============================] - 0s 3ms/step - loss: 2339.8730 - mae: 2339.8730 - mse: 26922976.0000 - val_loss: 2392.9954 - val_mae: 2392.9954 - val_mse: 26412670.0000\n",
      "Epoch 229/1000\n",
      "27/27 [==============================] - 0s 3ms/step - loss: 2322.0286 - mae: 2322.0286 - mse: 26847952.0000 - val_loss: 3486.5908 - val_mae: 3486.5908 - val_mse: 32818952.0000\n",
      "Epoch 230/1000\n",
      "27/27 [==============================] - 0s 3ms/step - loss: 2357.7742 - mae: 2357.7742 - mse: 27627694.0000 - val_loss: 2306.3992 - val_mae: 2306.3992 - val_mse: 26735340.0000\n",
      "Epoch 231/1000\n",
      "27/27 [==============================] - 0s 3ms/step - loss: 2313.2246 - mae: 2313.2246 - mse: 26883374.0000 - val_loss: 2465.9031 - val_mae: 2465.9031 - val_mse: 26497666.0000\n",
      "Epoch 232/1000\n",
      "27/27 [==============================] - 0s 3ms/step - loss: 2372.4526 - mae: 2372.4526 - mse: 27159428.0000 - val_loss: 2633.2229 - val_mae: 2633.2229 - val_mse: 25534844.0000\n",
      "Epoch 233/1000\n",
      " 1/27 [>.............................] - ETA: 0s - loss: 3442.9951 - mae: 3442.9951 - mse: 40871864.0000INFO:tensorflow:Assets written to: .\\checkpoint\\assets\n"
     ]
    },
    {
     "name": "stderr",
     "output_type": "stream",
     "text": [
      "INFO:tensorflow:Assets written to: .\\checkpoint\\assets\n"
     ]
    },
    {
     "name": "stdout",
     "output_type": "stream",
     "text": [
      "27/27 [==============================] - 1s 26ms/step - loss: 2317.2751 - mae: 2317.2751 - mse: 26219784.0000 - val_loss: 2216.7751 - val_mae: 2216.7751 - val_mse: 26138586.0000\n",
      "Epoch 234/1000\n",
      "27/27 [==============================] - 0s 4ms/step - loss: 2328.6443 - mae: 2328.6443 - mse: 27405090.0000 - val_loss: 2477.8679 - val_mae: 2477.8679 - val_mse: 26558584.0000\n",
      "Epoch 235/1000\n",
      "27/27 [==============================] - 0s 3ms/step - loss: 2337.5461 - mae: 2337.5461 - mse: 26616536.0000 - val_loss: 2396.6604 - val_mae: 2396.6604 - val_mse: 25557874.0000\n",
      "Epoch 236/1000\n",
      "27/27 [==============================] - 0s 3ms/step - loss: 2302.0439 - mae: 2302.0439 - mse: 26366888.0000 - val_loss: 2265.3740 - val_mae: 2265.3740 - val_mse: 25282220.0000\n",
      "Epoch 237/1000\n",
      " 1/27 [>.............................] - ETA: 0s - loss: 2709.5425 - mae: 2709.5425 - mse: 30306624.0000INFO:tensorflow:Assets written to: .\\checkpoint\\assets\n"
     ]
    },
    {
     "name": "stderr",
     "output_type": "stream",
     "text": [
      "INFO:tensorflow:Assets written to: .\\checkpoint\\assets\n"
     ]
    },
    {
     "name": "stdout",
     "output_type": "stream",
     "text": [
      "27/27 [==============================] - 1s 25ms/step - loss: 2287.6824 - mae: 2287.6824 - mse: 26575282.0000 - val_loss: 2163.9172 - val_mae: 2163.9172 - val_mse: 25617326.0000\n",
      "Epoch 238/1000\n",
      "27/27 [==============================] - 0s 3ms/step - loss: 2288.2800 - mae: 2288.2800 - mse: 26127004.0000 - val_loss: 2235.7476 - val_mae: 2235.7476 - val_mse: 25372938.0000\n",
      "Epoch 239/1000\n",
      "27/27 [==============================] - 0s 3ms/step - loss: 2321.3752 - mae: 2321.3752 - mse: 26332466.0000 - val_loss: 2370.6052 - val_mae: 2370.6052 - val_mse: 24965086.0000\n",
      "Epoch 240/1000\n",
      "27/27 [==============================] - 0s 3ms/step - loss: 2247.7273 - mae: 2247.7273 - mse: 25906660.0000 - val_loss: 2361.4331 - val_mae: 2361.4331 - val_mse: 24633792.0000\n",
      "Epoch 241/1000\n",
      "27/27 [==============================] - 0s 3ms/step - loss: 2285.3684 - mae: 2285.3684 - mse: 25806214.0000 - val_loss: 2669.5015 - val_mae: 2669.5015 - val_mse: 26942956.0000\n",
      "Epoch 242/1000\n",
      "27/27 [==============================] - 0s 4ms/step - loss: 2261.8853 - mae: 2261.8853 - mse: 26222758.0000 - val_loss: 2411.2783 - val_mae: 2411.2783 - val_mse: 25898976.0000\n",
      "Epoch 243/1000\n",
      "27/27 [==============================] - 0s 3ms/step - loss: 2279.8367 - mae: 2279.8367 - mse: 26344212.0000 - val_loss: 2261.3479 - val_mae: 2261.3479 - val_mse: 26108584.0000\n",
      "Epoch 244/1000\n",
      "27/27 [==============================] - 0s 3ms/step - loss: 2266.3821 - mae: 2266.3821 - mse: 25886418.0000 - val_loss: 2393.6182 - val_mae: 2393.6182 - val_mse: 26360164.0000\n",
      "Epoch 245/1000\n",
      "27/27 [==============================] - 0s 3ms/step - loss: 2252.7019 - mae: 2252.7019 - mse: 25750176.0000 - val_loss: 2391.7502 - val_mae: 2391.7502 - val_mse: 26164692.0000\n",
      "Epoch 246/1000\n",
      " 1/27 [>.............................] - ETA: 0s - loss: 2041.4860 - mae: 2041.4860 - mse: 18569986.0000INFO:tensorflow:Assets written to: .\\checkpoint\\assets\n"
     ]
    },
    {
     "name": "stderr",
     "output_type": "stream",
     "text": [
      "INFO:tensorflow:Assets written to: .\\checkpoint\\assets\n"
     ]
    },
    {
     "name": "stdout",
     "output_type": "stream",
     "text": [
      "27/27 [==============================] - 1s 27ms/step - loss: 2283.7964 - mae: 2283.7964 - mse: 25919688.0000 - val_loss: 2158.0662 - val_mae: 2158.0662 - val_mse: 24861600.0000\n",
      "Epoch 247/1000\n",
      "27/27 [==============================] - 0s 4ms/step - loss: 2239.7239 - mae: 2239.7239 - mse: 25763696.0000 - val_loss: 2365.2622 - val_mae: 2365.2622 - val_mse: 25407668.0000\n",
      "Epoch 248/1000\n",
      "27/27 [==============================] - 0s 3ms/step - loss: 2285.3523 - mae: 2285.3523 - mse: 25680588.0000 - val_loss: 2236.0498 - val_mae: 2236.0498 - val_mse: 25400662.0000\n",
      "Epoch 249/1000\n",
      "27/27 [==============================] - 0s 3ms/step - loss: 2233.2551 - mae: 2233.2551 - mse: 25856472.0000 - val_loss: 2384.4607 - val_mae: 2384.4607 - val_mse: 24284606.0000\n",
      "Epoch 250/1000\n",
      " 1/27 [>.............................] - ETA: 0s - loss: 1937.5696 - mae: 1937.5696 - mse: 19785052.0000INFO:tensorflow:Assets written to: .\\checkpoint\\assets\n"
     ]
    },
    {
     "name": "stderr",
     "output_type": "stream",
     "text": [
      "INFO:tensorflow:Assets written to: .\\checkpoint\\assets\n"
     ]
    },
    {
     "name": "stdout",
     "output_type": "stream",
     "text": [
      "27/27 [==============================] - 1s 27ms/step - loss: 2212.9138 - mae: 2212.9138 - mse: 24819692.0000 - val_loss: 2113.7065 - val_mae: 2113.7065 - val_mse: 24829976.0000\n",
      "Epoch 251/1000\n",
      "27/27 [==============================] - 0s 2ms/step - loss: 2225.3062 - mae: 2225.3062 - mse: 25186024.0000 - val_loss: 2315.4976 - val_mae: 2315.4976 - val_mse: 24227546.0000\n",
      "Epoch 252/1000\n",
      "27/27 [==============================] - 0s 3ms/step - loss: 2262.5842 - mae: 2262.5842 - mse: 25604840.0000 - val_loss: 2221.1194 - val_mae: 2221.1194 - val_mse: 24897626.0000\n",
      "Epoch 253/1000\n",
      "27/27 [==============================] - 0s 3ms/step - loss: 2235.3804 - mae: 2235.3804 - mse: 25552844.0000 - val_loss: 2323.1360 - val_mae: 2323.1360 - val_mse: 25190008.0000\n",
      "Epoch 254/1000\n",
      "27/27 [==============================] - 0s 4ms/step - loss: 2217.1619 - mae: 2217.1619 - mse: 25393226.0000 - val_loss: 2126.6116 - val_mae: 2126.6116 - val_mse: 24238472.0000\n",
      "Epoch 255/1000\n",
      "27/27 [==============================] - 0s 3ms/step - loss: 2221.0417 - mae: 2221.0417 - mse: 25379052.0000 - val_loss: 2117.7649 - val_mae: 2117.7649 - val_mse: 24264438.0000\n",
      "Epoch 256/1000\n",
      "27/27 [==============================] - 0s 3ms/step - loss: 2241.9636 - mae: 2241.9636 - mse: 25483200.0000 - val_loss: 2631.6147 - val_mae: 2631.6147 - val_mse: 26372886.0000\n",
      "Epoch 257/1000\n",
      "27/27 [==============================] - 0s 3ms/step - loss: 2204.3757 - mae: 2204.3757 - mse: 25310638.0000 - val_loss: 2475.7346 - val_mae: 2475.7346 - val_mse: 24135514.0000\n",
      "Epoch 258/1000\n",
      "27/27 [==============================] - 0s 3ms/step - loss: 2197.0684 - mae: 2197.0684 - mse: 25011274.0000 - val_loss: 2174.5149 - val_mae: 2174.5149 - val_mse: 23710264.0000\n",
      "Epoch 259/1000\n",
      "27/27 [==============================] - 0s 3ms/step - loss: 2187.6575 - mae: 2187.6575 - mse: 25033704.0000 - val_loss: 2845.1677 - val_mae: 2845.1677 - val_mse: 27998054.0000\n",
      "Epoch 260/1000\n",
      "27/27 [==============================] - 0s 3ms/step - loss: 2243.8540 - mae: 2243.8540 - mse: 24948724.0000 - val_loss: 2443.0024 - val_mae: 2443.0024 - val_mse: 25360648.0000\n",
      "Epoch 261/1000\n",
      "27/27 [==============================] - 0s 3ms/step - loss: 2199.9351 - mae: 2199.9351 - mse: 25280110.0000 - val_loss: 2426.7256 - val_mae: 2426.7256 - val_mse: 25407476.0000\n",
      "Epoch 262/1000\n",
      "27/27 [==============================] - 0s 3ms/step - loss: 2201.9775 - mae: 2201.9775 - mse: 24734394.0000 - val_loss: 2125.2229 - val_mae: 2125.2229 - val_mse: 23400618.0000\n",
      "Epoch 263/1000\n",
      "27/27 [==============================] - 0s 3ms/step - loss: 2190.9258 - mae: 2190.9258 - mse: 24617628.0000 - val_loss: 2501.3247 - val_mae: 2501.3247 - val_mse: 25662590.0000\n",
      "Epoch 264/1000\n",
      "27/27 [==============================] - 0s 3ms/step - loss: 2177.1055 - mae: 2177.1055 - mse: 24535050.0000 - val_loss: 2499.0972 - val_mae: 2499.0972 - val_mse: 25256638.0000\n",
      "Epoch 265/1000\n",
      "27/27 [==============================] - 0s 3ms/step - loss: 2161.8616 - mae: 2161.8616 - mse: 24752162.0000 - val_loss: 2233.6328 - val_mae: 2233.6328 - val_mse: 23274962.0000\n",
      "Epoch 266/1000\n",
      "27/27 [==============================] - 0s 3ms/step - loss: 2200.7207 - mae: 2200.7207 - mse: 25117444.0000 - val_loss: 2416.1084 - val_mae: 2416.1084 - val_mse: 23505660.0000\n",
      "Epoch 267/1000\n",
      "27/27 [==============================] - 0s 3ms/step - loss: 2153.4021 - mae: 2153.4021 - mse: 24373414.0000 - val_loss: 2144.6208 - val_mae: 2144.6208 - val_mse: 23652580.0000\n",
      "Epoch 268/1000\n",
      "27/27 [==============================] - 0s 3ms/step - loss: 2152.6218 - mae: 2152.6218 - mse: 24331450.0000 - val_loss: 2124.6433 - val_mae: 2124.6433 - val_mse: 23575440.0000\n",
      "Epoch 269/1000\n",
      "27/27 [==============================] - 0s 3ms/step - loss: 2163.3447 - mae: 2163.3447 - mse: 24163918.0000 - val_loss: 2221.0300 - val_mae: 2221.0300 - val_mse: 23767738.0000\n",
      "Epoch 270/1000\n",
      "27/27 [==============================] - 0s 3ms/step - loss: 2131.0005 - mae: 2131.0005 - mse: 24053058.0000 - val_loss: 2226.4082 - val_mae: 2226.4082 - val_mse: 22837642.0000\n",
      "Epoch 271/1000\n",
      "27/27 [==============================] - 0s 3ms/step - loss: 2174.2666 - mae: 2174.2666 - mse: 24324840.0000 - val_loss: 2355.1096 - val_mae: 2355.1096 - val_mse: 24985380.0000\n",
      "Epoch 272/1000\n",
      "27/27 [==============================] - 0s 3ms/step - loss: 2202.4119 - mae: 2202.4119 - mse: 24565186.0000 - val_loss: 2203.1267 - val_mae: 2203.1267 - val_mse: 22962884.0000\n",
      "Epoch 273/1000\n",
      "27/27 [==============================] - 0s 3ms/step - loss: 2151.2622 - mae: 2151.2622 - mse: 24028728.0000 - val_loss: 2156.3789 - val_mae: 2156.3789 - val_mse: 22977918.0000\n",
      "Epoch 274/1000\n",
      "27/27 [==============================] - 0s 3ms/step - loss: 2120.8184 - mae: 2120.8184 - mse: 24002816.0000 - val_loss: 2147.7971 - val_mae: 2147.7971 - val_mse: 22879366.0000\n",
      "Epoch 275/1000\n",
      "27/27 [==============================] - 0s 3ms/step - loss: 2167.3638 - mae: 2167.3638 - mse: 23755906.0000 - val_loss: 2528.6045 - val_mae: 2528.6045 - val_mse: 25190752.0000\n",
      "Epoch 276/1000\n",
      " 1/27 [>.............................] - ETA: 0s - loss: 3773.3899 - mae: 3773.3899 - mse: 52214564.0000INFO:tensorflow:Assets written to: .\\checkpoint\\assets\n"
     ]
    },
    {
     "name": "stderr",
     "output_type": "stream",
     "text": [
      "INFO:tensorflow:Assets written to: .\\checkpoint\\assets\n"
     ]
    },
    {
     "name": "stdout",
     "output_type": "stream",
     "text": [
      "27/27 [==============================] - 1s 28ms/step - loss: 2164.0430 - mae: 2164.0430 - mse: 23837712.0000 - val_loss: 2050.1055 - val_mae: 2050.1055 - val_mse: 23926378.0000\n",
      "Epoch 277/1000\n",
      "27/27 [==============================] - 0s 4ms/step - loss: 2164.3906 - mae: 2164.3906 - mse: 24142572.0000 - val_loss: 2237.4622 - val_mae: 2237.4622 - val_mse: 23410970.0000\n",
      "Epoch 278/1000\n",
      "27/27 [==============================] - 0s 3ms/step - loss: 2135.2207 - mae: 2135.2207 - mse: 23864176.0000 - val_loss: 2146.5317 - val_mae: 2146.5317 - val_mse: 23553058.0000\n",
      "Epoch 279/1000\n",
      "27/27 [==============================] - 0s 3ms/step - loss: 2131.4700 - mae: 2131.4700 - mse: 23640682.0000 - val_loss: 2367.0430 - val_mae: 2367.0430 - val_mse: 23045134.0000\n",
      "Epoch 280/1000\n",
      "27/27 [==============================] - 0s 5ms/step - loss: 2189.9028 - mae: 2189.9028 - mse: 24054624.0000 - val_loss: 2438.8167 - val_mae: 2438.8167 - val_mse: 24487256.0000\n",
      "Epoch 281/1000\n",
      "27/27 [==============================] - 0s 3ms/step - loss: 2153.5920 - mae: 2153.5920 - mse: 24074154.0000 - val_loss: 2081.3362 - val_mae: 2081.3362 - val_mse: 22772626.0000\n",
      "Epoch 282/1000\n",
      "27/27 [==============================] - 0s 3ms/step - loss: 2127.1660 - mae: 2127.1660 - mse: 23755894.0000 - val_loss: 2455.0110 - val_mae: 2455.0110 - val_mse: 24773008.0000\n",
      "Epoch 283/1000\n",
      "27/27 [==============================] - 0s 3ms/step - loss: 2147.4729 - mae: 2147.4729 - mse: 23903788.0000 - val_loss: 2145.9917 - val_mae: 2145.9917 - val_mse: 22302952.0000\n",
      "Epoch 284/1000\n",
      "25/27 [==========================>...] - ETA: 0s - loss: 2139.7244 - mae: 2139.7244 - mse: 23507528.0000INFO:tensorflow:Assets written to: .\\checkpoint\\assets\n"
     ]
    },
    {
     "name": "stderr",
     "output_type": "stream",
     "text": [
      "INFO:tensorflow:Assets written to: .\\checkpoint\\assets\n"
     ]
    },
    {
     "name": "stdout",
     "output_type": "stream",
     "text": [
      "27/27 [==============================] - 1s 30ms/step - loss: 2134.1709 - mae: 2134.1709 - mse: 23695800.0000 - val_loss: 2031.2798 - val_mae: 2031.2798 - val_mse: 22592036.0000\n",
      "Epoch 285/1000\n",
      "27/27 [==============================] - 0s 3ms/step - loss: 2109.5483 - mae: 2109.5483 - mse: 23479416.0000 - val_loss: 2418.5049 - val_mae: 2418.5049 - val_mse: 24458838.0000\n",
      "Epoch 286/1000\n",
      " 1/27 [>.............................] - ETA: 0s - loss: 3636.1885 - mae: 3636.1885 - mse: 54836076.0000INFO:tensorflow:Assets written to: .\\checkpoint\\assets\n"
     ]
    },
    {
     "name": "stderr",
     "output_type": "stream",
     "text": [
      "INFO:tensorflow:Assets written to: .\\checkpoint\\assets\n"
     ]
    },
    {
     "name": "stdout",
     "output_type": "stream",
     "text": [
      "27/27 [==============================] - 1s 29ms/step - loss: 2130.4080 - mae: 2130.4080 - mse: 23537010.0000 - val_loss: 2019.3906 - val_mae: 2019.3906 - val_mse: 22662874.0000\n",
      "Epoch 287/1000\n",
      "27/27 [==============================] - 0s 3ms/step - loss: 2077.3420 - mae: 2077.3420 - mse: 22936370.0000 - val_loss: 2422.7727 - val_mae: 2422.7727 - val_mse: 22054644.0000\n",
      "Epoch 288/1000\n",
      " 1/27 [>.............................] - ETA: 0s - loss: 3209.5652 - mae: 3209.5652 - mse: 32829048.0000INFO:tensorflow:Assets written to: .\\checkpoint\\assets\n"
     ]
    },
    {
     "name": "stderr",
     "output_type": "stream",
     "text": [
      "INFO:tensorflow:Assets written to: .\\checkpoint\\assets\n"
     ]
    },
    {
     "name": "stdout",
     "output_type": "stream",
     "text": [
      "27/27 [==============================] - 2s 58ms/step - loss: 2087.1558 - mae: 2087.1558 - mse: 23223898.0000 - val_loss: 1982.7336 - val_mae: 1982.7336 - val_mse: 22867516.0000\n",
      "Epoch 289/1000\n",
      "27/27 [==============================] - 0s 4ms/step - loss: 2074.9431 - mae: 2074.9431 - mse: 23487222.0000 - val_loss: 2200.2266 - val_mae: 2200.2266 - val_mse: 22238724.0000\n",
      "Epoch 290/1000\n",
      "27/27 [==============================] - 0s 3ms/step - loss: 2091.7539 - mae: 2091.7539 - mse: 22896956.0000 - val_loss: 2189.0125 - val_mae: 2189.0125 - val_mse: 22213592.0000\n",
      "Epoch 291/1000\n",
      "27/27 [==============================] - 0s 3ms/step - loss: 2107.4795 - mae: 2107.4795 - mse: 23352218.0000 - val_loss: 2184.8193 - val_mae: 2184.8193 - val_mse: 23302072.0000\n",
      "Epoch 292/1000\n",
      "27/27 [==============================] - 0s 3ms/step - loss: 2095.8569 - mae: 2095.8569 - mse: 22927384.0000 - val_loss: 2232.7000 - val_mae: 2232.7000 - val_mse: 22799814.0000\n",
      "Epoch 293/1000\n",
      "27/27 [==============================] - 0s 3ms/step - loss: 2093.5381 - mae: 2093.5381 - mse: 23477728.0000 - val_loss: 2227.0554 - val_mae: 2227.0554 - val_mse: 22914112.0000\n",
      "Epoch 294/1000\n",
      "27/27 [==============================] - 0s 4ms/step - loss: 2125.4934 - mae: 2125.4934 - mse: 23467930.0000 - val_loss: 2256.0876 - val_mae: 2256.0876 - val_mse: 21662474.0000\n",
      "Epoch 295/1000\n",
      "27/27 [==============================] - 0s 3ms/step - loss: 2118.7607 - mae: 2118.7607 - mse: 23351170.0000 - val_loss: 2359.6519 - val_mae: 2359.6519 - val_mse: 23755412.0000\n",
      "Epoch 296/1000\n",
      "27/27 [==============================] - 0s 3ms/step - loss: 2107.4275 - mae: 2107.4275 - mse: 23132634.0000 - val_loss: 2094.4043 - val_mae: 2094.4043 - val_mse: 23236984.0000\n",
      "Epoch 297/1000\n",
      " 1/27 [>.............................] - ETA: 0s - loss: 2740.8843 - mae: 2740.8843 - mse: 35227712.0000INFO:tensorflow:Assets written to: .\\checkpoint\\assets\n"
     ]
    },
    {
     "name": "stderr",
     "output_type": "stream",
     "text": [
      "INFO:tensorflow:Assets written to: .\\checkpoint\\assets\n"
     ]
    },
    {
     "name": "stdout",
     "output_type": "stream",
     "text": [
      "27/27 [==============================] - 1s 25ms/step - loss: 2067.0991 - mae: 2067.0991 - mse: 22710688.0000 - val_loss: 1966.8271 - val_mae: 1966.8271 - val_mse: 21916928.0000\n",
      "Epoch 298/1000\n",
      " 1/27 [>.............................] - ETA: 0s - loss: 1299.7788 - mae: 1299.7788 - mse: 9451543.0000INFO:tensorflow:Assets written to: .\\checkpoint\\assets\n"
     ]
    },
    {
     "name": "stderr",
     "output_type": "stream",
     "text": [
      "INFO:tensorflow:Assets written to: .\\checkpoint\\assets\n"
     ]
    },
    {
     "name": "stdout",
     "output_type": "stream",
     "text": [
      "27/27 [==============================] - 1s 26ms/step - loss: 2084.3130 - mae: 2084.3130 - mse: 22764018.0000 - val_loss: 1961.5243 - val_mae: 1961.5243 - val_mse: 22054756.0000\n",
      "Epoch 299/1000\n",
      "27/27 [==============================] - 0s 3ms/step - loss: 2061.3931 - mae: 2061.3931 - mse: 22512014.0000 - val_loss: 2459.2637 - val_mae: 2459.2637 - val_mse: 24132144.0000\n",
      "Epoch 300/1000\n",
      "27/27 [==============================] - 0s 3ms/step - loss: 2130.2290 - mae: 2130.2290 - mse: 23538494.0000 - val_loss: 2116.2073 - val_mae: 2116.2073 - val_mse: 21771688.0000\n",
      "Epoch 301/1000\n",
      "27/27 [==============================] - 0s 3ms/step - loss: 2094.9851 - mae: 2094.9851 - mse: 22659132.0000 - val_loss: 2082.0710 - val_mae: 2082.0710 - val_mse: 23765114.0000\n",
      "Epoch 302/1000\n",
      "27/27 [==============================] - 0s 3ms/step - loss: 2054.5139 - mae: 2054.5139 - mse: 22702008.0000 - val_loss: 2184.4099 - val_mae: 2184.4099 - val_mse: 21396140.0000\n",
      "Epoch 303/1000\n",
      "27/27 [==============================] - 0s 4ms/step - loss: 2088.4929 - mae: 2088.4929 - mse: 22755658.0000 - val_loss: 2218.2483 - val_mae: 2218.2483 - val_mse: 23149556.0000\n",
      "Epoch 304/1000\n",
      "27/27 [==============================] - 0s 3ms/step - loss: 2036.5021 - mae: 2036.5021 - mse: 22641308.0000 - val_loss: 2182.9001 - val_mae: 2182.9001 - val_mse: 22021024.0000\n",
      "Epoch 305/1000\n",
      "27/27 [==============================] - 0s 3ms/step - loss: 2072.5923 - mae: 2072.5923 - mse: 22559272.0000 - val_loss: 2138.4460 - val_mae: 2138.4460 - val_mse: 22871264.0000\n",
      "Epoch 306/1000\n",
      "27/27 [==============================] - 0s 3ms/step - loss: 2039.8997 - mae: 2039.8997 - mse: 22356344.0000 - val_loss: 2242.6487 - val_mae: 2242.6487 - val_mse: 23098198.0000\n",
      "Epoch 307/1000\n",
      "27/27 [==============================] - 0s 3ms/step - loss: 2038.7275 - mae: 2038.7275 - mse: 22212020.0000 - val_loss: 2046.4637 - val_mae: 2046.4637 - val_mse: 23163292.0000\n",
      "Epoch 308/1000\n",
      "27/27 [==============================] - 0s 3ms/step - loss: 2069.5601 - mae: 2069.5601 - mse: 22849714.0000 - val_loss: 2064.0388 - val_mae: 2064.0388 - val_mse: 21480278.0000\n",
      "Epoch 309/1000\n",
      "27/27 [==============================] - 0s 3ms/step - loss: 2089.8479 - mae: 2089.8479 - mse: 22575662.0000 - val_loss: 1978.5372 - val_mae: 1978.5372 - val_mse: 21563436.0000\n",
      "Epoch 310/1000\n",
      "27/27 [==============================] - 0s 3ms/step - loss: 2057.0415 - mae: 2057.0415 - mse: 22643684.0000 - val_loss: 2087.1760 - val_mae: 2087.1760 - val_mse: 21425100.0000\n",
      "Epoch 311/1000\n",
      "27/27 [==============================] - 0s 3ms/step - loss: 2013.8790 - mae: 2013.8790 - mse: 22328032.0000 - val_loss: 2648.1880 - val_mae: 2648.1880 - val_mse: 25295996.0000\n",
      "Epoch 312/1000\n",
      " 1/27 [>.............................] - ETA: 0s - loss: 2889.9714 - mae: 2889.9714 - mse: 25582030.0000INFO:tensorflow:Assets written to: .\\checkpoint\\assets\n"
     ]
    },
    {
     "name": "stderr",
     "output_type": "stream",
     "text": [
      "INFO:tensorflow:Assets written to: .\\checkpoint\\assets\n"
     ]
    },
    {
     "name": "stdout",
     "output_type": "stream",
     "text": [
      "27/27 [==============================] - 1s 26ms/step - loss: 2068.9365 - mae: 2068.9365 - mse: 22447956.0000 - val_loss: 1937.6423 - val_mae: 1937.6423 - val_mse: 21607338.0000\n",
      "Epoch 313/1000\n",
      "27/27 [==============================] - 0s 5ms/step - loss: 2066.9521 - mae: 2066.9521 - mse: 22680848.0000 - val_loss: 2131.0398 - val_mae: 2131.0398 - val_mse: 22713368.0000\n",
      "Epoch 314/1000\n",
      "27/27 [==============================] - 0s 3ms/step - loss: 2017.7781 - mae: 2017.7781 - mse: 22157746.0000 - val_loss: 2266.4946 - val_mae: 2266.4946 - val_mse: 23204050.0000\n",
      "Epoch 315/1000\n",
      "27/27 [==============================] - 0s 3ms/step - loss: 2051.3621 - mae: 2051.3621 - mse: 22297784.0000 - val_loss: 2542.9478 - val_mae: 2542.9478 - val_mse: 26250034.0000\n",
      "Epoch 316/1000\n",
      "27/27 [==============================] - 0s 3ms/step - loss: 2050.5391 - mae: 2050.5391 - mse: 22651174.0000 - val_loss: 2160.7766 - val_mae: 2160.7766 - val_mse: 20626610.0000\n",
      "Epoch 317/1000\n",
      "27/27 [==============================] - 0s 3ms/step - loss: 2064.3203 - mae: 2064.3203 - mse: 22480724.0000 - val_loss: 1952.6594 - val_mae: 1952.6594 - val_mse: 21059112.0000\n",
      "Epoch 318/1000\n",
      "27/27 [==============================] - 0s 3ms/step - loss: 2058.2668 - mae: 2058.2668 - mse: 22588826.0000 - val_loss: 2242.4873 - val_mae: 2242.4873 - val_mse: 22569700.0000\n",
      "Epoch 319/1000\n",
      " 1/27 [>.............................] - ETA: 0s - loss: 2241.7354 - mae: 2241.7354 - mse: 21125408.0000INFO:tensorflow:Assets written to: .\\checkpoint\\assets\n"
     ]
    },
    {
     "name": "stderr",
     "output_type": "stream",
     "text": [
      "INFO:tensorflow:Assets written to: .\\checkpoint\\assets\n"
     ]
    },
    {
     "name": "stdout",
     "output_type": "stream",
     "text": [
      "27/27 [==============================] - 1s 26ms/step - loss: 2066.6509 - mae: 2066.6509 - mse: 22461546.0000 - val_loss: 1929.7603 - val_mae: 1929.7603 - val_mse: 21657912.0000\n",
      "Epoch 320/1000\n",
      "27/27 [==============================] - 0s 3ms/step - loss: 2024.5938 - mae: 2024.5938 - mse: 22199994.0000 - val_loss: 2038.2317 - val_mae: 2038.2317 - val_mse: 22791078.0000\n",
      "Epoch 321/1000\n",
      "27/27 [==============================] - 0s 3ms/step - loss: 2013.2817 - mae: 2013.2817 - mse: 22063718.0000 - val_loss: 2362.6758 - val_mae: 2362.6758 - val_mse: 23282308.0000\n",
      "Epoch 322/1000\n",
      "27/27 [==============================] - 0s 3ms/step - loss: 2062.3005 - mae: 2062.3005 - mse: 22030250.0000 - val_loss: 2133.8889 - val_mae: 2133.8889 - val_mse: 20929320.0000\n",
      "Epoch 323/1000\n",
      "27/27 [==============================] - 0s 4ms/step - loss: 2006.6057 - mae: 2006.6057 - mse: 22088482.0000 - val_loss: 2368.5742 - val_mae: 2368.5742 - val_mse: 21131388.0000\n",
      "Epoch 324/1000\n",
      "27/27 [==============================] - 0s 3ms/step - loss: 2071.4543 - mae: 2071.4543 - mse: 22443954.0000 - val_loss: 2129.2300 - val_mae: 2129.2300 - val_mse: 22124520.0000\n",
      "Epoch 325/1000\n",
      " 1/27 [>.............................] - ETA: 0s - loss: 2657.3760 - mae: 2657.3760 - mse: 32205682.0000INFO:tensorflow:Assets written to: .\\checkpoint\\assets\n"
     ]
    },
    {
     "name": "stderr",
     "output_type": "stream",
     "text": [
      "INFO:tensorflow:Assets written to: .\\checkpoint\\assets\n"
     ]
    },
    {
     "name": "stdout",
     "output_type": "stream",
     "text": [
      "27/27 [==============================] - 1s 26ms/step - loss: 2041.1191 - mae: 2041.1191 - mse: 21996668.0000 - val_loss: 1906.9510 - val_mae: 1906.9510 - val_mse: 21421422.0000\n",
      "Epoch 326/1000\n",
      "27/27 [==============================] - 0s 5ms/step - loss: 2039.2662 - mae: 2039.2662 - mse: 22410464.0000 - val_loss: 2273.9119 - val_mae: 2273.9119 - val_mse: 23247374.0000\n",
      "Epoch 327/1000\n",
      "27/27 [==============================] - 0s 3ms/step - loss: 1969.1976 - mae: 1969.1976 - mse: 21626344.0000 - val_loss: 2388.8235 - val_mae: 2388.8235 - val_mse: 24623748.0000\n",
      "Epoch 328/1000\n",
      "27/27 [==============================] - 0s 3ms/step - loss: 2022.8204 - mae: 2022.8204 - mse: 22188374.0000 - val_loss: 2005.7079 - val_mae: 2005.7079 - val_mse: 21908884.0000\n",
      "Epoch 329/1000\n",
      "27/27 [==============================] - 0s 3ms/step - loss: 2057.6018 - mae: 2057.6018 - mse: 22255794.0000 - val_loss: 2145.6023 - val_mae: 2145.6023 - val_mse: 21096594.0000\n",
      "Epoch 330/1000\n",
      "27/27 [==============================] - 0s 3ms/step - loss: 2014.5660 - mae: 2014.5660 - mse: 22102746.0000 - val_loss: 2104.3381 - val_mae: 2104.3381 - val_mse: 20554760.0000\n",
      "Epoch 331/1000\n",
      "27/27 [==============================] - 0s 3ms/step - loss: 1984.7354 - mae: 1984.7354 - mse: 21675338.0000 - val_loss: 2647.5669 - val_mae: 2647.5669 - val_mse: 24859290.0000\n",
      "Epoch 332/1000\n",
      "27/27 [==============================] - 0s 3ms/step - loss: 2030.6495 - mae: 2030.6495 - mse: 22053794.0000 - val_loss: 2068.7371 - val_mae: 2068.7371 - val_mse: 21982016.0000\n",
      "Epoch 333/1000\n",
      "27/27 [==============================] - 0s 3ms/step - loss: 2008.8696 - mae: 2008.8696 - mse: 21695890.0000 - val_loss: 1939.1160 - val_mae: 1939.1160 - val_mse: 21607300.0000\n",
      "Epoch 334/1000\n",
      "27/27 [==============================] - 0s 3ms/step - loss: 2026.1991 - mae: 2026.1991 - mse: 22094776.0000 - val_loss: 2129.4937 - val_mae: 2129.4937 - val_mse: 20637236.0000\n",
      "Epoch 335/1000\n",
      "27/27 [==============================] - 0s 3ms/step - loss: 1986.8602 - mae: 1986.8602 - mse: 21615726.0000 - val_loss: 1947.8646 - val_mae: 1947.8646 - val_mse: 21230706.0000\n",
      "Epoch 336/1000\n",
      "27/27 [==============================] - 0s 3ms/step - loss: 2044.9323 - mae: 2044.9323 - mse: 21964250.0000 - val_loss: 2073.8672 - val_mae: 2073.8672 - val_mse: 22511332.0000\n",
      "Epoch 337/1000\n",
      "27/27 [==============================] - 0s 3ms/step - loss: 1966.6587 - mae: 1966.6587 - mse: 21330006.0000 - val_loss: 2076.9375 - val_mae: 2076.9375 - val_mse: 20298598.0000\n",
      "Epoch 338/1000\n",
      "27/27 [==============================] - 0s 3ms/step - loss: 1972.8303 - mae: 1972.8303 - mse: 21617810.0000 - val_loss: 2142.2788 - val_mae: 2142.2788 - val_mse: 20559070.0000\n",
      "Epoch 339/1000\n",
      "27/27 [==============================] - 0s 3ms/step - loss: 2011.6125 - mae: 2011.6125 - mse: 22250432.0000 - val_loss: 2298.2295 - val_mae: 2298.2295 - val_mse: 23398708.0000\n",
      "Epoch 340/1000\n",
      "27/27 [==============================] - 0s 3ms/step - loss: 2003.2023 - mae: 2003.2023 - mse: 21746078.0000 - val_loss: 1962.0337 - val_mae: 1962.0337 - val_mse: 21682944.0000\n",
      "Epoch 341/1000\n",
      "27/27 [==============================] - 0s 3ms/step - loss: 1969.5734 - mae: 1969.5734 - mse: 21733202.0000 - val_loss: 1971.0015 - val_mae: 1971.0015 - val_mse: 21244290.0000\n",
      "Epoch 342/1000\n",
      "27/27 [==============================] - 0s 3ms/step - loss: 1971.2455 - mae: 1971.2455 - mse: 21740588.0000 - val_loss: 1980.2670 - val_mae: 1980.2670 - val_mse: 20073324.0000\n",
      "Epoch 343/1000\n",
      "27/27 [==============================] - 0s 2ms/step - loss: 1961.1870 - mae: 1961.1870 - mse: 21418766.0000 - val_loss: 2019.9352 - val_mae: 2019.9352 - val_mse: 20165034.0000\n",
      "Epoch 344/1000\n",
      "27/27 [==============================] - 0s 4ms/step - loss: 1931.7930 - mae: 1931.7930 - mse: 21449900.0000 - val_loss: 2310.5935 - val_mae: 2310.5935 - val_mse: 24604368.0000\n",
      "Epoch 345/1000\n",
      " 1/27 [>.............................] - ETA: 0s - loss: 2018.8229 - mae: 2018.8229 - mse: 18157404.0000INFO:tensorflow:Assets written to: .\\checkpoint\\assets\n"
     ]
    },
    {
     "name": "stderr",
     "output_type": "stream",
     "text": [
      "INFO:tensorflow:Assets written to: .\\checkpoint\\assets\n"
     ]
    },
    {
     "name": "stdout",
     "output_type": "stream",
     "text": [
      "27/27 [==============================] - 1s 26ms/step - loss: 1996.7545 - mae: 1996.7545 - mse: 21876928.0000 - val_loss: 1868.6394 - val_mae: 1868.6394 - val_mse: 21167718.0000\n",
      "Epoch 346/1000\n",
      "27/27 [==============================] - 0s 3ms/step - loss: 1942.3916 - mae: 1942.3916 - mse: 21161480.0000 - val_loss: 1951.3755 - val_mae: 1951.3755 - val_mse: 21397566.0000\n",
      "Epoch 347/1000\n",
      "27/27 [==============================] - 0s 3ms/step - loss: 1966.7640 - mae: 1966.7640 - mse: 21306792.0000 - val_loss: 2333.8909 - val_mae: 2333.8909 - val_mse: 20973924.0000\n",
      "Epoch 348/1000\n",
      "27/27 [==============================] - 0s 3ms/step - loss: 1954.9523 - mae: 1954.9523 - mse: 21312218.0000 - val_loss: 2121.1279 - val_mae: 2121.1279 - val_mse: 22136000.0000\n",
      "Epoch 349/1000\n",
      "27/27 [==============================] - 0s 3ms/step - loss: 1962.4130 - mae: 1962.4130 - mse: 21436932.0000 - val_loss: 2168.5166 - val_mae: 2168.5166 - val_mse: 20029790.0000\n",
      "Epoch 350/1000\n",
      "27/27 [==============================] - 0s 3ms/step - loss: 1944.5176 - mae: 1944.5176 - mse: 21021908.0000 - val_loss: 1967.5707 - val_mae: 1967.5707 - val_mse: 21458274.0000\n",
      "Epoch 351/1000\n",
      "27/27 [==============================] - 0s 3ms/step - loss: 1952.1846 - mae: 1952.1846 - mse: 21445030.0000 - val_loss: 1953.8207 - val_mae: 1953.8207 - val_mse: 20853524.0000\n",
      "Epoch 352/1000\n",
      "27/27 [==============================] - 0s 3ms/step - loss: 1947.9685 - mae: 1947.9685 - mse: 20866824.0000 - val_loss: 1932.1398 - val_mae: 1932.1398 - val_mse: 20456842.0000\n",
      "Epoch 353/1000\n",
      "27/27 [==============================] - 0s 3ms/step - loss: 1945.8741 - mae: 1945.8741 - mse: 21446852.0000 - val_loss: 1904.8975 - val_mae: 1904.8975 - val_mse: 21436852.0000\n",
      "Epoch 354/1000\n",
      "27/27 [==============================] - 0s 3ms/step - loss: 1968.9973 - mae: 1968.9973 - mse: 21279674.0000 - val_loss: 2391.9983 - val_mae: 2391.9983 - val_mse: 21135178.0000\n",
      "Epoch 355/1000\n",
      "27/27 [==============================] - 0s 3ms/step - loss: 1985.3086 - mae: 1985.3086 - mse: 21546470.0000 - val_loss: 2196.8782 - val_mae: 2196.8782 - val_mse: 20203658.0000\n",
      "Epoch 356/1000\n",
      "27/27 [==============================] - 0s 3ms/step - loss: 1951.7609 - mae: 1951.7609 - mse: 20997788.0000 - val_loss: 1933.5204 - val_mae: 1933.5204 - val_mse: 20267798.0000\n",
      "Epoch 357/1000\n",
      "27/27 [==============================] - 0s 3ms/step - loss: 1961.6171 - mae: 1961.6171 - mse: 21349946.0000 - val_loss: 1868.7505 - val_mae: 1868.7505 - val_mse: 20621394.0000\n",
      "Epoch 358/1000\n",
      "27/27 [==============================] - 0s 3ms/step - loss: 1962.8348 - mae: 1962.8348 - mse: 21366592.0000 - val_loss: 2247.3518 - val_mae: 2247.3518 - val_mse: 22941662.0000\n",
      "Epoch 359/1000\n",
      "27/27 [==============================] - 0s 3ms/step - loss: 1951.2688 - mae: 1951.2688 - mse: 21176468.0000 - val_loss: 1992.9451 - val_mae: 1992.9451 - val_mse: 22101992.0000\n",
      "Epoch 360/1000\n",
      "27/27 [==============================] - 0s 3ms/step - loss: 1930.9899 - mae: 1930.9899 - mse: 21227494.0000 - val_loss: 2288.1162 - val_mae: 2288.1162 - val_mse: 26495392.0000\n",
      "Epoch 361/1000\n",
      "27/27 [==============================] - 0s 3ms/step - loss: 2002.5704 - mae: 2002.5704 - mse: 21565806.0000 - val_loss: 1968.4519 - val_mae: 1968.4519 - val_mse: 21006514.0000\n",
      "Epoch 362/1000\n",
      "27/27 [==============================] - 0s 3ms/step - loss: 1944.9896 - mae: 1944.9896 - mse: 21038076.0000 - val_loss: 2251.5615 - val_mae: 2251.5615 - val_mse: 23058522.0000\n",
      "Epoch 363/1000\n",
      "27/27 [==============================] - 0s 3ms/step - loss: 1934.8914 - mae: 1934.8914 - mse: 21199648.0000 - val_loss: 2137.6887 - val_mae: 2137.6887 - val_mse: 23315236.0000\n",
      "Epoch 364/1000\n",
      "27/27 [==============================] - 0s 2ms/step - loss: 1930.3695 - mae: 1930.3695 - mse: 21088802.0000 - val_loss: 2179.6248 - val_mae: 2179.6248 - val_mse: 20417412.0000\n",
      "Epoch 365/1000\n",
      "27/27 [==============================] - 0s 3ms/step - loss: 1935.2245 - mae: 1935.2245 - mse: 21074510.0000 - val_loss: 2098.8804 - val_mae: 2098.8804 - val_mse: 21772054.0000\n",
      "Epoch 366/1000\n",
      "27/27 [==============================] - 0s 3ms/step - loss: 1975.5542 - mae: 1975.5542 - mse: 21532234.0000 - val_loss: 1966.4435 - val_mae: 1966.4435 - val_mse: 20024868.0000\n",
      "Epoch 367/1000\n",
      "27/27 [==============================] - 0s 3ms/step - loss: 1907.4380 - mae: 1907.4380 - mse: 20794590.0000 - val_loss: 1907.6305 - val_mae: 1907.6305 - val_mse: 20973520.0000\n",
      "Epoch 368/1000\n",
      "27/27 [==============================] - 0s 3ms/step - loss: 1944.8385 - mae: 1944.8385 - mse: 20904292.0000 - val_loss: 2042.0596 - val_mae: 2042.0596 - val_mse: 20260606.0000\n",
      "Epoch 369/1000\n",
      "27/27 [==============================] - 0s 3ms/step - loss: 1965.8464 - mae: 1965.8464 - mse: 21461214.0000 - val_loss: 1993.3591 - val_mae: 1993.3591 - val_mse: 20000660.0000\n",
      "Epoch 370/1000\n",
      "27/27 [==============================] - 0s 3ms/step - loss: 1956.7268 - mae: 1956.7268 - mse: 21234820.0000 - val_loss: 1991.0111 - val_mae: 1991.0111 - val_mse: 19914532.0000\n",
      "Epoch 371/1000\n",
      "27/27 [==============================] - 0s 3ms/step - loss: 1937.2395 - mae: 1937.2395 - mse: 21052062.0000 - val_loss: 1982.5563 - val_mae: 1982.5563 - val_mse: 23169462.0000\n",
      "Epoch 372/1000\n",
      "27/27 [==============================] - 0s 4ms/step - loss: 1944.0009 - mae: 1944.0009 - mse: 21323768.0000 - val_loss: 2509.2515 - val_mae: 2509.2515 - val_mse: 22452252.0000\n",
      "Epoch 373/1000\n",
      " 1/27 [>.............................] - ETA: 0s - loss: 3283.0898 - mae: 3283.0898 - mse: 31450012.0000INFO:tensorflow:Assets written to: .\\checkpoint\\assets\n"
     ]
    },
    {
     "name": "stderr",
     "output_type": "stream",
     "text": [
      "INFO:tensorflow:Assets written to: .\\checkpoint\\assets\n"
     ]
    },
    {
     "name": "stdout",
     "output_type": "stream",
     "text": [
      "27/27 [==============================] - 1s 29ms/step - loss: 1942.9302 - mae: 1942.9302 - mse: 21427202.0000 - val_loss: 1818.3845 - val_mae: 1818.3845 - val_mse: 20227402.0000\n",
      "Epoch 374/1000\n",
      "27/27 [==============================] - 0s 3ms/step - loss: 1949.7668 - mae: 1949.7668 - mse: 21216788.0000 - val_loss: 2008.6158 - val_mae: 2008.6158 - val_mse: 22549472.0000\n",
      "Epoch 375/1000\n",
      "27/27 [==============================] - 0s 3ms/step - loss: 1945.1434 - mae: 1945.1434 - mse: 21673016.0000 - val_loss: 2278.0125 - val_mae: 2278.0125 - val_mse: 21849164.0000\n",
      "Epoch 376/1000\n",
      "27/27 [==============================] - 0s 3ms/step - loss: 1935.9062 - mae: 1935.9062 - mse: 21266472.0000 - val_loss: 2122.1631 - val_mae: 2122.1631 - val_mse: 19898318.0000\n",
      "Epoch 377/1000\n",
      "27/27 [==============================] - 0s 3ms/step - loss: 1957.1974 - mae: 1957.1974 - mse: 21223216.0000 - val_loss: 1893.3093 - val_mae: 1893.3093 - val_mse: 21471624.0000\n",
      "Epoch 378/1000\n",
      "27/27 [==============================] - 0s 3ms/step - loss: 1967.1237 - mae: 1967.1237 - mse: 21480360.0000 - val_loss: 2025.6967 - val_mae: 2025.6967 - val_mse: 21540198.0000\n",
      "Epoch 379/1000\n",
      "27/27 [==============================] - 0s 3ms/step - loss: 1921.7975 - mae: 1921.7975 - mse: 21046344.0000 - val_loss: 1870.5455 - val_mae: 1870.5455 - val_mse: 20879254.0000\n",
      "Epoch 380/1000\n",
      "27/27 [==============================] - 0s 3ms/step - loss: 1915.9249 - mae: 1915.9249 - mse: 20858730.0000 - val_loss: 2434.6089 - val_mae: 2434.6089 - val_mse: 23865454.0000\n",
      "Epoch 381/1000\n",
      "27/27 [==============================] - 0s 3ms/step - loss: 1923.7382 - mae: 1923.7382 - mse: 20887514.0000 - val_loss: 2267.4924 - val_mae: 2267.4924 - val_mse: 23636382.0000\n",
      "Epoch 382/1000\n",
      "27/27 [==============================] - 0s 3ms/step - loss: 1957.6084 - mae: 1957.6084 - mse: 21440910.0000 - val_loss: 2074.3267 - val_mae: 2074.3267 - val_mse: 20180068.0000\n",
      "Epoch 383/1000\n",
      "27/27 [==============================] - 0s 3ms/step - loss: 1925.4321 - mae: 1925.4321 - mse: 20941594.0000 - val_loss: 2026.5166 - val_mae: 2026.5168 - val_mse: 20147830.0000\n",
      "Epoch 384/1000\n",
      "27/27 [==============================] - 0s 3ms/step - loss: 1936.7664 - mae: 1936.7664 - mse: 21031690.0000 - val_loss: 1922.7299 - val_mae: 1922.7299 - val_mse: 21483812.0000\n",
      "Epoch 385/1000\n",
      "27/27 [==============================] - 0s 3ms/step - loss: 1915.2592 - mae: 1915.2592 - mse: 21380162.0000 - val_loss: 1957.6627 - val_mae: 1957.6627 - val_mse: 21522754.0000\n",
      "Epoch 386/1000\n",
      "27/27 [==============================] - 0s 3ms/step - loss: 1949.8818 - mae: 1949.8818 - mse: 21242186.0000 - val_loss: 1931.9502 - val_mae: 1931.9502 - val_mse: 21345244.0000\n",
      "Epoch 387/1000\n",
      "27/27 [==============================] - 0s 3ms/step - loss: 1933.6727 - mae: 1933.6727 - mse: 21192354.0000 - val_loss: 2208.1982 - val_mae: 2208.1982 - val_mse: 21432732.0000\n",
      "Epoch 388/1000\n",
      "27/27 [==============================] - 0s 3ms/step - loss: 1945.7026 - mae: 1945.7026 - mse: 21357768.0000 - val_loss: 1885.6085 - val_mae: 1885.6085 - val_mse: 21207698.0000\n",
      "Epoch 389/1000\n",
      "27/27 [==============================] - 0s 4ms/step - loss: 1936.6843 - mae: 1936.6843 - mse: 21533052.0000 - val_loss: 2293.7422 - val_mae: 2293.7422 - val_mse: 23679706.0000\n",
      "Epoch 390/1000\n",
      " 1/27 [>.............................] - ETA: 0s - loss: 1654.0443 - mae: 1654.0443 - mse: 16959208.0000INFO:tensorflow:Assets written to: .\\checkpoint\\assets\n"
     ]
    },
    {
     "name": "stderr",
     "output_type": "stream",
     "text": [
      "INFO:tensorflow:Assets written to: .\\checkpoint\\assets\n"
     ]
    },
    {
     "name": "stdout",
     "output_type": "stream",
     "text": [
      "27/27 [==============================] - 1s 28ms/step - loss: 1944.4700 - mae: 1944.4700 - mse: 21037646.0000 - val_loss: 1817.5265 - val_mae: 1817.5265 - val_mse: 20690810.0000\n",
      "Epoch 391/1000\n",
      "27/27 [==============================] - 0s 5ms/step - loss: 1908.5055 - mae: 1908.5055 - mse: 21165832.0000 - val_loss: 1889.2024 - val_mae: 1889.2024 - val_mse: 21226414.0000\n",
      "Epoch 392/1000\n",
      "27/27 [==============================] - 0s 3ms/step - loss: 1889.6300 - mae: 1889.6300 - mse: 21001206.0000 - val_loss: 1984.6049 - val_mae: 1984.6049 - val_mse: 19893566.0000\n",
      "Epoch 393/1000\n",
      "27/27 [==============================] - 0s 3ms/step - loss: 1911.5099 - mae: 1911.5099 - mse: 21169218.0000 - val_loss: 2535.1396 - val_mae: 2535.1396 - val_mse: 25872538.0000\n",
      "Epoch 394/1000\n",
      "27/27 [==============================] - 0s 3ms/step - loss: 1918.0922 - mae: 1918.0922 - mse: 21030726.0000 - val_loss: 1981.2371 - val_mae: 1981.2371 - val_mse: 21825242.0000\n",
      "Epoch 395/1000\n",
      "27/27 [==============================] - 0s 4ms/step - loss: 1977.6732 - mae: 1977.6732 - mse: 21482068.0000 - val_loss: 1980.6177 - val_mae: 1980.6177 - val_mse: 19844976.0000\n",
      "Epoch 396/1000\n",
      "27/27 [==============================] - 0s 3ms/step - loss: 1906.4127 - mae: 1906.4127 - mse: 20968390.0000 - val_loss: 1906.6815 - val_mae: 1906.6815 - val_mse: 21621170.0000\n",
      "Epoch 397/1000\n",
      "27/27 [==============================] - 0s 3ms/step - loss: 1993.1031 - mae: 1993.1031 - mse: 21522566.0000 - val_loss: 2401.1892 - val_mae: 2401.1892 - val_mse: 23981078.0000\n",
      "Epoch 398/1000\n",
      "27/27 [==============================] - 0s 3ms/step - loss: 1915.5488 - mae: 1915.5488 - mse: 21090284.0000 - val_loss: 1981.9519 - val_mae: 1981.9519 - val_mse: 20543460.0000\n",
      "Epoch 399/1000\n",
      "27/27 [==============================] - 0s 3ms/step - loss: 1966.5648 - mae: 1966.5648 - mse: 21570028.0000 - val_loss: 1984.8251 - val_mae: 1984.8251 - val_mse: 20223160.0000\n",
      "Epoch 400/1000\n",
      "27/27 [==============================] - 0s 3ms/step - loss: 1911.9213 - mae: 1911.9213 - mse: 20915300.0000 - val_loss: 1875.6735 - val_mae: 1875.6735 - val_mse: 20346694.0000\n",
      "Epoch 401/1000\n",
      "27/27 [==============================] - 0s 3ms/step - loss: 1951.1956 - mae: 1951.1956 - mse: 21075216.0000 - val_loss: 2132.4875 - val_mae: 2132.4873 - val_mse: 22730902.0000\n",
      "Epoch 402/1000\n",
      "27/27 [==============================] - 0s 3ms/step - loss: 1916.3563 - mae: 1916.3563 - mse: 21116664.0000 - val_loss: 2154.0359 - val_mae: 2154.0359 - val_mse: 22241228.0000\n",
      "Epoch 403/1000\n",
      "27/27 [==============================] - 0s 3ms/step - loss: 1912.1486 - mae: 1912.1486 - mse: 21350464.0000 - val_loss: 1928.4543 - val_mae: 1928.4543 - val_mse: 21217162.0000\n",
      "Epoch 404/1000\n",
      "27/27 [==============================] - 0s 3ms/step - loss: 1925.3289 - mae: 1925.3289 - mse: 21216942.0000 - val_loss: 1856.8341 - val_mae: 1856.8341 - val_mse: 21115550.0000\n",
      "Epoch 405/1000\n",
      "27/27 [==============================] - 0s 3ms/step - loss: 1919.4020 - mae: 1919.4020 - mse: 20883976.0000 - val_loss: 2149.1982 - val_mae: 2149.1982 - val_mse: 22324490.0000\n",
      "Epoch 406/1000\n",
      "27/27 [==============================] - 0s 3ms/step - loss: 1908.9235 - mae: 1908.9235 - mse: 20901270.0000 - val_loss: 1884.2826 - val_mae: 1884.2826 - val_mse: 21347762.0000\n",
      "Epoch 407/1000\n",
      "27/27 [==============================] - 0s 3ms/step - loss: 1915.1711 - mae: 1915.1711 - mse: 20951178.0000 - val_loss: 1962.0320 - val_mae: 1962.0320 - val_mse: 20079054.0000\n",
      "Epoch 408/1000\n",
      "27/27 [==============================] - 0s 3ms/step - loss: 1898.2554 - mae: 1898.2554 - mse: 21034144.0000 - val_loss: 2330.4871 - val_mae: 2330.4871 - val_mse: 24093424.0000\n",
      "Epoch 409/1000\n",
      "27/27 [==============================] - 0s 3ms/step - loss: 1923.1005 - mae: 1923.1005 - mse: 21297392.0000 - val_loss: 2056.2334 - val_mae: 2056.2334 - val_mse: 20167000.0000\n",
      "Epoch 410/1000\n",
      "27/27 [==============================] - 0s 3ms/step - loss: 1871.6133 - mae: 1871.6133 - mse: 20489924.0000 - val_loss: 2132.6487 - val_mae: 2132.6487 - val_mse: 22470754.0000\n",
      "Epoch 411/1000\n",
      "27/27 [==============================] - 0s 3ms/step - loss: 1915.4515 - mae: 1915.4515 - mse: 20838630.0000 - val_loss: 2264.9150 - val_mae: 2264.9150 - val_mse: 19986092.0000\n",
      "Epoch 412/1000\n",
      "27/27 [==============================] - 0s 5ms/step - loss: 1883.1532 - mae: 1883.1532 - mse: 20866060.0000 - val_loss: 1927.5974 - val_mae: 1927.5974 - val_mse: 19746648.0000\n",
      "Epoch 413/1000\n",
      "27/27 [==============================] - 0s 3ms/step - loss: 1922.2245 - mae: 1922.2245 - mse: 21186690.0000 - val_loss: 1848.1647 - val_mae: 1848.1647 - val_mse: 20591240.0000\n",
      "Epoch 414/1000\n",
      "27/27 [==============================] - 0s 3ms/step - loss: 1906.0503 - mae: 1906.0503 - mse: 21019904.0000 - val_loss: 2189.3740 - val_mae: 2189.3740 - val_mse: 20719790.0000\n",
      "Epoch 415/1000\n",
      "27/27 [==============================] - 0s 3ms/step - loss: 1921.8236 - mae: 1921.8236 - mse: 20958374.0000 - val_loss: 1950.0366 - val_mae: 1950.0366 - val_mse: 21124122.0000\n",
      "Epoch 416/1000\n",
      "27/27 [==============================] - 0s 3ms/step - loss: 1891.9650 - mae: 1891.9650 - mse: 20955564.0000 - val_loss: 2180.0190 - val_mae: 2180.0190 - val_mse: 19934390.0000\n",
      "Epoch 417/1000\n",
      "27/27 [==============================] - 0s 3ms/step - loss: 1891.2180 - mae: 1891.2180 - mse: 20849760.0000 - val_loss: 1870.7897 - val_mae: 1870.7897 - val_mse: 20928984.0000\n",
      "Epoch 418/1000\n",
      "27/27 [==============================] - 0s 4ms/step - loss: 1926.6965 - mae: 1926.6965 - mse: 21670598.0000 - val_loss: 2347.8960 - val_mae: 2347.8960 - val_mse: 24403040.0000\n",
      "Epoch 419/1000\n",
      "27/27 [==============================] - 0s 3ms/step - loss: 1877.9336 - mae: 1877.9336 - mse: 20873020.0000 - val_loss: 2102.3831 - val_mae: 2102.3831 - val_mse: 22565944.0000\n",
      "Epoch 420/1000\n",
      "27/27 [==============================] - 0s 4ms/step - loss: 1919.1617 - mae: 1919.1617 - mse: 21031544.0000 - val_loss: 1941.1942 - val_mae: 1941.1942 - val_mse: 21477484.0000\n",
      "Epoch 421/1000\n",
      "27/27 [==============================] - 0s 3ms/step - loss: 1911.8513 - mae: 1911.8513 - mse: 20915916.0000 - val_loss: 1871.8809 - val_mae: 1871.8809 - val_mse: 20845546.0000\n",
      "Epoch 422/1000\n",
      "27/27 [==============================] - 0s 3ms/step - loss: 1904.1522 - mae: 1904.1522 - mse: 21083124.0000 - val_loss: 1826.1166 - val_mae: 1826.1166 - val_mse: 20622520.0000\n",
      "Epoch 423/1000\n",
      "27/27 [==============================] - 0s 3ms/step - loss: 1919.5892 - mae: 1919.5892 - mse: 20977376.0000 - val_loss: 2080.9780 - val_mae: 2080.9780 - val_mse: 23134364.0000\n",
      "Epoch 424/1000\n",
      "27/27 [==============================] - 0s 3ms/step - loss: 1901.5631 - mae: 1901.5631 - mse: 21384846.0000 - val_loss: 1982.0055 - val_mae: 1982.0055 - val_mse: 21293288.0000\n",
      "Epoch 425/1000\n",
      "27/27 [==============================] - 0s 3ms/step - loss: 1870.8691 - mae: 1870.8691 - mse: 20829878.0000 - val_loss: 2041.9216 - val_mae: 2041.9216 - val_mse: 22004422.0000\n",
      "Epoch 426/1000\n",
      "27/27 [==============================] - 0s 3ms/step - loss: 1952.5776 - mae: 1952.5776 - mse: 21217314.0000 - val_loss: 1853.8401 - val_mae: 1853.8401 - val_mse: 20534360.0000\n",
      "Epoch 427/1000\n",
      "27/27 [==============================] - 0s 3ms/step - loss: 1910.5898 - mae: 1910.5898 - mse: 21322408.0000 - val_loss: 2238.1499 - val_mae: 2238.1499 - val_mse: 20260716.0000\n",
      "Epoch 428/1000\n",
      "27/27 [==============================] - 0s 3ms/step - loss: 1932.7286 - mae: 1932.7286 - mse: 21248562.0000 - val_loss: 1833.6344 - val_mae: 1833.6344 - val_mse: 20275030.0000\n",
      "Epoch 429/1000\n",
      "27/27 [==============================] - 0s 3ms/step - loss: 1896.5906 - mae: 1896.5906 - mse: 20861086.0000 - val_loss: 2597.6638 - val_mae: 2597.6638 - val_mse: 23110592.0000\n",
      "Epoch 430/1000\n",
      "27/27 [==============================] - 0s 3ms/step - loss: 1943.1270 - mae: 1943.1270 - mse: 21640250.0000 - val_loss: 2306.1030 - val_mae: 2306.1030 - val_mse: 21312820.0000\n",
      "Epoch 431/1000\n",
      "27/27 [==============================] - 0s 3ms/step - loss: 1907.3024 - mae: 1907.3024 - mse: 21207316.0000 - val_loss: 1830.6935 - val_mae: 1830.6935 - val_mse: 20768076.0000\n",
      "Epoch 432/1000\n",
      "27/27 [==============================] - 0s 3ms/step - loss: 1952.6259 - mae: 1952.6259 - mse: 21568294.0000 - val_loss: 1843.7479 - val_mae: 1843.7479 - val_mse: 20504792.0000\n",
      "Epoch 433/1000\n",
      " 1/27 [>.............................] - ETA: 0s - loss: 1754.0863 - mae: 1754.0863 - mse: 26179734.0000INFO:tensorflow:Assets written to: .\\checkpoint\\assets\n"
     ]
    },
    {
     "name": "stderr",
     "output_type": "stream",
     "text": [
      "INFO:tensorflow:Assets written to: .\\checkpoint\\assets\n"
     ]
    },
    {
     "name": "stdout",
     "output_type": "stream",
     "text": [
      "27/27 [==============================] - 2s 59ms/step - loss: 1896.0491 - mae: 1896.0491 - mse: 20758508.0000 - val_loss: 1816.8805 - val_mae: 1816.8805 - val_mse: 20266654.0000\n",
      "Epoch 434/1000\n",
      "27/27 [==============================] - 0s 4ms/step - loss: 1953.1003 - mae: 1953.1003 - mse: 21058442.0000 - val_loss: 1835.3514 - val_mae: 1835.3514 - val_mse: 20705400.0000\n",
      "Epoch 435/1000\n",
      "27/27 [==============================] - 0s 4ms/step - loss: 1915.8829 - mae: 1915.8829 - mse: 21093252.0000 - val_loss: 2002.9375 - val_mae: 2002.9375 - val_mse: 19705786.0000\n",
      "Epoch 436/1000\n",
      "27/27 [==============================] - 0s 3ms/step - loss: 1903.9180 - mae: 1903.9180 - mse: 20825270.0000 - val_loss: 2043.8905 - val_mae: 2043.8905 - val_mse: 21246636.0000\n",
      "Epoch 437/1000\n",
      "27/27 [==============================] - 0s 3ms/step - loss: 1915.4567 - mae: 1915.4567 - mse: 21042342.0000 - val_loss: 1978.8815 - val_mae: 1978.8815 - val_mse: 20326002.0000\n",
      "Epoch 438/1000\n",
      "27/27 [==============================] - 0s 3ms/step - loss: 1906.4701 - mae: 1906.4701 - mse: 21007782.0000 - val_loss: 1859.6271 - val_mae: 1859.6271 - val_mse: 20825634.0000\n",
      "Epoch 439/1000\n",
      "27/27 [==============================] - 0s 3ms/step - loss: 1932.9618 - mae: 1932.9618 - mse: 21295408.0000 - val_loss: 2072.0396 - val_mae: 2072.0396 - val_mse: 23651848.0000\n",
      "Epoch 440/1000\n",
      "27/27 [==============================] - 0s 3ms/step - loss: 1935.0828 - mae: 1935.0828 - mse: 21216368.0000 - val_loss: 2163.0488 - val_mae: 2163.0488 - val_mse: 22925112.0000\n",
      "Epoch 441/1000\n",
      "27/27 [==============================] - 0s 3ms/step - loss: 1893.2039 - mae: 1893.2039 - mse: 20751340.0000 - val_loss: 1902.9652 - val_mae: 1902.9651 - val_mse: 21462588.0000\n",
      "Epoch 442/1000\n",
      "27/27 [==============================] - 0s 3ms/step - loss: 1924.1235 - mae: 1924.1235 - mse: 21170934.0000 - val_loss: 1949.4845 - val_mae: 1949.4845 - val_mse: 20197314.0000\n",
      "Epoch 443/1000\n",
      "27/27 [==============================] - 0s 3ms/step - loss: 1910.7129 - mae: 1910.7129 - mse: 20808092.0000 - val_loss: 1851.4448 - val_mae: 1851.4447 - val_mse: 20569032.0000\n",
      "Epoch 444/1000\n",
      "27/27 [==============================] - 0s 3ms/step - loss: 1871.0887 - mae: 1871.0887 - mse: 20945276.0000 - val_loss: 1898.1511 - val_mae: 1898.1510 - val_mse: 19970856.0000\n",
      "Epoch 445/1000\n",
      "27/27 [==============================] - 0s 3ms/step - loss: 1871.1005 - mae: 1871.1005 - mse: 20643508.0000 - val_loss: 1867.0399 - val_mae: 1867.0399 - val_mse: 20148524.0000\n",
      "Epoch 446/1000\n",
      "27/27 [==============================] - 0s 4ms/step - loss: 1906.2065 - mae: 1906.2065 - mse: 20864638.0000 - val_loss: 2151.3325 - val_mae: 2151.3325 - val_mse: 19767464.0000\n",
      "Epoch 447/1000\n",
      "27/27 [==============================] - 0s 3ms/step - loss: 1924.3201 - mae: 1924.3201 - mse: 21193080.0000 - val_loss: 2029.6696 - val_mae: 2029.6696 - val_mse: 19733220.0000\n",
      "Epoch 448/1000\n",
      "27/27 [==============================] - 0s 3ms/step - loss: 1929.1301 - mae: 1929.1301 - mse: 21339128.0000 - val_loss: 2456.3076 - val_mae: 2456.3076 - val_mse: 22775568.0000\n",
      "Epoch 449/1000\n",
      "27/27 [==============================] - 0s 3ms/step - loss: 1894.9191 - mae: 1894.9191 - mse: 21205610.0000 - val_loss: 2082.0588 - val_mae: 2082.0588 - val_mse: 20104402.0000\n",
      "Epoch 450/1000\n",
      "27/27 [==============================] - 0s 3ms/step - loss: 1892.7797 - mae: 1892.7797 - mse: 20587156.0000 - val_loss: 2102.3403 - val_mae: 2102.3403 - val_mse: 21102966.0000\n",
      "Epoch 451/1000\n",
      "27/27 [==============================] - 0s 3ms/step - loss: 1901.3423 - mae: 1901.3423 - mse: 20841772.0000 - val_loss: 2052.0793 - val_mae: 2052.0793 - val_mse: 19780994.0000\n",
      "Epoch 452/1000\n",
      "27/27 [==============================] - 0s 3ms/step - loss: 1899.7417 - mae: 1899.7417 - mse: 20752084.0000 - val_loss: 2429.5984 - val_mae: 2429.5984 - val_mse: 20645082.0000\n",
      "Epoch 453/1000\n",
      "27/27 [==============================] - 0s 3ms/step - loss: 1893.9667 - mae: 1893.9667 - mse: 21052548.0000 - val_loss: 1895.0878 - val_mae: 1895.0878 - val_mse: 20714240.0000\n",
      "Epoch 454/1000\n",
      "27/27 [==============================] - 0s 3ms/step - loss: 1877.9906 - mae: 1877.9906 - mse: 20840814.0000 - val_loss: 2001.9447 - val_mae: 2001.9447 - val_mse: 23277888.0000\n",
      "Epoch 455/1000\n",
      "27/27 [==============================] - 0s 3ms/step - loss: 1896.8647 - mae: 1896.8647 - mse: 20794490.0000 - val_loss: 2069.9641 - val_mae: 2069.9641 - val_mse: 23367986.0000\n",
      "Epoch 456/1000\n",
      "27/27 [==============================] - 0s 3ms/step - loss: 1835.1093 - mae: 1835.1093 - mse: 20390762.0000 - val_loss: 2010.0250 - val_mae: 2010.0250 - val_mse: 20712716.0000\n",
      "Epoch 457/1000\n",
      "27/27 [==============================] - 0s 3ms/step - loss: 1890.3450 - mae: 1890.3450 - mse: 20929398.0000 - val_loss: 1888.0789 - val_mae: 1888.0789 - val_mse: 21426488.0000\n",
      "Epoch 458/1000\n",
      "27/27 [==============================] - 0s 3ms/step - loss: 1874.0900 - mae: 1874.0900 - mse: 21059892.0000 - val_loss: 2047.7589 - val_mae: 2047.7589 - val_mse: 22867506.0000\n",
      "Epoch 459/1000\n",
      "27/27 [==============================] - 0s 3ms/step - loss: 1915.1481 - mae: 1915.1481 - mse: 20711598.0000 - val_loss: 2053.0591 - val_mae: 2053.0591 - val_mse: 21399962.0000\n",
      "Epoch 460/1000\n",
      "27/27 [==============================] - 0s 3ms/step - loss: 1887.3838 - mae: 1887.3838 - mse: 20773316.0000 - val_loss: 2229.5134 - val_mae: 2229.5134 - val_mse: 23097066.0000\n",
      "Epoch 461/1000\n",
      "27/27 [==============================] - 0s 3ms/step - loss: 1887.4556 - mae: 1887.4556 - mse: 20604748.0000 - val_loss: 2137.3853 - val_mae: 2137.3853 - val_mse: 21374828.0000\n",
      "Epoch 462/1000\n",
      "27/27 [==============================] - 0s 3ms/step - loss: 1882.2151 - mae: 1882.2151 - mse: 20937254.0000 - val_loss: 1950.0166 - val_mae: 1950.0166 - val_mse: 21327968.0000\n",
      "Epoch 463/1000\n",
      "27/27 [==============================] - 0s 3ms/step - loss: 1908.9053 - mae: 1908.9053 - mse: 21372966.0000 - val_loss: 1884.9048 - val_mae: 1884.9048 - val_mse: 20154160.0000\n",
      "Epoch 464/1000\n",
      "27/27 [==============================] - 0s 3ms/step - loss: 1882.5000 - mae: 1882.5000 - mse: 20781838.0000 - val_loss: 1907.5333 - val_mae: 1907.5332 - val_mse: 20530252.0000\n",
      "Epoch 465/1000\n",
      "27/27 [==============================] - 0s 3ms/step - loss: 1897.9834 - mae: 1897.9834 - mse: 20958480.0000 - val_loss: 2265.3289 - val_mae: 2265.3289 - val_mse: 23214168.0000\n",
      "Epoch 466/1000\n",
      "27/27 [==============================] - 0s 3ms/step - loss: 1920.9355 - mae: 1920.9355 - mse: 21491412.0000 - val_loss: 1892.3584 - val_mae: 1892.3584 - val_mse: 21089356.0000\n",
      "Epoch 467/1000\n",
      "27/27 [==============================] - 0s 3ms/step - loss: 1900.7343 - mae: 1900.7343 - mse: 20892770.0000 - val_loss: 1891.9396 - val_mae: 1891.9396 - val_mse: 20365390.0000\n",
      "Epoch 468/1000\n",
      "27/27 [==============================] - 0s 3ms/step - loss: 1893.4856 - mae: 1893.4856 - mse: 20891212.0000 - val_loss: 2004.3914 - val_mae: 2004.3914 - val_mse: 22055434.0000\n",
      "Epoch 469/1000\n",
      "27/27 [==============================] - 0s 3ms/step - loss: 1868.9341 - mae: 1868.9341 - mse: 20981878.0000 - val_loss: 1938.4661 - val_mae: 1938.4661 - val_mse: 21786994.0000\n",
      "Epoch 470/1000\n",
      "27/27 [==============================] - 0s 3ms/step - loss: 1867.1169 - mae: 1867.1169 - mse: 20782908.0000 - val_loss: 1894.2726 - val_mae: 1894.2726 - val_mse: 21838736.0000\n",
      "Epoch 471/1000\n",
      "27/27 [==============================] - 0s 3ms/step - loss: 1893.3600 - mae: 1893.3600 - mse: 20781288.0000 - val_loss: 1929.9374 - val_mae: 1929.9374 - val_mse: 21357668.0000\n",
      "Epoch 472/1000\n",
      "27/27 [==============================] - 0s 3ms/step - loss: 1902.2335 - mae: 1902.2335 - mse: 21256976.0000 - val_loss: 1833.8502 - val_mae: 1833.8502 - val_mse: 20775164.0000\n",
      "Epoch 473/1000\n",
      "27/27 [==============================] - 0s 3ms/step - loss: 1896.2153 - mae: 1896.2153 - mse: 20835502.0000 - val_loss: 2073.2473 - val_mae: 2073.2473 - val_mse: 20242198.0000\n",
      "Epoch 474/1000\n",
      "27/27 [==============================] - 0s 3ms/step - loss: 1888.9343 - mae: 1888.9343 - mse: 20867338.0000 - val_loss: 2228.6184 - val_mae: 2228.6184 - val_mse: 21797774.0000\n",
      "Epoch 475/1000\n",
      "27/27 [==============================] - 0s 3ms/step - loss: 1899.7307 - mae: 1899.7307 - mse: 20690766.0000 - val_loss: 1900.9764 - val_mae: 1900.9764 - val_mse: 21772896.0000\n",
      "Epoch 476/1000\n",
      "27/27 [==============================] - 0s 3ms/step - loss: 1873.8856 - mae: 1873.8856 - mse: 20873262.0000 - val_loss: 1899.7739 - val_mae: 1899.7739 - val_mse: 20522306.0000\n",
      "Epoch 477/1000\n",
      "27/27 [==============================] - 0s 4ms/step - loss: 1849.7438 - mae: 1849.7438 - mse: 20825836.0000 - val_loss: 2214.3645 - val_mae: 2214.3645 - val_mse: 20326462.0000\n",
      "Epoch 478/1000\n",
      "27/27 [==============================] - 0s 3ms/step - loss: 1906.5922 - mae: 1906.5922 - mse: 21005530.0000 - val_loss: 2020.7561 - val_mae: 2020.7561 - val_mse: 20089986.0000\n",
      "Epoch 479/1000\n",
      "27/27 [==============================] - 0s 3ms/step - loss: 1868.9238 - mae: 1868.9238 - mse: 20693000.0000 - val_loss: 1968.2810 - val_mae: 1968.2810 - val_mse: 20409592.0000\n",
      "Epoch 480/1000\n",
      "27/27 [==============================] - 0s 3ms/step - loss: 1902.1935 - mae: 1902.1935 - mse: 20676654.0000 - val_loss: 2155.3044 - val_mae: 2155.3044 - val_mse: 24153370.0000\n",
      "Epoch 481/1000\n",
      "27/27 [==============================] - 0s 3ms/step - loss: 1913.8164 - mae: 1913.8164 - mse: 21165998.0000 - val_loss: 2097.2888 - val_mae: 2097.2888 - val_mse: 20299650.0000\n",
      "Epoch 482/1000\n",
      "27/27 [==============================] - 0s 3ms/step - loss: 1866.7239 - mae: 1866.7239 - mse: 20969044.0000 - val_loss: 2132.7876 - val_mae: 2132.7876 - val_mse: 22662840.0000\n",
      "Epoch 483/1000\n",
      "27/27 [==============================] - 0s 3ms/step - loss: 1872.4197 - mae: 1872.4197 - mse: 20740040.0000 - val_loss: 2290.9355 - val_mae: 2290.9355 - val_mse: 23551374.0000\n",
      "Epoch 484/1000\n",
      "27/27 [==============================] - 0s 3ms/step - loss: 1860.1945 - mae: 1860.1945 - mse: 20507046.0000 - val_loss: 2307.0474 - val_mae: 2307.0474 - val_mse: 22711560.0000\n",
      "Epoch 485/1000\n",
      "27/27 [==============================] - 0s 3ms/step - loss: 1879.4934 - mae: 1879.4934 - mse: 20959034.0000 - val_loss: 2377.9985 - val_mae: 2377.9985 - val_mse: 23728108.0000\n",
      "Epoch 486/1000\n",
      "27/27 [==============================] - 0s 2ms/step - loss: 1867.2134 - mae: 1867.2134 - mse: 20476390.0000 - val_loss: 1944.0188 - val_mae: 1944.0188 - val_mse: 22522202.0000\n",
      "Epoch 487/1000\n",
      "27/27 [==============================] - 0s 3ms/step - loss: 1947.6691 - mae: 1947.6691 - mse: 21424050.0000 - val_loss: 1993.3889 - val_mae: 1993.3889 - val_mse: 19880804.0000\n",
      "Epoch 488/1000\n",
      "27/27 [==============================] - 0s 3ms/step - loss: 1861.3126 - mae: 1861.3126 - mse: 20590716.0000 - val_loss: 1850.5701 - val_mae: 1850.5701 - val_mse: 20725716.0000\n",
      "Epoch 489/1000\n",
      "27/27 [==============================] - 0s 3ms/step - loss: 1835.3755 - mae: 1835.3755 - mse: 20390616.0000 - val_loss: 1885.1636 - val_mae: 1885.1636 - val_mse: 20030330.0000\n",
      "Epoch 490/1000\n",
      "27/27 [==============================] - 0s 3ms/step - loss: 1896.9296 - mae: 1896.9296 - mse: 20897704.0000 - val_loss: 2017.0903 - val_mae: 2017.0903 - val_mse: 20065888.0000\n",
      "Epoch 491/1000\n",
      "27/27 [==============================] - 0s 3ms/step - loss: 1889.9076 - mae: 1889.9076 - mse: 20635722.0000 - val_loss: 2083.4797 - val_mae: 2083.4797 - val_mse: 21567240.0000\n",
      "Epoch 492/1000\n",
      "27/27 [==============================] - 0s 3ms/step - loss: 1916.9846 - mae: 1916.9846 - mse: 21285240.0000 - val_loss: 1901.0410 - val_mae: 1901.0410 - val_mse: 20046410.0000\n",
      "Epoch 493/1000\n",
      "27/27 [==============================] - 0s 3ms/step - loss: 1837.3109 - mae: 1837.3109 - mse: 20235816.0000 - val_loss: 2092.6924 - val_mae: 2092.6924 - val_mse: 24198742.0000\n",
      "Epoch 494/1000\n",
      "27/27 [==============================] - 0s 3ms/step - loss: 1871.5966 - mae: 1871.5966 - mse: 20710326.0000 - val_loss: 1933.0201 - val_mae: 1933.0201 - val_mse: 21110764.0000\n",
      "Epoch 495/1000\n",
      "27/27 [==============================] - 0s 3ms/step - loss: 1864.4426 - mae: 1864.4426 - mse: 20692880.0000 - val_loss: 2094.1550 - val_mae: 2094.1550 - val_mse: 20433302.0000\n",
      "Epoch 496/1000\n",
      "27/27 [==============================] - 0s 3ms/step - loss: 1888.2205 - mae: 1888.2205 - mse: 20745482.0000 - val_loss: 1991.2544 - val_mae: 1991.2544 - val_mse: 22290216.0000\n",
      "Epoch 497/1000\n",
      "27/27 [==============================] - 0s 3ms/step - loss: 1892.2430 - mae: 1892.2430 - mse: 21044138.0000 - val_loss: 2118.4417 - val_mae: 2118.4417 - val_mse: 20244428.0000\n",
      "Epoch 498/1000\n",
      "27/27 [==============================] - 0s 3ms/step - loss: 1885.2804 - mae: 1885.2804 - mse: 20907334.0000 - val_loss: 1974.2941 - val_mae: 1974.2941 - val_mse: 19927736.0000\n",
      "Epoch 499/1000\n",
      "27/27 [==============================] - 0s 3ms/step - loss: 1866.7384 - mae: 1866.7384 - mse: 20541576.0000 - val_loss: 1956.9536 - val_mae: 1956.9536 - val_mse: 21650336.0000\n",
      "Epoch 500/1000\n",
      "27/27 [==============================] - 0s 3ms/step - loss: 1873.3846 - mae: 1873.3846 - mse: 20979958.0000 - val_loss: 1882.9031 - val_mae: 1882.9031 - val_mse: 21193980.0000\n",
      "Epoch 501/1000\n",
      "27/27 [==============================] - 0s 3ms/step - loss: 1889.1707 - mae: 1889.1707 - mse: 21051236.0000 - val_loss: 1821.4407 - val_mae: 1821.4407 - val_mse: 20317488.0000\n",
      "Epoch 502/1000\n",
      "27/27 [==============================] - 0s 3ms/step - loss: 1872.8053 - mae: 1872.8053 - mse: 20843790.0000 - val_loss: 2085.3499 - val_mae: 2085.3499 - val_mse: 20270030.0000\n",
      "Epoch 503/1000\n",
      "27/27 [==============================] - 0s 3ms/step - loss: 1873.2113 - mae: 1873.2113 - mse: 20780872.0000 - val_loss: 2355.7332 - val_mae: 2355.7332 - val_mse: 24158894.0000\n",
      "Epoch 504/1000\n",
      "27/27 [==============================] - 0s 3ms/step - loss: 1908.8120 - mae: 1908.8120 - mse: 20808084.0000 - val_loss: 1834.1580 - val_mae: 1834.1580 - val_mse: 20236078.0000\n",
      "Epoch 505/1000\n",
      "27/27 [==============================] - 0s 3ms/step - loss: 1848.7018 - mae: 1848.7018 - mse: 20632816.0000 - val_loss: 1856.8491 - val_mae: 1856.8491 - val_mse: 21205958.0000\n",
      "Epoch 506/1000\n",
      "27/27 [==============================] - 0s 3ms/step - loss: 1898.6005 - mae: 1898.6005 - mse: 21006690.0000 - val_loss: 1853.1383 - val_mae: 1853.1383 - val_mse: 20109496.0000\n",
      "Epoch 507/1000\n",
      "27/27 [==============================] - 0s 3ms/step - loss: 1844.9279 - mae: 1844.9279 - mse: 20643374.0000 - val_loss: 2189.2278 - val_mae: 2189.2278 - val_mse: 19799586.0000\n",
      "Epoch 508/1000\n",
      "27/27 [==============================] - 0s 3ms/step - loss: 1913.6022 - mae: 1913.6022 - mse: 20974140.0000 - val_loss: 1872.4056 - val_mae: 1872.4056 - val_mse: 21224328.0000\n",
      "Epoch 509/1000\n",
      "27/27 [==============================] - 0s 3ms/step - loss: 1885.8914 - mae: 1885.8914 - mse: 21251134.0000 - val_loss: 2063.3596 - val_mae: 2063.3596 - val_mse: 20028460.0000\n",
      "Epoch 510/1000\n",
      "27/27 [==============================] - 0s 3ms/step - loss: 1892.3809 - mae: 1892.3809 - mse: 20627310.0000 - val_loss: 2048.8687 - val_mae: 2048.8687 - val_mse: 20387654.0000\n",
      "Epoch 511/1000\n",
      "27/27 [==============================] - 0s 3ms/step - loss: 1870.7283 - mae: 1870.7283 - mse: 20839714.0000 - val_loss: 2090.7280 - val_mae: 2090.7280 - val_mse: 21416728.0000\n",
      "Epoch 512/1000\n",
      "27/27 [==============================] - 0s 3ms/step - loss: 1856.2450 - mae: 1856.2450 - mse: 20566318.0000 - val_loss: 1951.0613 - val_mae: 1951.0613 - val_mse: 19927744.0000\n",
      "Epoch 513/1000\n",
      "27/27 [==============================] - 0s 3ms/step - loss: 1904.1309 - mae: 1904.1309 - mse: 21053418.0000 - val_loss: 2078.3931 - val_mae: 2078.3931 - val_mse: 21973002.0000\n",
      "Epoch 514/1000\n",
      "27/27 [==============================] - 0s 3ms/step - loss: 1858.9330 - mae: 1858.9330 - mse: 20612732.0000 - val_loss: 1837.6873 - val_mae: 1837.6873 - val_mse: 20858592.0000\n",
      "Epoch 515/1000\n",
      "27/27 [==============================] - 0s 3ms/step - loss: 1893.2919 - mae: 1893.2919 - mse: 20747632.0000 - val_loss: 2041.0065 - val_mae: 2041.0065 - val_mse: 19832832.0000\n",
      "Epoch 516/1000\n",
      "27/27 [==============================] - 0s 3ms/step - loss: 1877.9612 - mae: 1877.9612 - mse: 20966704.0000 - val_loss: 1848.2581 - val_mae: 1848.2581 - val_mse: 20875668.0000\n",
      "Epoch 517/1000\n",
      "27/27 [==============================] - 0s 3ms/step - loss: 1859.9841 - mae: 1859.9841 - mse: 20810728.0000 - val_loss: 2204.8242 - val_mae: 2204.8242 - val_mse: 19828922.0000\n",
      "Epoch 518/1000\n",
      "27/27 [==============================] - 0s 3ms/step - loss: 1857.2023 - mae: 1857.2023 - mse: 20436026.0000 - val_loss: 1847.4565 - val_mae: 1847.4565 - val_mse: 20999670.0000\n",
      "Epoch 519/1000\n",
      "27/27 [==============================] - 0s 3ms/step - loss: 1862.4642 - mae: 1862.4642 - mse: 20749918.0000 - val_loss: 1843.9156 - val_mae: 1843.9156 - val_mse: 21106934.0000\n",
      "Epoch 520/1000\n",
      " 1/27 [>.............................] - ETA: 0s - loss: 2082.5586 - mae: 2082.5586 - mse: 28713142.0000INFO:tensorflow:Assets written to: .\\checkpoint\\assets\n"
     ]
    },
    {
     "name": "stderr",
     "output_type": "stream",
     "text": [
      "INFO:tensorflow:Assets written to: .\\checkpoint\\assets\n"
     ]
    },
    {
     "name": "stdout",
     "output_type": "stream",
     "text": [
      "27/27 [==============================] - 1s 27ms/step - loss: 1816.3795 - mae: 1816.3795 - mse: 20306678.0000 - val_loss: 1771.9764 - val_mae: 1771.9764 - val_mse: 20371494.0000\n",
      "Epoch 521/1000\n",
      "27/27 [==============================] - 0s 3ms/step - loss: 1876.8253 - mae: 1876.8253 - mse: 20825002.0000 - val_loss: 1911.5549 - val_mae: 1911.5549 - val_mse: 21316658.0000\n",
      "Epoch 522/1000\n",
      "27/27 [==============================] - 0s 3ms/step - loss: 1857.7502 - mae: 1857.7502 - mse: 20714130.0000 - val_loss: 2161.7007 - val_mae: 2161.7007 - val_mse: 20324864.0000\n",
      "Epoch 523/1000\n",
      "27/27 [==============================] - 0s 3ms/step - loss: 1902.4675 - mae: 1902.4675 - mse: 20838678.0000 - val_loss: 2129.7498 - val_mae: 2129.7498 - val_mse: 22222922.0000\n",
      "Epoch 524/1000\n",
      "27/27 [==============================] - 0s 3ms/step - loss: 1875.2572 - mae: 1875.2572 - mse: 20873104.0000 - val_loss: 2220.7112 - val_mae: 2220.7112 - val_mse: 20169362.0000\n",
      "Epoch 525/1000\n",
      "27/27 [==============================] - 0s 3ms/step - loss: 1832.3934 - mae: 1832.3934 - mse: 20781912.0000 - val_loss: 1993.9755 - val_mae: 1993.9755 - val_mse: 21507166.0000\n",
      "Epoch 526/1000\n",
      "27/27 [==============================] - 0s 3ms/step - loss: 1909.9890 - mae: 1909.9890 - mse: 21066958.0000 - val_loss: 2238.4922 - val_mae: 2238.4922 - val_mse: 20504300.0000\n",
      "Epoch 527/1000\n",
      "27/27 [==============================] - 0s 3ms/step - loss: 1846.8671 - mae: 1846.8671 - mse: 20755604.0000 - val_loss: 2162.9133 - val_mae: 2162.9133 - val_mse: 20370198.0000\n",
      "Epoch 528/1000\n",
      "27/27 [==============================] - 0s 3ms/step - loss: 1855.3295 - mae: 1855.3295 - mse: 20723454.0000 - val_loss: 1913.4988 - val_mae: 1913.4988 - val_mse: 21379306.0000\n",
      "Epoch 529/1000\n",
      "27/27 [==============================] - 0s 3ms/step - loss: 1854.1387 - mae: 1854.1387 - mse: 20655418.0000 - val_loss: 2256.8584 - val_mae: 2256.8584 - val_mse: 20230056.0000\n",
      "Epoch 530/1000\n",
      "27/27 [==============================] - 0s 3ms/step - loss: 1893.5215 - mae: 1893.5215 - mse: 20977922.0000 - val_loss: 1806.3492 - val_mae: 1806.3492 - val_mse: 20702414.0000\n",
      "Epoch 531/1000\n",
      "27/27 [==============================] - 0s 3ms/step - loss: 1872.8777 - mae: 1872.8777 - mse: 20676878.0000 - val_loss: 2264.2505 - val_mae: 2264.2505 - val_mse: 22448148.0000\n",
      "Epoch 532/1000\n",
      "27/27 [==============================] - 0s 3ms/step - loss: 1880.0431 - mae: 1880.0431 - mse: 21063402.0000 - val_loss: 1995.0928 - val_mae: 1995.0928 - val_mse: 21611690.0000\n",
      "Epoch 533/1000\n",
      "27/27 [==============================] - 0s 4ms/step - loss: 1883.2380 - mae: 1883.2380 - mse: 20708914.0000 - val_loss: 2294.3428 - val_mae: 2294.3428 - val_mse: 23222100.0000\n",
      "Epoch 534/1000\n",
      "27/27 [==============================] - 0s 3ms/step - loss: 1860.0609 - mae: 1860.0609 - mse: 20696632.0000 - val_loss: 1912.3563 - val_mae: 1912.3563 - val_mse: 20567142.0000\n",
      "Epoch 535/1000\n",
      "27/27 [==============================] - 0s 3ms/step - loss: 1835.3832 - mae: 1835.3832 - mse: 20763076.0000 - val_loss: 2220.2080 - val_mae: 2220.2080 - val_mse: 22911890.0000\n",
      "Epoch 536/1000\n",
      "27/27 [==============================] - 0s 3ms/step - loss: 1886.4048 - mae: 1886.4048 - mse: 21007974.0000 - val_loss: 2024.6577 - val_mae: 2024.6577 - val_mse: 20456716.0000\n",
      "Epoch 537/1000\n",
      "27/27 [==============================] - 0s 3ms/step - loss: 1862.2480 - mae: 1862.2480 - mse: 20525128.0000 - val_loss: 1905.9108 - val_mae: 1905.9108 - val_mse: 20485862.0000\n",
      "Epoch 538/1000\n",
      "27/27 [==============================] - 0s 3ms/step - loss: 1844.0044 - mae: 1844.0044 - mse: 20837978.0000 - val_loss: 1885.0372 - val_mae: 1885.0372 - val_mse: 21380240.0000\n",
      "Epoch 539/1000\n",
      "27/27 [==============================] - 0s 3ms/step - loss: 1830.7991 - mae: 1830.7991 - mse: 20582566.0000 - val_loss: 2371.8757 - val_mae: 2371.8757 - val_mse: 20000382.0000\n",
      "Epoch 540/1000\n",
      "27/27 [==============================] - 0s 3ms/step - loss: 1856.8027 - mae: 1856.8027 - mse: 20498104.0000 - val_loss: 2257.3337 - val_mae: 2257.3337 - val_mse: 20204730.0000\n",
      "Epoch 541/1000\n",
      "27/27 [==============================] - 0s 3ms/step - loss: 1874.3024 - mae: 1874.3024 - mse: 20685048.0000 - val_loss: 1844.8662 - val_mae: 1844.8662 - val_mse: 20237882.0000\n",
      "Epoch 542/1000\n",
      "27/27 [==============================] - 0s 3ms/step - loss: 1880.4473 - mae: 1880.4473 - mse: 20572022.0000 - val_loss: 1805.4318 - val_mae: 1805.4318 - val_mse: 20848714.0000\n",
      "Epoch 543/1000\n",
      "27/27 [==============================] - 0s 3ms/step - loss: 1874.9363 - mae: 1874.9363 - mse: 20832280.0000 - val_loss: 1963.5050 - val_mae: 1963.5050 - val_mse: 19904984.0000\n",
      "Epoch 544/1000\n",
      "27/27 [==============================] - 0s 3ms/step - loss: 1848.7629 - mae: 1848.7629 - mse: 20439328.0000 - val_loss: 1961.3213 - val_mae: 1961.3213 - val_mse: 21572032.0000\n",
      "Epoch 545/1000\n",
      "27/27 [==============================] - 0s 3ms/step - loss: 1870.4764 - mae: 1870.4764 - mse: 20443212.0000 - val_loss: 1825.6053 - val_mae: 1825.6053 - val_mse: 20613548.0000\n",
      "Epoch 546/1000\n",
      "27/27 [==============================] - 0s 4ms/step - loss: 1837.6763 - mae: 1837.6763 - mse: 21064542.0000 - val_loss: 2066.4827 - val_mae: 2066.4827 - val_mse: 22240318.0000\n",
      "Epoch 547/1000\n",
      "27/27 [==============================] - 0s 3ms/step - loss: 1879.6423 - mae: 1879.6423 - mse: 20659130.0000 - val_loss: 1814.0342 - val_mae: 1814.0342 - val_mse: 20733722.0000\n",
      "Epoch 548/1000\n",
      "27/27 [==============================] - 0s 3ms/step - loss: 1852.9952 - mae: 1852.9952 - mse: 20549530.0000 - val_loss: 1877.7067 - val_mae: 1877.7067 - val_mse: 21138662.0000\n",
      "Epoch 549/1000\n",
      "27/27 [==============================] - 0s 3ms/step - loss: 1846.2974 - mae: 1846.2974 - mse: 20590166.0000 - val_loss: 1917.6324 - val_mae: 1917.6324 - val_mse: 20019318.0000\n",
      "Epoch 550/1000\n",
      "27/27 [==============================] - 0s 3ms/step - loss: 1828.0148 - mae: 1828.0148 - mse: 20520848.0000 - val_loss: 2131.6292 - val_mae: 2131.6292 - val_mse: 19951538.0000\n",
      "Epoch 551/1000\n",
      "27/27 [==============================] - 0s 3ms/step - loss: 1844.7733 - mae: 1844.7733 - mse: 20416314.0000 - val_loss: 2097.0596 - val_mae: 2097.0596 - val_mse: 21690230.0000\n",
      "Epoch 552/1000\n",
      "27/27 [==============================] - 0s 3ms/step - loss: 1866.1770 - mae: 1866.1770 - mse: 20852844.0000 - val_loss: 2034.9554 - val_mae: 2034.9554 - val_mse: 22062260.0000\n",
      "Epoch 553/1000\n",
      "27/27 [==============================] - 0s 3ms/step - loss: 1829.5784 - mae: 1829.5784 - mse: 20598166.0000 - val_loss: 1948.5566 - val_mae: 1948.5566 - val_mse: 20152298.0000\n",
      "Epoch 554/1000\n",
      "27/27 [==============================] - 0s 3ms/step - loss: 1886.6729 - mae: 1886.6729 - mse: 21085904.0000 - val_loss: 2035.1909 - val_mae: 2035.1909 - val_mse: 20433790.0000\n",
      "Epoch 555/1000\n",
      "27/27 [==============================] - 0s 3ms/step - loss: 1833.1724 - mae: 1833.1724 - mse: 20654334.0000 - val_loss: 2308.8584 - val_mae: 2308.8584 - val_mse: 20857396.0000\n",
      "Epoch 556/1000\n",
      "27/27 [==============================] - 0s 3ms/step - loss: 1864.8368 - mae: 1864.8368 - mse: 20447858.0000 - val_loss: 2020.9358 - val_mae: 2020.9358 - val_mse: 21804236.0000\n",
      "Epoch 557/1000\n",
      "27/27 [==============================] - 0s 3ms/step - loss: 1890.7122 - mae: 1890.7122 - mse: 20786362.0000 - val_loss: 1857.1271 - val_mae: 1857.1271 - val_mse: 20309640.0000\n",
      "Epoch 558/1000\n",
      "27/27 [==============================] - 0s 3ms/step - loss: 1835.6429 - mae: 1835.6429 - mse: 20346014.0000 - val_loss: 2270.7632 - val_mae: 2270.7632 - val_mse: 23908924.0000\n",
      "Epoch 559/1000\n",
      "27/27 [==============================] - 0s 3ms/step - loss: 1809.6542 - mae: 1809.6542 - mse: 20272998.0000 - val_loss: 2212.0576 - val_mae: 2212.0576 - val_mse: 24010854.0000\n",
      "Epoch 560/1000\n",
      "27/27 [==============================] - 0s 3ms/step - loss: 1867.0519 - mae: 1867.0519 - mse: 20896440.0000 - val_loss: 1896.4810 - val_mae: 1896.4810 - val_mse: 20071730.0000\n",
      "Epoch 561/1000\n",
      " 1/27 [>.............................] - ETA: 0s - loss: 1968.1775 - mae: 1968.1775 - mse: 20684422.0000INFO:tensorflow:Assets written to: .\\checkpoint\\assets\n"
     ]
    },
    {
     "name": "stderr",
     "output_type": "stream",
     "text": [
      "INFO:tensorflow:Assets written to: .\\checkpoint\\assets\n"
     ]
    },
    {
     "name": "stdout",
     "output_type": "stream",
     "text": [
      "27/27 [==============================] - 1s 29ms/step - loss: 1822.5062 - mae: 1822.5062 - mse: 20631776.0000 - val_loss: 1762.0222 - val_mae: 1762.0222 - val_mse: 20383788.0000\n",
      "Epoch 562/1000\n",
      "27/27 [==============================] - 0s 4ms/step - loss: 1845.4849 - mae: 1845.4849 - mse: 20327986.0000 - val_loss: 1963.4020 - val_mae: 1963.4020 - val_mse: 23001780.0000\n",
      "Epoch 563/1000\n",
      "27/27 [==============================] - 0s 3ms/step - loss: 1852.7056 - mae: 1852.7056 - mse: 20854514.0000 - val_loss: 2162.0557 - val_mae: 2162.0557 - val_mse: 20609934.0000\n",
      "Epoch 564/1000\n",
      "27/27 [==============================] - 0s 3ms/step - loss: 1846.5137 - mae: 1846.5137 - mse: 20555128.0000 - val_loss: 1936.2722 - val_mae: 1936.2722 - val_mse: 21770188.0000\n",
      "Epoch 565/1000\n",
      "27/27 [==============================] - 0s 3ms/step - loss: 1852.7882 - mae: 1852.7882 - mse: 20651850.0000 - val_loss: 2365.0713 - val_mae: 2365.0713 - val_mse: 24959344.0000\n",
      "Epoch 566/1000\n",
      "27/27 [==============================] - 0s 5ms/step - loss: 1833.6466 - mae: 1833.6466 - mse: 20591472.0000 - val_loss: 1931.2761 - val_mae: 1931.2761 - val_mse: 21462222.0000\n",
      "Epoch 567/1000\n",
      "27/27 [==============================] - 0s 3ms/step - loss: 1831.5186 - mae: 1831.5186 - mse: 20553366.0000 - val_loss: 1810.4960 - val_mae: 1810.4960 - val_mse: 20908168.0000\n",
      "Epoch 568/1000\n",
      "27/27 [==============================] - 0s 3ms/step - loss: 1825.1377 - mae: 1825.1377 - mse: 20423066.0000 - val_loss: 1809.5396 - val_mae: 1809.5396 - val_mse: 20525792.0000\n",
      "Epoch 569/1000\n",
      "27/27 [==============================] - 0s 4ms/step - loss: 1840.3723 - mae: 1840.3723 - mse: 20480706.0000 - val_loss: 1929.4028 - val_mae: 1929.4028 - val_mse: 20564782.0000\n",
      "Epoch 570/1000\n",
      "27/27 [==============================] - 0s 3ms/step - loss: 1861.4935 - mae: 1861.4935 - mse: 20785020.0000 - val_loss: 1971.1034 - val_mae: 1971.1034 - val_mse: 20009790.0000\n",
      "Epoch 571/1000\n",
      "27/27 [==============================] - 0s 3ms/step - loss: 1830.4376 - mae: 1830.4376 - mse: 20411860.0000 - val_loss: 1970.5815 - val_mae: 1970.5817 - val_mse: 21396948.0000\n",
      "Epoch 572/1000\n",
      "27/27 [==============================] - 0s 3ms/step - loss: 1848.7551 - mae: 1848.7551 - mse: 20573554.0000 - val_loss: 1828.3737 - val_mae: 1828.3737 - val_mse: 20737830.0000\n",
      "Epoch 573/1000\n",
      "27/27 [==============================] - 0s 3ms/step - loss: 1843.9666 - mae: 1843.9666 - mse: 20906214.0000 - val_loss: 2194.0686 - val_mae: 2194.0686 - val_mse: 22555060.0000\n",
      "Epoch 574/1000\n",
      "27/27 [==============================] - 0s 3ms/step - loss: 1858.5057 - mae: 1858.5057 - mse: 20936896.0000 - val_loss: 2278.5884 - val_mae: 2278.5884 - val_mse: 20237776.0000\n",
      "Epoch 575/1000\n",
      "27/27 [==============================] - 0s 3ms/step - loss: 1848.2839 - mae: 1848.2839 - mse: 20502848.0000 - val_loss: 1989.6416 - val_mae: 1989.6416 - val_mse: 22661702.0000\n",
      "Epoch 576/1000\n",
      "27/27 [==============================] - 0s 4ms/step - loss: 1858.5214 - mae: 1858.5214 - mse: 20783688.0000 - val_loss: 2192.8770 - val_mae: 2192.8770 - val_mse: 23159352.0000\n",
      "Epoch 577/1000\n",
      "27/27 [==============================] - 0s 3ms/step - loss: 1849.9038 - mae: 1849.9038 - mse: 20573472.0000 - val_loss: 2057.3625 - val_mae: 2057.3625 - val_mse: 22905452.0000\n",
      "Epoch 578/1000\n",
      "27/27 [==============================] - 0s 3ms/step - loss: 1865.1927 - mae: 1865.1927 - mse: 21043664.0000 - val_loss: 2258.2375 - val_mae: 2258.2375 - val_mse: 20553160.0000\n",
      "Epoch 579/1000\n",
      "27/27 [==============================] - 0s 3ms/step - loss: 1810.9658 - mae: 1810.9658 - mse: 20258918.0000 - val_loss: 2161.3640 - val_mae: 2161.3640 - val_mse: 22154424.0000\n",
      "Epoch 580/1000\n",
      "27/27 [==============================] - 0s 3ms/step - loss: 1854.3967 - mae: 1854.3967 - mse: 20331384.0000 - val_loss: 1823.2308 - val_mae: 1823.2308 - val_mse: 20582900.0000\n",
      "Epoch 581/1000\n",
      "27/27 [==============================] - 0s 4ms/step - loss: 1819.7524 - mae: 1819.7524 - mse: 20413430.0000 - val_loss: 2399.6638 - val_mae: 2399.6638 - val_mse: 25407304.0000\n",
      "Epoch 582/1000\n",
      "27/27 [==============================] - 0s 3ms/step - loss: 1838.5470 - mae: 1838.5470 - mse: 20980322.0000 - val_loss: 2308.1211 - val_mae: 2308.1211 - val_mse: 23557684.0000\n",
      "Epoch 583/1000\n",
      "27/27 [==============================] - 0s 3ms/step - loss: 1833.5826 - mae: 1833.5826 - mse: 20705670.0000 - val_loss: 2059.2371 - val_mae: 2059.2371 - val_mse: 23481624.0000\n",
      "Epoch 584/1000\n",
      "27/27 [==============================] - 0s 3ms/step - loss: 1855.4712 - mae: 1855.4712 - mse: 20491348.0000 - val_loss: 1826.9165 - val_mae: 1826.9165 - val_mse: 21062580.0000\n",
      "Epoch 585/1000\n",
      "27/27 [==============================] - 0s 3ms/step - loss: 1803.7502 - mae: 1803.7502 - mse: 20308898.0000 - val_loss: 2115.1177 - val_mae: 2115.1177 - val_mse: 22445510.0000\n",
      "Epoch 586/1000\n",
      "27/27 [==============================] - 0s 3ms/step - loss: 1839.3729 - mae: 1839.3729 - mse: 20714586.0000 - val_loss: 2129.3425 - val_mae: 2129.3425 - val_mse: 20002322.0000\n",
      "Epoch 587/1000\n",
      "27/27 [==============================] - 0s 3ms/step - loss: 1863.9467 - mae: 1863.9467 - mse: 20434790.0000 - val_loss: 1976.9789 - val_mae: 1976.9789 - val_mse: 21628148.0000\n",
      "Epoch 588/1000\n",
      "27/27 [==============================] - 0s 3ms/step - loss: 1828.6329 - mae: 1828.6329 - mse: 20585568.0000 - val_loss: 1813.5760 - val_mae: 1813.5760 - val_mse: 20980024.0000\n",
      "Epoch 589/1000\n",
      "27/27 [==============================] - 0s 3ms/step - loss: 1833.4241 - mae: 1833.4241 - mse: 20757918.0000 - val_loss: 2002.9047 - val_mae: 2002.9047 - val_mse: 22130004.0000\n",
      "Epoch 590/1000\n",
      "27/27 [==============================] - 0s 3ms/step - loss: 1859.1650 - mae: 1859.1650 - mse: 20698418.0000 - val_loss: 1968.7277 - val_mae: 1968.7277 - val_mse: 20604430.0000\n",
      "Epoch 591/1000\n",
      "27/27 [==============================] - 0s 3ms/step - loss: 1820.1482 - mae: 1820.1482 - mse: 20345440.0000 - val_loss: 1969.3607 - val_mae: 1969.3607 - val_mse: 22023994.0000\n",
      "Epoch 592/1000\n",
      "27/27 [==============================] - 0s 3ms/step - loss: 1814.2909 - mae: 1814.2909 - mse: 20111892.0000 - val_loss: 1986.3477 - val_mae: 1986.3477 - val_mse: 21800166.0000\n",
      "Epoch 593/1000\n",
      "27/27 [==============================] - 0s 3ms/step - loss: 1824.2194 - mae: 1824.2194 - mse: 20442656.0000 - val_loss: 2068.5793 - val_mae: 2068.5793 - val_mse: 19937698.0000\n",
      "Epoch 594/1000\n",
      "27/27 [==============================] - 0s 3ms/step - loss: 1847.0381 - mae: 1847.0381 - mse: 20937480.0000 - val_loss: 1807.3030 - val_mae: 1807.3030 - val_mse: 20886104.0000\n",
      "Epoch 595/1000\n",
      "27/27 [==============================] - 0s 3ms/step - loss: 1840.4641 - mae: 1840.4641 - mse: 20427476.0000 - val_loss: 1826.3385 - val_mae: 1826.3385 - val_mse: 20844540.0000\n",
      "Epoch 596/1000\n",
      "27/27 [==============================] - 0s 3ms/step - loss: 1819.4442 - mae: 1819.4442 - mse: 20341496.0000 - val_loss: 2040.0243 - val_mae: 2040.0244 - val_mse: 22143736.0000\n",
      "Epoch 597/1000\n",
      "27/27 [==============================] - 0s 3ms/step - loss: 1829.9213 - mae: 1829.9213 - mse: 20491448.0000 - val_loss: 2040.8949 - val_mae: 2040.8949 - val_mse: 21970404.0000\n",
      "Epoch 598/1000\n",
      "27/27 [==============================] - 0s 3ms/step - loss: 1834.2634 - mae: 1834.2634 - mse: 20533020.0000 - val_loss: 2067.0896 - val_mae: 2067.0896 - val_mse: 20574486.0000\n",
      "Epoch 599/1000\n",
      "27/27 [==============================] - 0s 3ms/step - loss: 1826.6697 - mae: 1826.6697 - mse: 20349206.0000 - val_loss: 1866.6584 - val_mae: 1866.6584 - val_mse: 21731902.0000\n",
      "Epoch 600/1000\n",
      "27/27 [==============================] - 0s 2ms/step - loss: 1830.9799 - mae: 1830.9799 - mse: 20413492.0000 - val_loss: 1785.5199 - val_mae: 1785.5199 - val_mse: 20658860.0000\n",
      "Epoch 601/1000\n",
      "27/27 [==============================] - 0s 3ms/step - loss: 1843.2618 - mae: 1843.2618 - mse: 20523986.0000 - val_loss: 2335.8398 - val_mae: 2335.8398 - val_mse: 23390876.0000\n",
      "Epoch 602/1000\n",
      "27/27 [==============================] - 0s 3ms/step - loss: 1811.9147 - mae: 1811.9147 - mse: 20169792.0000 - val_loss: 1798.5149 - val_mae: 1798.5149 - val_mse: 20945484.0000\n",
      "Epoch 603/1000\n",
      "27/27 [==============================] - 0s 3ms/step - loss: 1835.5375 - mae: 1835.5375 - mse: 20504642.0000 - val_loss: 1945.2561 - val_mae: 1945.2561 - val_mse: 20603706.0000\n",
      "Epoch 604/1000\n",
      "27/27 [==============================] - 0s 3ms/step - loss: 1814.2466 - mae: 1814.2466 - mse: 20304818.0000 - val_loss: 2050.2700 - val_mae: 2050.2700 - val_mse: 19975916.0000\n",
      "Epoch 605/1000\n",
      "27/27 [==============================] - 0s 3ms/step - loss: 1863.6495 - mae: 1863.6495 - mse: 20534264.0000 - val_loss: 2190.9587 - val_mae: 2190.9587 - val_mse: 23628570.0000\n",
      "Epoch 606/1000\n",
      "27/27 [==============================] - 0s 3ms/step - loss: 1848.7490 - mae: 1848.7490 - mse: 20558612.0000 - val_loss: 1861.6934 - val_mae: 1861.6934 - val_mse: 20392326.0000\n",
      "Epoch 607/1000\n",
      "27/27 [==============================] - 0s 3ms/step - loss: 1833.1115 - mae: 1833.1115 - mse: 20468824.0000 - val_loss: 1993.5984 - val_mae: 1993.5984 - val_mse: 21981624.0000\n",
      "Epoch 608/1000\n",
      "27/27 [==============================] - 0s 3ms/step - loss: 1820.8485 - mae: 1820.8485 - mse: 20369364.0000 - val_loss: 2263.5344 - val_mae: 2263.5344 - val_mse: 23197118.0000\n",
      "Epoch 609/1000\n",
      "27/27 [==============================] - 0s 3ms/step - loss: 1830.2777 - mae: 1830.2777 - mse: 20480504.0000 - val_loss: 1859.6742 - val_mae: 1859.6742 - val_mse: 21178088.0000\n",
      "Epoch 610/1000\n",
      "27/27 [==============================] - 0s 3ms/step - loss: 1824.2729 - mae: 1824.2729 - mse: 20490596.0000 - val_loss: 1825.1416 - val_mae: 1825.1416 - val_mse: 21316836.0000\n",
      "Epoch 611/1000\n",
      "27/27 [==============================] - 0s 3ms/step - loss: 1782.0819 - mae: 1782.0819 - mse: 20289382.0000 - val_loss: 1916.5564 - val_mae: 1916.5564 - val_mse: 21402970.0000\n",
      "Epoch 612/1000\n",
      "27/27 [==============================] - 0s 3ms/step - loss: 1801.9670 - mae: 1801.9670 - mse: 20352950.0000 - val_loss: 1997.9570 - val_mae: 1997.9570 - val_mse: 23792740.0000\n",
      "Epoch 613/1000\n",
      "27/27 [==============================] - 0s 2ms/step - loss: 1845.9543 - mae: 1845.9543 - mse: 20566500.0000 - val_loss: 2294.3699 - val_mae: 2294.3699 - val_mse: 22005016.0000\n",
      "Epoch 614/1000\n",
      "27/27 [==============================] - 0s 3ms/step - loss: 1826.7983 - mae: 1826.7983 - mse: 20618056.0000 - val_loss: 2134.9443 - val_mae: 2134.9443 - val_mse: 22854840.0000\n",
      "Epoch 615/1000\n",
      "27/27 [==============================] - 0s 3ms/step - loss: 1795.3168 - mae: 1795.3168 - mse: 20422738.0000 - val_loss: 2544.9736 - val_mae: 2544.9736 - val_mse: 21620894.0000\n",
      "Epoch 616/1000\n",
      "27/27 [==============================] - 0s 3ms/step - loss: 1831.4760 - mae: 1831.4760 - mse: 20349382.0000 - val_loss: 1973.1498 - val_mae: 1973.1498 - val_mse: 20344506.0000\n",
      "Epoch 617/1000\n",
      "27/27 [==============================] - 0s 4ms/step - loss: 1810.6683 - mae: 1810.6683 - mse: 20517892.0000 - val_loss: 2111.2222 - val_mae: 2111.2222 - val_mse: 21360616.0000\n",
      "Epoch 618/1000\n",
      "27/27 [==============================] - 0s 3ms/step - loss: 1827.7617 - mae: 1827.7617 - mse: 20884772.0000 - val_loss: 1909.8440 - val_mae: 1909.8440 - val_mse: 21318868.0000\n",
      "Epoch 619/1000\n",
      "27/27 [==============================] - 0s 3ms/step - loss: 1809.8748 - mae: 1809.8748 - mse: 20361386.0000 - val_loss: 2196.5854 - val_mae: 2196.5854 - val_mse: 24858882.0000\n",
      "Epoch 620/1000\n",
      "27/27 [==============================] - 0s 3ms/step - loss: 1847.6010 - mae: 1847.6010 - mse: 20641606.0000 - val_loss: 2162.6460 - val_mae: 2162.6460 - val_mse: 20880394.0000\n",
      "Epoch 621/1000\n",
      "27/27 [==============================] - 0s 3ms/step - loss: 1822.8647 - mae: 1822.8647 - mse: 20603632.0000 - val_loss: 1886.8488 - val_mae: 1886.8488 - val_mse: 21729972.0000\n",
      "Epoch 622/1000\n",
      "27/27 [==============================] - 0s 3ms/step - loss: 1812.4380 - mae: 1812.4380 - mse: 20314488.0000 - val_loss: 2008.5968 - val_mae: 2008.5968 - val_mse: 20637768.0000\n",
      "Epoch 623/1000\n",
      "27/27 [==============================] - 0s 3ms/step - loss: 1841.4132 - mae: 1841.4132 - mse: 20504098.0000 - val_loss: 1975.6985 - val_mae: 1975.6985 - val_mse: 20312846.0000\n",
      "Epoch 624/1000\n",
      "27/27 [==============================] - 0s 3ms/step - loss: 1797.3822 - mae: 1797.3822 - mse: 20444676.0000 - val_loss: 1899.5809 - val_mae: 1899.5809 - val_mse: 21792038.0000\n",
      "Epoch 625/1000\n",
      "27/27 [==============================] - 0s 3ms/step - loss: 1789.0842 - mae: 1789.0842 - mse: 20296500.0000 - val_loss: 1946.6667 - val_mae: 1946.6667 - val_mse: 20138180.0000\n",
      "Epoch 626/1000\n",
      "27/27 [==============================] - 0s 3ms/step - loss: 1847.1212 - mae: 1847.1212 - mse: 20487914.0000 - val_loss: 1971.1010 - val_mae: 1971.1010 - val_mse: 22355434.0000\n",
      "Epoch 627/1000\n",
      "27/27 [==============================] - 0s 3ms/step - loss: 1825.2432 - mae: 1825.2432 - mse: 20251966.0000 - val_loss: 1917.8041 - val_mae: 1917.8041 - val_mse: 21075306.0000\n",
      "Epoch 628/1000\n",
      "27/27 [==============================] - 0s 3ms/step - loss: 1836.3796 - mae: 1836.3796 - mse: 20898630.0000 - val_loss: 2277.9707 - val_mae: 2277.9707 - val_mse: 23237524.0000\n",
      "Epoch 629/1000\n",
      "27/27 [==============================] - 0s 3ms/step - loss: 1825.6401 - mae: 1825.6401 - mse: 20727024.0000 - val_loss: 1974.4414 - val_mae: 1974.4413 - val_mse: 21516650.0000\n",
      "Epoch 630/1000\n",
      "27/27 [==============================] - 0s 3ms/step - loss: 1800.0967 - mae: 1800.0967 - mse: 20179134.0000 - val_loss: 2153.4822 - val_mae: 2153.4822 - val_mse: 22432106.0000\n",
      "Epoch 631/1000\n",
      "27/27 [==============================] - 0s 3ms/step - loss: 1813.9017 - mae: 1813.9017 - mse: 20479392.0000 - val_loss: 1870.7723 - val_mae: 1870.7723 - val_mse: 21645764.0000\n",
      "Epoch 632/1000\n",
      "27/27 [==============================] - 0s 3ms/step - loss: 1829.1501 - mae: 1829.1501 - mse: 20597134.0000 - val_loss: 2233.8342 - val_mae: 2233.8342 - val_mse: 23500912.0000\n",
      "Epoch 633/1000\n",
      " 1/27 [>.............................] - ETA: 0s - loss: 3611.1968 - mae: 3611.1968 - mse: 39236160.0000INFO:tensorflow:Assets written to: .\\checkpoint\\assets\n"
     ]
    },
    {
     "name": "stderr",
     "output_type": "stream",
     "text": [
      "INFO:tensorflow:Assets written to: .\\checkpoint\\assets\n"
     ]
    },
    {
     "name": "stdout",
     "output_type": "stream",
     "text": [
      "27/27 [==============================] - 1s 28ms/step - loss: 1780.6055 - mae: 1780.6055 - mse: 20360544.0000 - val_loss: 1758.4174 - val_mae: 1758.4174 - val_mse: 20438042.0000\n",
      "Epoch 634/1000\n",
      "27/27 [==============================] - 0s 3ms/step - loss: 1858.1771 - mae: 1858.1771 - mse: 20602080.0000 - val_loss: 1897.4110 - val_mae: 1897.4110 - val_mse: 20478744.0000\n",
      "Epoch 635/1000\n",
      "27/27 [==============================] - 0s 3ms/step - loss: 1806.7460 - mae: 1806.7460 - mse: 20506178.0000 - val_loss: 1825.8071 - val_mae: 1825.8071 - val_mse: 20299126.0000\n",
      "Epoch 636/1000\n",
      "27/27 [==============================] - 0s 4ms/step - loss: 1839.5771 - mae: 1839.5771 - mse: 20622028.0000 - val_loss: 1891.6316 - val_mae: 1891.6316 - val_mse: 21452004.0000\n",
      "Epoch 637/1000\n",
      "27/27 [==============================] - 0s 4ms/step - loss: 1819.4205 - mae: 1819.4205 - mse: 20602480.0000 - val_loss: 1850.6776 - val_mae: 1850.6776 - val_mse: 21282292.0000\n",
      "Epoch 638/1000\n",
      "27/27 [==============================] - 0s 3ms/step - loss: 1795.6331 - mae: 1795.6331 - mse: 20196690.0000 - val_loss: 2074.6252 - val_mae: 2074.6252 - val_mse: 24086170.0000\n",
      "Epoch 639/1000\n",
      "27/27 [==============================] - 0s 4ms/step - loss: 1836.8420 - mae: 1836.8420 - mse: 20388438.0000 - val_loss: 1886.4242 - val_mae: 1886.4242 - val_mse: 20831740.0000\n",
      "Epoch 640/1000\n",
      "27/27 [==============================] - 0s 4ms/step - loss: 1822.6711 - mae: 1822.6711 - mse: 20297982.0000 - val_loss: 1924.8391 - val_mae: 1924.8391 - val_mse: 21286426.0000\n",
      "Epoch 641/1000\n",
      "27/27 [==============================] - 0s 3ms/step - loss: 1788.9327 - mae: 1788.9327 - mse: 19991970.0000 - val_loss: 1863.9738 - val_mae: 1863.9738 - val_mse: 21340952.0000\n",
      "Epoch 642/1000\n",
      "27/27 [==============================] - 0s 3ms/step - loss: 1824.7800 - mae: 1824.7800 - mse: 20110712.0000 - val_loss: 2102.7808 - val_mae: 2102.7808 - val_mse: 24585106.0000\n",
      "Epoch 643/1000\n",
      "27/27 [==============================] - 0s 3ms/step - loss: 1792.7435 - mae: 1792.7435 - mse: 20121284.0000 - val_loss: 1937.3485 - val_mae: 1937.3485 - val_mse: 20842482.0000\n",
      "Epoch 644/1000\n",
      "27/27 [==============================] - 0s 3ms/step - loss: 1816.0955 - mae: 1816.0955 - mse: 20416532.0000 - val_loss: 1912.1560 - val_mae: 1912.1560 - val_mse: 21324144.0000\n",
      "Epoch 645/1000\n",
      "27/27 [==============================] - 0s 3ms/step - loss: 1807.7872 - mae: 1807.7872 - mse: 20364748.0000 - val_loss: 1983.1666 - val_mae: 1983.1666 - val_mse: 21860750.0000\n",
      "Epoch 646/1000\n",
      "27/27 [==============================] - 0s 3ms/step - loss: 1810.7048 - mae: 1810.7048 - mse: 20413456.0000 - val_loss: 2183.3015 - val_mae: 2183.3015 - val_mse: 20488804.0000\n",
      "Epoch 647/1000\n",
      "27/27 [==============================] - 0s 3ms/step - loss: 1799.7651 - mae: 1799.7651 - mse: 20143104.0000 - val_loss: 2087.8213 - val_mae: 2087.8213 - val_mse: 22633144.0000\n",
      "Epoch 648/1000\n",
      "27/27 [==============================] - 0s 3ms/step - loss: 1812.8309 - mae: 1812.8309 - mse: 20639838.0000 - val_loss: 2044.2048 - val_mae: 2044.2048 - val_mse: 21967438.0000\n",
      "Epoch 649/1000\n",
      "27/27 [==============================] - 0s 3ms/step - loss: 1859.7772 - mae: 1859.7772 - mse: 20426090.0000 - val_loss: 2015.2909 - val_mae: 2015.2909 - val_mse: 21117644.0000\n",
      "Epoch 650/1000\n",
      "27/27 [==============================] - 0s 3ms/step - loss: 1834.4347 - mae: 1834.4347 - mse: 20795558.0000 - val_loss: 2012.6949 - val_mae: 2012.6949 - val_mse: 22322106.0000\n",
      "Epoch 651/1000\n",
      "27/27 [==============================] - 0s 3ms/step - loss: 1795.2173 - mae: 1795.2173 - mse: 20351878.0000 - val_loss: 2071.0371 - val_mae: 2071.0371 - val_mse: 23905440.0000\n",
      "Epoch 652/1000\n",
      "27/27 [==============================] - 0s 3ms/step - loss: 1810.3313 - mae: 1810.3313 - mse: 20450132.0000 - val_loss: 1826.7003 - val_mae: 1826.7003 - val_mse: 21085968.0000\n",
      "Epoch 653/1000\n",
      "27/27 [==============================] - 0s 3ms/step - loss: 1767.0719 - mae: 1767.0719 - mse: 19837280.0000 - val_loss: 1989.8101 - val_mae: 1989.8101 - val_mse: 21499066.0000\n",
      "Epoch 654/1000\n",
      "27/27 [==============================] - 0s 3ms/step - loss: 1835.7207 - mae: 1835.7207 - mse: 20906674.0000 - val_loss: 2270.3513 - val_mae: 2270.3513 - val_mse: 23111980.0000\n",
      "Epoch 655/1000\n",
      "27/27 [==============================] - 0s 3ms/step - loss: 1810.8577 - mae: 1810.8577 - mse: 20327834.0000 - val_loss: 1799.1265 - val_mae: 1799.1265 - val_mse: 20829952.0000\n",
      "Epoch 656/1000\n",
      "27/27 [==============================] - 0s 3ms/step - loss: 1820.7164 - mae: 1820.7164 - mse: 20412526.0000 - val_loss: 2078.5688 - val_mae: 2078.5688 - val_mse: 22354744.0000\n",
      "Epoch 657/1000\n",
      "27/27 [==============================] - 0s 4ms/step - loss: 1794.9250 - mae: 1794.9250 - mse: 20460508.0000 - val_loss: 1893.3361 - val_mae: 1893.3361 - val_mse: 21329906.0000\n",
      "Epoch 658/1000\n",
      "27/27 [==============================] - 0s 3ms/step - loss: 1818.4569 - mae: 1818.4569 - mse: 20555110.0000 - val_loss: 1862.1361 - val_mae: 1862.1361 - val_mse: 21329296.0000\n",
      "Epoch 659/1000\n",
      "27/27 [==============================] - 0s 3ms/step - loss: 1827.2463 - mae: 1827.2463 - mse: 20793930.0000 - val_loss: 1843.4376 - val_mae: 1843.4376 - val_mse: 20192050.0000\n",
      "Epoch 660/1000\n",
      "27/27 [==============================] - 0s 3ms/step - loss: 1829.5411 - mae: 1829.5411 - mse: 20475522.0000 - val_loss: 1913.7711 - val_mae: 1913.7711 - val_mse: 21818888.0000\n",
      "Epoch 661/1000\n",
      "27/27 [==============================] - 0s 3ms/step - loss: 1800.9558 - mae: 1800.9558 - mse: 20370862.0000 - val_loss: 2035.2274 - val_mae: 2035.2274 - val_mse: 20322864.0000\n",
      "Epoch 662/1000\n",
      "27/27 [==============================] - 0s 3ms/step - loss: 1806.4697 - mae: 1806.4697 - mse: 20066802.0000 - val_loss: 1811.4606 - val_mae: 1811.4606 - val_mse: 20941402.0000\n",
      "Epoch 663/1000\n",
      "27/27 [==============================] - 0s 3ms/step - loss: 1796.1036 - mae: 1796.1036 - mse: 20315990.0000 - val_loss: 1799.6951 - val_mae: 1799.6951 - val_mse: 20992720.0000\n",
      "Epoch 664/1000\n",
      "27/27 [==============================] - 0s 3ms/step - loss: 1814.9043 - mae: 1814.9043 - mse: 20464398.0000 - val_loss: 1950.6495 - val_mae: 1950.6495 - val_mse: 20382528.0000\n",
      "Epoch 665/1000\n",
      "27/27 [==============================] - 0s 3ms/step - loss: 1820.4241 - mae: 1820.4241 - mse: 20268240.0000 - val_loss: 2094.8821 - val_mae: 2094.8821 - val_mse: 22471136.0000\n",
      "Epoch 666/1000\n",
      "27/27 [==============================] - 0s 3ms/step - loss: 1764.1108 - mae: 1764.1108 - mse: 20090856.0000 - val_loss: 1966.4248 - val_mae: 1966.4248 - val_mse: 22162100.0000\n",
      "Epoch 667/1000\n",
      "27/27 [==============================] - 0s 3ms/step - loss: 1822.8428 - mae: 1822.8428 - mse: 20615446.0000 - val_loss: 2107.5330 - val_mae: 2107.5330 - val_mse: 22449272.0000\n",
      "Epoch 668/1000\n",
      "27/27 [==============================] - 0s 3ms/step - loss: 1807.4423 - mae: 1807.4423 - mse: 20479572.0000 - val_loss: 2296.4048 - val_mae: 2296.4048 - val_mse: 23267740.0000\n",
      "Epoch 669/1000\n",
      "27/27 [==============================] - 0s 3ms/step - loss: 1810.8690 - mae: 1810.8690 - mse: 20514458.0000 - val_loss: 1811.7616 - val_mae: 1811.7616 - val_mse: 20882954.0000\n",
      "Epoch 670/1000\n",
      "27/27 [==============================] - 0s 3ms/step - loss: 1800.6572 - mae: 1800.6572 - mse: 20517104.0000 - val_loss: 2056.0991 - val_mae: 2056.0991 - val_mse: 22642346.0000\n",
      "Epoch 671/1000\n",
      "27/27 [==============================] - 0s 3ms/step - loss: 1801.4158 - mae: 1801.4158 - mse: 20432266.0000 - val_loss: 1871.4775 - val_mae: 1871.4775 - val_mse: 21336456.0000\n",
      "Epoch 672/1000\n",
      "27/27 [==============================] - 0s 3ms/step - loss: 1831.4218 - mae: 1831.4218 - mse: 20492020.0000 - val_loss: 2402.4951 - val_mae: 2402.4951 - val_mse: 26619218.0000\n",
      "Epoch 673/1000\n",
      "27/27 [==============================] - 0s 3ms/step - loss: 1802.9137 - mae: 1802.9137 - mse: 20608766.0000 - val_loss: 1807.3356 - val_mae: 1807.3356 - val_mse: 20565512.0000\n",
      "Epoch 674/1000\n",
      "27/27 [==============================] - 0s 3ms/step - loss: 1814.4169 - mae: 1814.4169 - mse: 20348924.0000 - val_loss: 1907.2185 - val_mae: 1907.2185 - val_mse: 21652040.0000\n",
      "Epoch 675/1000\n",
      "27/27 [==============================] - 0s 3ms/step - loss: 1802.9033 - mae: 1802.9033 - mse: 20433892.0000 - val_loss: 1915.2046 - val_mae: 1915.2046 - val_mse: 21362002.0000\n",
      "Epoch 676/1000\n",
      "27/27 [==============================] - 0s 3ms/step - loss: 1805.8088 - mae: 1805.8088 - mse: 20361858.0000 - val_loss: 2009.5618 - val_mae: 2009.5618 - val_mse: 22787586.0000\n",
      "Epoch 677/1000\n",
      "27/27 [==============================] - 0s 3ms/step - loss: 1768.3632 - mae: 1768.3632 - mse: 20149652.0000 - val_loss: 2136.4790 - val_mae: 2136.4790 - val_mse: 23409330.0000\n",
      "Epoch 678/1000\n",
      "27/27 [==============================] - 0s 3ms/step - loss: 1845.7534 - mae: 1845.7534 - mse: 21031614.0000 - val_loss: 2246.1160 - val_mae: 2246.1160 - val_mse: 20530626.0000\n",
      "Epoch 679/1000\n",
      "27/27 [==============================] - 0s 2ms/step - loss: 1796.4220 - mae: 1796.4220 - mse: 20619872.0000 - val_loss: 2218.3474 - val_mae: 2218.3474 - val_mse: 19983586.0000\n",
      "Epoch 680/1000\n",
      "27/27 [==============================] - 0s 3ms/step - loss: 1809.7450 - mae: 1809.7450 - mse: 20141174.0000 - val_loss: 1876.1970 - val_mae: 1876.1970 - val_mse: 20287412.0000\n",
      "Epoch 681/1000\n",
      "27/27 [==============================] - 0s 3ms/step - loss: 1781.0171 - mae: 1781.0171 - mse: 20313186.0000 - val_loss: 1896.2294 - val_mae: 1896.2294 - val_mse: 20450926.0000\n",
      "Epoch 682/1000\n",
      "27/27 [==============================] - 0s 3ms/step - loss: 1804.8262 - mae: 1804.8262 - mse: 20444890.0000 - val_loss: 2088.3601 - val_mae: 2088.3601 - val_mse: 23173400.0000\n",
      "Epoch 683/1000\n",
      "27/27 [==============================] - 0s 3ms/step - loss: 1761.6632 - mae: 1761.6632 - mse: 19888534.0000 - val_loss: 2411.5669 - val_mae: 2411.5669 - val_mse: 22263426.0000\n",
      "Epoch 684/1000\n",
      "27/27 [==============================] - 0s 3ms/step - loss: 1834.3660 - mae: 1834.3660 - mse: 20348452.0000 - val_loss: 1804.4778 - val_mae: 1804.4778 - val_mse: 20794966.0000\n",
      "Epoch 685/1000\n",
      "27/27 [==============================] - 0s 3ms/step - loss: 1793.8264 - mae: 1793.8264 - mse: 20150434.0000 - val_loss: 1931.8202 - val_mae: 1931.8202 - val_mse: 21976194.0000\n",
      "Epoch 686/1000\n",
      "27/27 [==============================] - 0s 3ms/step - loss: 1799.7094 - mae: 1799.7094 - mse: 20068814.0000 - val_loss: 1837.5922 - val_mae: 1837.5922 - val_mse: 20252062.0000\n",
      "Epoch 687/1000\n",
      "27/27 [==============================] - 0s 3ms/step - loss: 1796.0768 - mae: 1796.0768 - mse: 20067584.0000 - val_loss: 2289.3733 - val_mae: 2289.3733 - val_mse: 23522756.0000\n",
      "Epoch 688/1000\n",
      "27/27 [==============================] - 0s 3ms/step - loss: 1781.0787 - mae: 1781.0787 - mse: 20074620.0000 - val_loss: 1851.7721 - val_mae: 1851.7719 - val_mse: 21520278.0000\n",
      "Epoch 689/1000\n",
      "27/27 [==============================] - 0s 3ms/step - loss: 1786.2334 - mae: 1786.2334 - mse: 20434676.0000 - val_loss: 1796.2864 - val_mae: 1796.2864 - val_mse: 20432494.0000\n",
      "Epoch 690/1000\n",
      "27/27 [==============================] - 0s 3ms/step - loss: 1769.5006 - mae: 1769.5006 - mse: 19999398.0000 - val_loss: 1957.5051 - val_mae: 1957.5051 - val_mse: 20122030.0000\n",
      "Epoch 691/1000\n",
      "27/27 [==============================] - 0s 3ms/step - loss: 1782.5339 - mae: 1782.5339 - mse: 20346438.0000 - val_loss: 2006.5137 - val_mae: 2006.5137 - val_mse: 21801676.0000\n",
      "Epoch 692/1000\n",
      "27/27 [==============================] - 0s 3ms/step - loss: 1780.9861 - mae: 1780.9861 - mse: 20107400.0000 - val_loss: 1813.5701 - val_mae: 1813.5701 - val_mse: 21193338.0000\n",
      "Epoch 693/1000\n",
      "27/27 [==============================] - 0s 3ms/step - loss: 1805.1420 - mae: 1805.1420 - mse: 20738000.0000 - val_loss: 2103.3872 - val_mae: 2103.3872 - val_mse: 22281110.0000\n",
      "Epoch 694/1000\n",
      "27/27 [==============================] - 0s 3ms/step - loss: 1789.5194 - mae: 1789.5194 - mse: 20180800.0000 - val_loss: 1856.5565 - val_mae: 1856.5565 - val_mse: 20861126.0000\n",
      "Epoch 695/1000\n",
      "27/27 [==============================] - 0s 3ms/step - loss: 1775.4678 - mae: 1775.4678 - mse: 20331232.0000 - val_loss: 1840.3846 - val_mae: 1840.3846 - val_mse: 20219974.0000\n",
      "Epoch 696/1000\n",
      "27/27 [==============================] - 0s 3ms/step - loss: 1761.9861 - mae: 1761.9861 - mse: 19945032.0000 - val_loss: 2150.5664 - val_mae: 2150.5664 - val_mse: 22471102.0000\n",
      "Epoch 697/1000\n",
      "27/27 [==============================] - 0s 3ms/step - loss: 1783.6454 - mae: 1783.6454 - mse: 20483904.0000 - val_loss: 2045.2059 - val_mae: 2045.2059 - val_mse: 20586162.0000\n",
      "Epoch 698/1000\n",
      "27/27 [==============================] - 0s 3ms/step - loss: 1814.6346 - mae: 1814.6346 - mse: 20357800.0000 - val_loss: 2064.4253 - val_mae: 2064.4253 - val_mse: 22054584.0000\n",
      "Epoch 699/1000\n",
      "27/27 [==============================] - 0s 3ms/step - loss: 1795.0712 - mae: 1795.0712 - mse: 20331204.0000 - val_loss: 2156.6387 - val_mae: 2156.6387 - val_mse: 20117700.0000\n",
      "Epoch 700/1000\n",
      "27/27 [==============================] - 0s 3ms/step - loss: 1802.4821 - mae: 1802.4821 - mse: 20030932.0000 - val_loss: 1985.5699 - val_mae: 1985.5699 - val_mse: 20240806.0000\n",
      "Epoch 701/1000\n",
      "27/27 [==============================] - 0s 3ms/step - loss: 1792.6680 - mae: 1792.6680 - mse: 20444868.0000 - val_loss: 1959.0587 - val_mae: 1959.0587 - val_mse: 22503654.0000\n",
      "Epoch 702/1000\n",
      "27/27 [==============================] - 0s 3ms/step - loss: 1795.3280 - mae: 1795.3280 - mse: 20496644.0000 - val_loss: 2002.2382 - val_mae: 2002.2382 - val_mse: 20299796.0000\n",
      "Epoch 703/1000\n",
      "27/27 [==============================] - 0s 3ms/step - loss: 1770.8462 - mae: 1770.8462 - mse: 20036356.0000 - val_loss: 1988.0021 - val_mae: 1988.0021 - val_mse: 21652360.0000\n",
      "Epoch 704/1000\n",
      "27/27 [==============================] - 0s 3ms/step - loss: 1794.5641 - mae: 1794.5641 - mse: 20134692.0000 - val_loss: 1855.7406 - val_mae: 1855.7406 - val_mse: 21107424.0000\n",
      "Epoch 705/1000\n",
      "27/27 [==============================] - 0s 3ms/step - loss: 1767.0142 - mae: 1767.0142 - mse: 19978084.0000 - val_loss: 1935.7706 - val_mae: 1935.7706 - val_mse: 21641838.0000\n",
      "Epoch 706/1000\n",
      "27/27 [==============================] - 0s 3ms/step - loss: 1788.9889 - mae: 1788.9889 - mse: 20247868.0000 - val_loss: 2245.9839 - val_mae: 2245.9839 - val_mse: 22795702.0000\n",
      "Epoch 707/1000\n",
      "27/27 [==============================] - 0s 3ms/step - loss: 1803.7900 - mae: 1803.7900 - mse: 20447612.0000 - val_loss: 2009.3269 - val_mae: 2009.3269 - val_mse: 20186146.0000\n",
      "Epoch 708/1000\n",
      "27/27 [==============================] - 0s 3ms/step - loss: 1745.7906 - mae: 1745.7906 - mse: 20005120.0000 - val_loss: 1855.8651 - val_mae: 1855.8651 - val_mse: 21331136.0000\n",
      "Epoch 709/1000\n",
      "27/27 [==============================] - 0s 3ms/step - loss: 1760.2217 - mae: 1760.2217 - mse: 19763592.0000 - val_loss: 1998.3003 - val_mae: 1998.3003 - val_mse: 20413622.0000\n",
      "Epoch 710/1000\n",
      "27/27 [==============================] - 0s 3ms/step - loss: 1746.9586 - mae: 1746.9586 - mse: 20135148.0000 - val_loss: 1962.5660 - val_mae: 1962.5660 - val_mse: 21664942.0000\n",
      "Epoch 711/1000\n",
      "27/27 [==============================] - 0s 3ms/step - loss: 1796.3176 - mae: 1796.3176 - mse: 20152926.0000 - val_loss: 1809.7137 - val_mae: 1809.7137 - val_mse: 21004906.0000\n",
      "Epoch 712/1000\n",
      "27/27 [==============================] - 0s 5ms/step - loss: 1766.7676 - mae: 1766.7676 - mse: 19902784.0000 - val_loss: 2101.9541 - val_mae: 2101.9541 - val_mse: 22571414.0000\n",
      "Epoch 713/1000\n",
      "27/27 [==============================] - 0s 3ms/step - loss: 1771.9576 - mae: 1771.9576 - mse: 20207302.0000 - val_loss: 2114.7935 - val_mae: 2114.7935 - val_mse: 22391044.0000\n",
      "Epoch 714/1000\n",
      "27/27 [==============================] - 0s 3ms/step - loss: 1786.0559 - mae: 1786.0559 - mse: 20161234.0000 - val_loss: 2015.8871 - val_mae: 2015.8871 - val_mse: 20053800.0000\n",
      "Epoch 715/1000\n",
      "27/27 [==============================] - 0s 3ms/step - loss: 1762.5488 - mae: 1762.5488 - mse: 19972814.0000 - val_loss: 1904.3630 - val_mae: 1904.3630 - val_mse: 21901458.0000\n",
      "Epoch 716/1000\n",
      "27/27 [==============================] - 0s 3ms/step - loss: 1822.8762 - mae: 1822.8762 - mse: 20458192.0000 - val_loss: 1787.4949 - val_mae: 1787.4949 - val_mse: 21145322.0000\n",
      "Epoch 717/1000\n",
      "27/27 [==============================] - 0s 3ms/step - loss: 1773.0673 - mae: 1773.0673 - mse: 20151834.0000 - val_loss: 2067.6523 - val_mae: 2067.6523 - val_mse: 20290970.0000\n",
      "Epoch 718/1000\n",
      "27/27 [==============================] - 0s 3ms/step - loss: 1797.5165 - mae: 1797.5165 - mse: 20349390.0000 - val_loss: 1889.0721 - val_mae: 1889.0721 - val_mse: 20743858.0000\n",
      "Epoch 719/1000\n",
      "27/27 [==============================] - 0s 3ms/step - loss: 1773.4763 - mae: 1773.4763 - mse: 20332512.0000 - val_loss: 1829.6810 - val_mae: 1829.6810 - val_mse: 20670152.0000\n",
      "Epoch 720/1000\n",
      "27/27 [==============================] - 0s 3ms/step - loss: 1799.7410 - mae: 1799.7410 - mse: 20066848.0000 - val_loss: 1762.1012 - val_mae: 1762.1012 - val_mse: 20770040.0000\n",
      "Epoch 721/1000\n",
      "27/27 [==============================] - 0s 3ms/step - loss: 1745.3678 - mae: 1745.3678 - mse: 19933708.0000 - val_loss: 1893.1273 - val_mae: 1893.1273 - val_mse: 21530686.0000\n",
      "Epoch 722/1000\n",
      "27/27 [==============================] - 0s 3ms/step - loss: 1794.3787 - mae: 1794.3787 - mse: 20292778.0000 - val_loss: 1870.3306 - val_mae: 1870.3306 - val_mse: 21583726.0000\n",
      "Epoch 723/1000\n",
      "27/27 [==============================] - 0s 3ms/step - loss: 1813.7507 - mae: 1813.7507 - mse: 20440816.0000 - val_loss: 1876.9382 - val_mae: 1876.9382 - val_mse: 21361788.0000\n",
      "Epoch 724/1000\n",
      "27/27 [==============================] - 0s 3ms/step - loss: 1800.2234 - mae: 1800.2234 - mse: 20252990.0000 - val_loss: 1899.9904 - val_mae: 1899.9904 - val_mse: 20563628.0000\n",
      "Epoch 725/1000\n",
      "27/27 [==============================] - 0s 4ms/step - loss: 1798.3528 - mae: 1798.3528 - mse: 20380530.0000 - val_loss: 2012.1952 - val_mae: 2012.1952 - val_mse: 21189218.0000\n",
      "Epoch 726/1000\n",
      "27/27 [==============================] - 0s 3ms/step - loss: 1760.2710 - mae: 1760.2710 - mse: 20375978.0000 - val_loss: 1926.7396 - val_mae: 1926.7396 - val_mse: 20110052.0000\n",
      "Epoch 727/1000\n",
      "27/27 [==============================] - 0s 3ms/step - loss: 1785.6616 - mae: 1785.6616 - mse: 20108634.0000 - val_loss: 1779.3137 - val_mae: 1779.3137 - val_mse: 20253770.0000\n",
      "Epoch 728/1000\n",
      "27/27 [==============================] - 0s 4ms/step - loss: 1800.0978 - mae: 1800.0978 - mse: 20492644.0000 - val_loss: 1938.4442 - val_mae: 1938.4442 - val_mse: 20259828.0000\n",
      "Epoch 729/1000\n",
      "27/27 [==============================] - 0s 3ms/step - loss: 1775.4752 - mae: 1775.4752 - mse: 19994428.0000 - val_loss: 1842.6855 - val_mae: 1842.6855 - val_mse: 21250376.0000\n",
      "Epoch 730/1000\n",
      "27/27 [==============================] - 0s 3ms/step - loss: 1762.7911 - mae: 1762.7911 - mse: 20019824.0000 - val_loss: 2112.3584 - val_mae: 2112.3584 - val_mse: 24382490.0000\n",
      "Epoch 731/1000\n",
      "27/27 [==============================] - 0s 3ms/step - loss: 1761.2200 - mae: 1761.2200 - mse: 19991464.0000 - val_loss: 1811.2769 - val_mae: 1811.2769 - val_mse: 20512224.0000\n",
      "Epoch 732/1000\n",
      "27/27 [==============================] - 0s 3ms/step - loss: 1809.9851 - mae: 1809.9851 - mse: 20651694.0000 - val_loss: 2056.7554 - val_mae: 2056.7554 - val_mse: 20550524.0000\n",
      "Epoch 733/1000\n",
      "27/27 [==============================] - 0s 3ms/step - loss: 1775.9159 - mae: 1775.9159 - mse: 19914616.0000 - val_loss: 1882.2839 - val_mae: 1882.2839 - val_mse: 21445534.0000\n",
      "Epoch 734/1000\n",
      "27/27 [==============================] - 0s 3ms/step - loss: 1775.5759 - mae: 1775.5759 - mse: 20287558.0000 - val_loss: 1893.8528 - val_mae: 1893.8528 - val_mse: 21841210.0000\n",
      "Epoch 735/1000\n",
      "27/27 [==============================] - 0s 3ms/step - loss: 1760.9711 - mae: 1760.9711 - mse: 19998926.0000 - val_loss: 2089.0752 - val_mae: 2089.0754 - val_mse: 23150490.0000\n",
      "Epoch 736/1000\n",
      "27/27 [==============================] - 0s 3ms/step - loss: 1799.6536 - mae: 1799.6536 - mse: 20614334.0000 - val_loss: 1847.1204 - val_mae: 1847.1204 - val_mse: 21504288.0000\n",
      "Epoch 737/1000\n",
      "27/27 [==============================] - 0s 3ms/step - loss: 1738.2338 - mae: 1738.2338 - mse: 19762658.0000 - val_loss: 2238.5759 - val_mae: 2238.5759 - val_mse: 20006276.0000\n",
      "Epoch 738/1000\n",
      "27/27 [==============================] - 0s 3ms/step - loss: 1767.4469 - mae: 1767.4469 - mse: 20074668.0000 - val_loss: 2095.5500 - val_mae: 2095.5500 - val_mse: 21422496.0000\n",
      "Epoch 739/1000\n",
      "27/27 [==============================] - 0s 3ms/step - loss: 1779.1776 - mae: 1779.1776 - mse: 20204122.0000 - val_loss: 1795.7465 - val_mae: 1795.7465 - val_mse: 20632730.0000\n",
      "Epoch 740/1000\n",
      "27/27 [==============================] - 0s 3ms/step - loss: 1768.6019 - mae: 1768.6019 - mse: 20125134.0000 - val_loss: 1974.4321 - val_mae: 1974.4321 - val_mse: 20595516.0000\n",
      "Epoch 741/1000\n",
      "27/27 [==============================] - 0s 5ms/step - loss: 1743.5452 - mae: 1743.5452 - mse: 19699508.0000 - val_loss: 1928.1519 - val_mae: 1928.1519 - val_mse: 20640046.0000\n",
      "Epoch 742/1000\n",
      "27/27 [==============================] - 0s 3ms/step - loss: 1737.3713 - mae: 1737.3713 - mse: 19856858.0000 - val_loss: 1781.9124 - val_mae: 1781.9124 - val_mse: 20982918.0000\n",
      "Epoch 743/1000\n",
      " 1/27 [>.............................] - ETA: 0s - loss: 1164.2656 - mae: 1164.2656 - mse: 10706256.0000INFO:tensorflow:Assets written to: .\\checkpoint\\assets\n"
     ]
    },
    {
     "name": "stderr",
     "output_type": "stream",
     "text": [
      "INFO:tensorflow:Assets written to: .\\checkpoint\\assets\n"
     ]
    },
    {
     "name": "stdout",
     "output_type": "stream",
     "text": [
      "27/27 [==============================] - 1s 34ms/step - loss: 1760.2706 - mae: 1760.2706 - mse: 20068558.0000 - val_loss: 1756.7524 - val_mae: 1756.7524 - val_mse: 20852138.0000\n",
      "Epoch 744/1000\n",
      "25/27 [==========================>...] - ETA: 0s - loss: 1741.9174 - mae: 1741.9174 - mse: 20426018.0000INFO:tensorflow:Assets written to: .\\checkpoint\\assets\n"
     ]
    },
    {
     "name": "stderr",
     "output_type": "stream",
     "text": [
      "INFO:tensorflow:Assets written to: .\\checkpoint\\assets\n"
     ]
    },
    {
     "name": "stdout",
     "output_type": "stream",
     "text": [
      "27/27 [==============================] - 1s 32ms/step - loss: 1729.8749 - mae: 1729.8749 - mse: 20253944.0000 - val_loss: 1754.6364 - val_mae: 1754.6364 - val_mse: 20858402.0000\n",
      "Epoch 745/1000\n",
      "27/27 [==============================] - 0s 4ms/step - loss: 1787.3154 - mae: 1787.3154 - mse: 20392298.0000 - val_loss: 2050.6992 - val_mae: 2050.6992 - val_mse: 23887762.0000\n",
      "Epoch 746/1000\n",
      "27/27 [==============================] - 0s 3ms/step - loss: 1754.1437 - mae: 1754.1437 - mse: 20121002.0000 - val_loss: 1881.2411 - val_mae: 1881.2411 - val_mse: 21476974.0000\n",
      "Epoch 747/1000\n",
      "27/27 [==============================] - 0s 3ms/step - loss: 1753.6240 - mae: 1753.6240 - mse: 20127188.0000 - val_loss: 2142.3833 - val_mae: 2142.3835 - val_mse: 21422014.0000\n",
      "Epoch 748/1000\n",
      "27/27 [==============================] - 0s 3ms/step - loss: 1752.5469 - mae: 1752.5469 - mse: 19923330.0000 - val_loss: 1961.5836 - val_mae: 1961.5836 - val_mse: 22124144.0000\n",
      "Epoch 749/1000\n",
      "27/27 [==============================] - 0s 3ms/step - loss: 1786.2847 - mae: 1786.2847 - mse: 20192934.0000 - val_loss: 2046.3616 - val_mae: 2046.3616 - val_mse: 20568964.0000\n",
      "Epoch 750/1000\n",
      "27/27 [==============================] - 0s 3ms/step - loss: 1763.9990 - mae: 1763.9990 - mse: 20236248.0000 - val_loss: 1915.2957 - val_mae: 1915.2957 - val_mse: 20885786.0000\n",
      "Epoch 751/1000\n",
      "27/27 [==============================] - 0s 3ms/step - loss: 1793.3652 - mae: 1793.3652 - mse: 20416476.0000 - val_loss: 2159.6631 - val_mae: 2159.6631 - val_mse: 20153832.0000\n",
      "Epoch 752/1000\n",
      "27/27 [==============================] - 0s 3ms/step - loss: 1736.3474 - mae: 1736.3474 - mse: 19911686.0000 - val_loss: 1906.6093 - val_mae: 1906.6093 - val_mse: 21247658.0000\n",
      "Epoch 753/1000\n",
      "27/27 [==============================] - 0s 3ms/step - loss: 1794.4734 - mae: 1794.4734 - mse: 20283004.0000 - val_loss: 1818.2947 - val_mae: 1818.2947 - val_mse: 21104120.0000\n",
      "Epoch 754/1000\n",
      "27/27 [==============================] - 0s 3ms/step - loss: 1759.1478 - mae: 1759.1478 - mse: 20184330.0000 - val_loss: 2057.5798 - val_mae: 2057.5798 - val_mse: 20195128.0000\n",
      "Epoch 755/1000\n",
      "27/27 [==============================] - 0s 3ms/step - loss: 1756.2410 - mae: 1756.2410 - mse: 19801434.0000 - val_loss: 2068.9724 - val_mae: 2068.9724 - val_mse: 20207334.0000\n",
      "Epoch 756/1000\n",
      "27/27 [==============================] - 0s 3ms/step - loss: 1737.7709 - mae: 1737.7709 - mse: 19956940.0000 - val_loss: 1903.3658 - val_mae: 1903.3658 - val_mse: 20776972.0000\n",
      "Epoch 757/1000\n",
      "27/27 [==============================] - 0s 4ms/step - loss: 1767.1361 - mae: 1767.1361 - mse: 20023512.0000 - val_loss: 2090.4722 - val_mae: 2090.4722 - val_mse: 23013366.0000\n",
      "Epoch 758/1000\n",
      "27/27 [==============================] - 0s 3ms/step - loss: 1783.5527 - mae: 1783.5527 - mse: 20265166.0000 - val_loss: 1922.9419 - val_mae: 1922.9419 - val_mse: 20047238.0000\n",
      "Epoch 759/1000\n",
      "27/27 [==============================] - 0s 3ms/step - loss: 1756.8007 - mae: 1756.8007 - mse: 19855062.0000 - val_loss: 1855.2452 - val_mae: 1855.2452 - val_mse: 21485304.0000\n",
      "Epoch 760/1000\n",
      "27/27 [==============================] - 0s 3ms/step - loss: 1706.6084 - mae: 1706.6084 - mse: 19678602.0000 - val_loss: 2487.2175 - val_mae: 2487.2175 - val_mse: 20989798.0000\n",
      "Epoch 761/1000\n",
      "27/27 [==============================] - 0s 3ms/step - loss: 1785.4097 - mae: 1785.4097 - mse: 20253504.0000 - val_loss: 1919.1189 - val_mae: 1919.1189 - val_mse: 21564260.0000\n",
      "Epoch 762/1000\n",
      "27/27 [==============================] - 0s 4ms/step - loss: 1761.2651 - mae: 1761.2651 - mse: 20199446.0000 - val_loss: 2037.0072 - val_mae: 2037.0072 - val_mse: 20135664.0000\n",
      "Epoch 763/1000\n",
      "27/27 [==============================] - 0s 3ms/step - loss: 1748.8450 - mae: 1748.8450 - mse: 19807916.0000 - val_loss: 1829.7263 - val_mae: 1829.7263 - val_mse: 21231092.0000\n",
      "Epoch 764/1000\n",
      "27/27 [==============================] - 0s 3ms/step - loss: 1773.8037 - mae: 1773.8037 - mse: 20141786.0000 - val_loss: 1881.8274 - val_mae: 1881.8274 - val_mse: 21052450.0000\n",
      "Epoch 765/1000\n",
      "27/27 [==============================] - 0s 3ms/step - loss: 1730.9313 - mae: 1730.9313 - mse: 19576208.0000 - val_loss: 1990.1118 - val_mae: 1990.1118 - val_mse: 20177334.0000\n",
      "Epoch 766/1000\n",
      "27/27 [==============================] - 0s 3ms/step - loss: 1734.3622 - mae: 1734.3622 - mse: 19932656.0000 - val_loss: 2067.3435 - val_mae: 2067.3435 - val_mse: 22049284.0000\n",
      "Epoch 767/1000\n",
      "27/27 [==============================] - 0s 3ms/step - loss: 1764.5057 - mae: 1764.5057 - mse: 20081888.0000 - val_loss: 1890.8153 - val_mae: 1890.8153 - val_mse: 21490702.0000\n",
      "Epoch 768/1000\n",
      " 1/27 [>.............................] - ETA: 0s - loss: 923.2644 - mae: 923.2644 - mse: 4576012.5000INFO:tensorflow:Assets written to: .\\checkpoint\\assets\n"
     ]
    },
    {
     "name": "stderr",
     "output_type": "stream",
     "text": [
      "INFO:tensorflow:Assets written to: .\\checkpoint\\assets\n"
     ]
    },
    {
     "name": "stdout",
     "output_type": "stream",
     "text": [
      "27/27 [==============================] - 1s 28ms/step - loss: 1744.3896 - mae: 1744.3896 - mse: 20126468.0000 - val_loss: 1741.6786 - val_mae: 1741.6786 - val_mse: 20865646.0000\n",
      "Epoch 769/1000\n",
      "27/27 [==============================] - 0s 3ms/step - loss: 1773.7242 - mae: 1773.7242 - mse: 20178132.0000 - val_loss: 1915.7821 - val_mae: 1915.7821 - val_mse: 20221680.0000\n",
      "Epoch 770/1000\n",
      "27/27 [==============================] - 0s 3ms/step - loss: 1758.0129 - mae: 1758.0129 - mse: 19898634.0000 - val_loss: 1921.8024 - val_mae: 1921.8024 - val_mse: 22559342.0000\n",
      "Epoch 771/1000\n",
      "27/27 [==============================] - 0s 3ms/step - loss: 1756.5311 - mae: 1756.5311 - mse: 19916334.0000 - val_loss: 1817.0891 - val_mae: 1817.0891 - val_mse: 21119308.0000\n",
      "Epoch 772/1000\n",
      "27/27 [==============================] - 0s 3ms/step - loss: 1748.9928 - mae: 1748.9928 - mse: 19714450.0000 - val_loss: 1863.8031 - val_mae: 1863.8031 - val_mse: 21125768.0000\n",
      "Epoch 773/1000\n",
      "27/27 [==============================] - 0s 3ms/step - loss: 1745.7456 - mae: 1745.7456 - mse: 19804216.0000 - val_loss: 1781.8817 - val_mae: 1781.8817 - val_mse: 20995788.0000\n",
      "Epoch 774/1000\n",
      "27/27 [==============================] - 0s 3ms/step - loss: 1742.2935 - mae: 1742.2935 - mse: 19896000.0000 - val_loss: 1885.0553 - val_mae: 1885.0553 - val_mse: 21633974.0000\n",
      "Epoch 775/1000\n",
      "27/27 [==============================] - 0s 3ms/step - loss: 1771.2142 - mae: 1771.2142 - mse: 20007398.0000 - val_loss: 1864.7051 - val_mae: 1864.7051 - val_mse: 20922530.0000\n",
      "Epoch 776/1000\n",
      "27/27 [==============================] - 0s 3ms/step - loss: 1723.1937 - mae: 1723.1937 - mse: 19855298.0000 - val_loss: 1850.9202 - val_mae: 1850.9202 - val_mse: 21247782.0000\n",
      "Epoch 777/1000\n",
      "27/27 [==============================] - 0s 3ms/step - loss: 1745.2466 - mae: 1745.2466 - mse: 19956216.0000 - val_loss: 1861.3777 - val_mae: 1861.3777 - val_mse: 20344394.0000\n",
      "Epoch 778/1000\n",
      "27/27 [==============================] - 0s 3ms/step - loss: 1739.8923 - mae: 1739.8923 - mse: 19737580.0000 - val_loss: 1967.1877 - val_mae: 1967.1877 - val_mse: 22243994.0000\n",
      "Epoch 779/1000\n",
      "27/27 [==============================] - 0s 3ms/step - loss: 1749.3907 - mae: 1749.3907 - mse: 20100372.0000 - val_loss: 2041.7164 - val_mae: 2041.7164 - val_mse: 20323540.0000\n",
      "Epoch 780/1000\n",
      "27/27 [==============================] - 0s 3ms/step - loss: 1769.3896 - mae: 1769.3896 - mse: 20129992.0000 - val_loss: 1840.0044 - val_mae: 1840.0044 - val_mse: 21631648.0000\n",
      "Epoch 781/1000\n",
      "27/27 [==============================] - 0s 3ms/step - loss: 1726.1282 - mae: 1726.1282 - mse: 20005234.0000 - val_loss: 2151.8948 - val_mae: 2151.8948 - val_mse: 24107280.0000\n",
      "Epoch 782/1000\n",
      "27/27 [==============================] - 0s 3ms/step - loss: 1750.4501 - mae: 1750.4501 - mse: 19943274.0000 - val_loss: 1957.6840 - val_mae: 1957.6840 - val_mse: 22144626.0000\n",
      "Epoch 783/1000\n",
      "27/27 [==============================] - 0s 3ms/step - loss: 1746.1855 - mae: 1746.1855 - mse: 20083208.0000 - val_loss: 1768.8070 - val_mae: 1768.8070 - val_mse: 20957480.0000\n",
      "Epoch 784/1000\n",
      "27/27 [==============================] - 0s 3ms/step - loss: 1757.9458 - mae: 1757.9458 - mse: 20132494.0000 - val_loss: 1846.3492 - val_mae: 1846.3492 - val_mse: 21881906.0000\n",
      "Epoch 785/1000\n",
      "27/27 [==============================] - 0s 3ms/step - loss: 1723.8383 - mae: 1723.8383 - mse: 20023646.0000 - val_loss: 2012.3385 - val_mae: 2012.3385 - val_mse: 22614664.0000\n",
      "Epoch 786/1000\n",
      "27/27 [==============================] - 0s 3ms/step - loss: 1742.7963 - mae: 1742.7963 - mse: 20075568.0000 - val_loss: 2238.0977 - val_mae: 2238.0977 - val_mse: 22982780.0000\n",
      "Epoch 787/1000\n",
      "27/27 [==============================] - 0s 3ms/step - loss: 1763.1952 - mae: 1763.1952 - mse: 19913996.0000 - val_loss: 1978.5295 - val_mae: 1978.5295 - val_mse: 21924240.0000\n",
      "Epoch 788/1000\n",
      "27/27 [==============================] - 0s 3ms/step - loss: 1736.1101 - mae: 1736.1101 - mse: 20107106.0000 - val_loss: 1931.6985 - val_mae: 1931.6985 - val_mse: 22358056.0000\n",
      "Epoch 789/1000\n",
      "27/27 [==============================] - 0s 3ms/step - loss: 1716.2634 - mae: 1716.2634 - mse: 19831822.0000 - val_loss: 1781.8184 - val_mae: 1781.8184 - val_mse: 20751518.0000\n",
      "Epoch 790/1000\n",
      "27/27 [==============================] - 0s 3ms/step - loss: 1748.2917 - mae: 1748.2917 - mse: 19995248.0000 - val_loss: 2181.8931 - val_mae: 2181.8931 - val_mse: 23589982.0000\n",
      "Epoch 791/1000\n",
      "27/27 [==============================] - 0s 3ms/step - loss: 1744.7174 - mae: 1744.7174 - mse: 19902486.0000 - val_loss: 1942.1907 - val_mae: 1942.1907 - val_mse: 20166600.0000\n",
      "Epoch 792/1000\n",
      "27/27 [==============================] - 0s 3ms/step - loss: 1696.8251 - mae: 1696.8251 - mse: 19691704.0000 - val_loss: 2097.0630 - val_mae: 2097.0630 - val_mse: 19943506.0000\n",
      "Epoch 793/1000\n",
      "27/27 [==============================] - 0s 3ms/step - loss: 1752.7030 - mae: 1752.7030 - mse: 19797332.0000 - val_loss: 2022.6869 - val_mae: 2022.6869 - val_mse: 20173668.0000\n",
      "Epoch 794/1000\n",
      "27/27 [==============================] - 0s 3ms/step - loss: 1736.4365 - mae: 1736.4365 - mse: 19825080.0000 - val_loss: 1879.3223 - val_mae: 1879.3223 - val_mse: 21639664.0000\n",
      "Epoch 795/1000\n",
      "27/27 [==============================] - 0s 4ms/step - loss: 1756.9612 - mae: 1756.9612 - mse: 20010736.0000 - val_loss: 1853.8571 - val_mae: 1853.8571 - val_mse: 21258398.0000\n",
      "Epoch 796/1000\n",
      "27/27 [==============================] - 0s 3ms/step - loss: 1740.3965 - mae: 1740.3965 - mse: 19742292.0000 - val_loss: 1808.2267 - val_mae: 1808.2267 - val_mse: 20696750.0000\n",
      "Epoch 797/1000\n",
      "27/27 [==============================] - 0s 3ms/step - loss: 1713.2170 - mae: 1713.2170 - mse: 19972584.0000 - val_loss: 1860.9634 - val_mae: 1860.9634 - val_mse: 20410194.0000\n",
      "Epoch 798/1000\n",
      "27/27 [==============================] - 0s 3ms/step - loss: 1734.0796 - mae: 1734.0796 - mse: 20019434.0000 - val_loss: 1763.3636 - val_mae: 1763.3636 - val_mse: 20589814.0000\n",
      "Epoch 799/1000\n",
      "27/27 [==============================] - 0s 3ms/step - loss: 1728.5560 - mae: 1728.5560 - mse: 19880030.0000 - val_loss: 1897.4121 - val_mae: 1897.4121 - val_mse: 22458914.0000\n",
      "Epoch 800/1000\n",
      "27/27 [==============================] - 0s 3ms/step - loss: 1717.3748 - mae: 1717.3748 - mse: 19732886.0000 - val_loss: 1958.0226 - val_mae: 1958.0226 - val_mse: 19972248.0000\n",
      "Epoch 801/1000\n",
      "27/27 [==============================] - 0s 3ms/step - loss: 1727.0415 - mae: 1727.0415 - mse: 19756302.0000 - val_loss: 1953.3892 - val_mae: 1953.3892 - val_mse: 20454888.0000\n",
      "Epoch 802/1000\n",
      "27/27 [==============================] - 0s 3ms/step - loss: 1745.5646 - mae: 1745.5646 - mse: 20000440.0000 - val_loss: 1880.9122 - val_mae: 1880.9122 - val_mse: 20226622.0000\n",
      "Epoch 803/1000\n",
      "27/27 [==============================] - 0s 3ms/step - loss: 1729.1428 - mae: 1729.1428 - mse: 19992854.0000 - val_loss: 1807.9694 - val_mae: 1807.9694 - val_mse: 20619422.0000\n",
      "Epoch 804/1000\n",
      "27/27 [==============================] - 0s 3ms/step - loss: 1719.4508 - mae: 1719.4508 - mse: 19993840.0000 - val_loss: 1833.3596 - val_mae: 1833.3596 - val_mse: 21320964.0000\n",
      "Epoch 805/1000\n",
      "27/27 [==============================] - 0s 3ms/step - loss: 1718.1868 - mae: 1718.1868 - mse: 19623828.0000 - val_loss: 2138.0740 - val_mae: 2138.0740 - val_mse: 23485924.0000\n",
      "Epoch 806/1000\n",
      "27/27 [==============================] - 0s 3ms/step - loss: 1730.6151 - mae: 1730.6151 - mse: 19755102.0000 - val_loss: 2054.7708 - val_mae: 2054.7708 - val_mse: 21502684.0000\n",
      "Epoch 807/1000\n",
      "27/27 [==============================] - 0s 3ms/step - loss: 1736.2476 - mae: 1736.2476 - mse: 19885094.0000 - val_loss: 1968.5067 - val_mae: 1968.5067 - val_mse: 21805454.0000\n",
      "Epoch 808/1000\n",
      "27/27 [==============================] - 0s 3ms/step - loss: 1713.1415 - mae: 1713.1415 - mse: 19814780.0000 - val_loss: 1857.0055 - val_mae: 1857.0055 - val_mse: 21727162.0000\n",
      "Epoch 809/1000\n",
      "27/27 [==============================] - 0s 3ms/step - loss: 1734.5647 - mae: 1734.5647 - mse: 20005928.0000 - val_loss: 1988.6569 - val_mae: 1988.6569 - val_mse: 20311048.0000\n",
      "Epoch 810/1000\n",
      "27/27 [==============================] - 0s 3ms/step - loss: 1724.5588 - mae: 1724.5588 - mse: 19891722.0000 - val_loss: 1756.6399 - val_mae: 1756.6399 - val_mse: 20661306.0000\n",
      "Epoch 811/1000\n",
      "27/27 [==============================] - 0s 3ms/step - loss: 1739.7466 - mae: 1739.7466 - mse: 19709322.0000 - val_loss: 2252.7332 - val_mae: 2252.7332 - val_mse: 23300548.0000\n",
      "Epoch 812/1000\n",
      "27/27 [==============================] - 0s 3ms/step - loss: 1731.9850 - mae: 1731.9850 - mse: 19988562.0000 - val_loss: 1797.3468 - val_mae: 1797.3468 - val_mse: 21297978.0000\n",
      "Epoch 813/1000\n",
      "27/27 [==============================] - 0s 3ms/step - loss: 1688.2478 - mae: 1688.2478 - mse: 19454746.0000 - val_loss: 1819.6741 - val_mae: 1819.6741 - val_mse: 21229022.0000\n",
      "Epoch 814/1000\n",
      "27/27 [==============================] - 0s 3ms/step - loss: 1707.1270 - mae: 1707.1270 - mse: 19876944.0000 - val_loss: 1929.3015 - val_mae: 1929.3015 - val_mse: 20791784.0000\n",
      "Epoch 815/1000\n",
      "27/27 [==============================] - 0s 3ms/step - loss: 1720.0122 - mae: 1720.0122 - mse: 19705472.0000 - val_loss: 1981.9346 - val_mae: 1981.9346 - val_mse: 22903958.0000\n",
      "Epoch 816/1000\n",
      "27/27 [==============================] - 0s 3ms/step - loss: 1717.0452 - mae: 1717.0452 - mse: 19566714.0000 - val_loss: 2043.9663 - val_mae: 2043.9663 - val_mse: 23302086.0000\n",
      "Epoch 817/1000\n",
      "27/27 [==============================] - 0s 3ms/step - loss: 1744.6178 - mae: 1744.6178 - mse: 20052092.0000 - val_loss: 2057.1282 - val_mae: 2057.1282 - val_mse: 21434690.0000\n",
      "Epoch 818/1000\n",
      "27/27 [==============================] - 0s 3ms/step - loss: 1727.2867 - mae: 1727.2867 - mse: 19782478.0000 - val_loss: 1769.1134 - val_mae: 1769.1134 - val_mse: 21058110.0000\n",
      "Epoch 819/1000\n",
      "27/27 [==============================] - 0s 3ms/step - loss: 1700.1830 - mae: 1700.1830 - mse: 19806024.0000 - val_loss: 2021.0604 - val_mae: 2021.0604 - val_mse: 22080656.0000\n",
      "Epoch 820/1000\n",
      "27/27 [==============================] - 0s 3ms/step - loss: 1732.0907 - mae: 1732.0907 - mse: 19934224.0000 - val_loss: 1789.0529 - val_mae: 1789.0529 - val_mse: 20863212.0000\n",
      "Epoch 821/1000\n",
      "27/27 [==============================] - 0s 3ms/step - loss: 1708.3326 - mae: 1708.3326 - mse: 19965878.0000 - val_loss: 2244.2065 - val_mae: 2244.2065 - val_mse: 23690388.0000\n",
      "Epoch 822/1000\n",
      "27/27 [==============================] - 0s 3ms/step - loss: 1766.4323 - mae: 1766.4323 - mse: 20101100.0000 - val_loss: 1850.8245 - val_mae: 1850.8245 - val_mse: 20310116.0000\n",
      "Epoch 823/1000\n",
      "27/27 [==============================] - 0s 3ms/step - loss: 1705.3245 - mae: 1705.3245 - mse: 19567688.0000 - val_loss: 1821.3051 - val_mae: 1821.3051 - val_mse: 21017022.0000\n",
      "Epoch 824/1000\n",
      "27/27 [==============================] - 0s 3ms/step - loss: 1737.2480 - mae: 1737.2480 - mse: 19949898.0000 - val_loss: 2169.9126 - val_mae: 2169.9126 - val_mse: 23619730.0000\n",
      "Epoch 825/1000\n",
      "27/27 [==============================] - 0s 3ms/step - loss: 1727.2335 - mae: 1727.2335 - mse: 19876104.0000 - val_loss: 1834.2947 - val_mae: 1834.2947 - val_mse: 21391070.0000\n",
      "Epoch 826/1000\n",
      "27/27 [==============================] - 0s 3ms/step - loss: 1750.1094 - mae: 1750.1094 - mse: 19998598.0000 - val_loss: 1856.9181 - val_mae: 1856.9181 - val_mse: 21481798.0000\n",
      "Epoch 827/1000\n",
      "27/27 [==============================] - 0s 3ms/step - loss: 1673.3774 - mae: 1673.3774 - mse: 19615402.0000 - val_loss: 2315.6619 - val_mae: 2315.6619 - val_mse: 26886160.0000\n",
      "Epoch 828/1000\n",
      "27/27 [==============================] - 0s 3ms/step - loss: 1734.9696 - mae: 1734.9696 - mse: 19799988.0000 - val_loss: 1775.7572 - val_mae: 1775.7572 - val_mse: 20781272.0000\n",
      "Epoch 829/1000\n",
      "27/27 [==============================] - 0s 3ms/step - loss: 1747.6606 - mae: 1747.6606 - mse: 20229966.0000 - val_loss: 1932.4341 - val_mae: 1932.4341 - val_mse: 20582262.0000\n",
      "Epoch 830/1000\n",
      "27/27 [==============================] - 0s 3ms/step - loss: 1705.4697 - mae: 1705.4697 - mse: 19732190.0000 - val_loss: 2020.1399 - val_mae: 2020.1399 - val_mse: 20028072.0000\n",
      "Epoch 831/1000\n",
      "27/27 [==============================] - 0s 3ms/step - loss: 1729.7770 - mae: 1729.7770 - mse: 19849580.0000 - val_loss: 1923.5266 - val_mae: 1923.5266 - val_mse: 21894228.0000\n",
      "Epoch 832/1000\n",
      "27/27 [==============================] - 0s 2ms/step - loss: 1737.6287 - mae: 1737.6287 - mse: 20133952.0000 - val_loss: 2058.9768 - val_mae: 2058.9768 - val_mse: 20839718.0000\n",
      "Epoch 833/1000\n",
      "27/27 [==============================] - 0s 3ms/step - loss: 1723.5297 - mae: 1723.5297 - mse: 19800506.0000 - val_loss: 1792.9764 - val_mae: 1792.9764 - val_mse: 20846412.0000\n",
      "Epoch 834/1000\n",
      "27/27 [==============================] - 0s 3ms/step - loss: 1727.2434 - mae: 1727.2434 - mse: 20075256.0000 - val_loss: 1992.2354 - val_mae: 1992.2356 - val_mse: 22793606.0000\n",
      "Epoch 835/1000\n",
      "27/27 [==============================] - 0s 3ms/step - loss: 1727.2621 - mae: 1727.2621 - mse: 19781794.0000 - val_loss: 1800.7384 - val_mae: 1800.7384 - val_mse: 21774810.0000\n",
      "Epoch 836/1000\n",
      "27/27 [==============================] - 0s 3ms/step - loss: 1677.6863 - mae: 1677.6863 - mse: 19484006.0000 - val_loss: 1870.7810 - val_mae: 1870.7810 - val_mse: 21911910.0000\n",
      "Epoch 837/1000\n",
      "27/27 [==============================] - 0s 3ms/step - loss: 1762.9991 - mae: 1762.9991 - mse: 20165202.0000 - val_loss: 1829.3613 - val_mae: 1829.3613 - val_mse: 20565184.0000\n",
      "Epoch 838/1000\n",
      "27/27 [==============================] - 0s 3ms/step - loss: 1696.3759 - mae: 1696.3759 - mse: 19548474.0000 - val_loss: 1813.0677 - val_mae: 1813.0677 - val_mse: 21313474.0000\n",
      "Epoch 839/1000\n",
      "27/27 [==============================] - 0s 3ms/step - loss: 1699.8777 - mae: 1699.8777 - mse: 19799958.0000 - val_loss: 1952.4690 - val_mae: 1952.4690 - val_mse: 20430942.0000\n",
      "Epoch 840/1000\n",
      "27/27 [==============================] - 0s 3ms/step - loss: 1741.1541 - mae: 1741.1541 - mse: 20063912.0000 - val_loss: 1787.8124 - val_mae: 1787.8124 - val_mse: 20304796.0000\n",
      "Epoch 841/1000\n",
      "27/27 [==============================] - 0s 3ms/step - loss: 1722.0355 - mae: 1722.0355 - mse: 19908192.0000 - val_loss: 1924.1118 - val_mae: 1924.1118 - val_mse: 21668558.0000\n",
      "Epoch 842/1000\n",
      "27/27 [==============================] - 0s 3ms/step - loss: 1675.6667 - mae: 1675.6667 - mse: 19522034.0000 - val_loss: 2128.4878 - val_mae: 2128.4878 - val_mse: 20352522.0000\n",
      "Epoch 843/1000\n",
      "27/27 [==============================] - 0s 3ms/step - loss: 1746.6688 - mae: 1746.6688 - mse: 20028314.0000 - val_loss: 2136.2549 - val_mae: 2136.2549 - val_mse: 23029544.0000\n",
      "Epoch 844/1000\n",
      "27/27 [==============================] - 0s 6ms/step - loss: 1716.9169 - mae: 1716.9169 - mse: 19670186.0000 - val_loss: 2084.4722 - val_mae: 2084.4722 - val_mse: 20512804.0000\n",
      "Epoch 845/1000\n",
      "27/27 [==============================] - 0s 3ms/step - loss: 1683.1873 - mae: 1683.1873 - mse: 19698290.0000 - val_loss: 1992.3827 - val_mae: 1992.3827 - val_mse: 20571470.0000\n",
      "Epoch 846/1000\n",
      "27/27 [==============================] - 0s 3ms/step - loss: 1697.0503 - mae: 1697.0503 - mse: 20005548.0000 - val_loss: 2171.2549 - val_mae: 2171.2549 - val_mse: 22996712.0000\n",
      "Epoch 847/1000\n",
      "27/27 [==============================] - 0s 3ms/step - loss: 1713.5616 - mae: 1713.5616 - mse: 19842356.0000 - val_loss: 1815.6873 - val_mae: 1815.6873 - val_mse: 21537608.0000\n",
      "Epoch 848/1000\n",
      "27/27 [==============================] - 0s 3ms/step - loss: 1707.2279 - mae: 1707.2279 - mse: 19624454.0000 - val_loss: 1885.6625 - val_mae: 1885.6625 - val_mse: 20116988.0000\n",
      "Epoch 849/1000\n",
      "27/27 [==============================] - 0s 3ms/step - loss: 1719.4023 - mae: 1719.4023 - mse: 19708268.0000 - val_loss: 1889.1667 - val_mae: 1889.1667 - val_mse: 20389240.0000\n",
      "Epoch 850/1000\n",
      "27/27 [==============================] - 0s 3ms/step - loss: 1685.0382 - mae: 1685.0382 - mse: 19745104.0000 - val_loss: 1896.9851 - val_mae: 1896.9851 - val_mse: 22167676.0000\n",
      "Epoch 851/1000\n",
      "27/27 [==============================] - 0s 3ms/step - loss: 1680.2142 - mae: 1680.2142 - mse: 19600516.0000 - val_loss: 2088.9580 - val_mae: 2088.9580 - val_mse: 20239328.0000\n",
      "Epoch 852/1000\n",
      "27/27 [==============================] - 0s 3ms/step - loss: 1701.3461 - mae: 1701.3461 - mse: 19710838.0000 - val_loss: 1961.0931 - val_mae: 1961.0931 - val_mse: 20269150.0000\n",
      "Epoch 853/1000\n",
      "27/27 [==============================] - 0s 3ms/step - loss: 1668.8661 - mae: 1668.8661 - mse: 19464444.0000 - val_loss: 2059.5242 - val_mae: 2059.5242 - val_mse: 22425044.0000\n",
      "Epoch 854/1000\n",
      "27/27 [==============================] - 0s 3ms/step - loss: 1726.0798 - mae: 1726.0798 - mse: 19870322.0000 - val_loss: 1896.8384 - val_mae: 1896.8384 - val_mse: 20323006.0000\n",
      "Epoch 855/1000\n",
      "27/27 [==============================] - 0s 3ms/step - loss: 1692.6694 - mae: 1692.6694 - mse: 19689204.0000 - val_loss: 1995.7148 - val_mae: 1995.7148 - val_mse: 21543378.0000\n",
      "Epoch 856/1000\n",
      "27/27 [==============================] - 0s 3ms/step - loss: 1710.9164 - mae: 1710.9164 - mse: 20049766.0000 - val_loss: 2158.4412 - val_mae: 2158.4412 - val_mse: 24339542.0000\n",
      "Epoch 857/1000\n",
      "27/27 [==============================] - 0s 3ms/step - loss: 1715.4604 - mae: 1715.4604 - mse: 19968348.0000 - val_loss: 1801.9105 - val_mae: 1801.9105 - val_mse: 21284104.0000\n",
      "Epoch 858/1000\n",
      "27/27 [==============================] - 0s 3ms/step - loss: 1650.6493 - mae: 1650.6493 - mse: 19242624.0000 - val_loss: 1999.0604 - val_mae: 1999.0604 - val_mse: 20408310.0000\n",
      "Epoch 859/1000\n",
      "27/27 [==============================] - 0s 3ms/step - loss: 1707.3141 - mae: 1707.3141 - mse: 19939594.0000 - val_loss: 2331.5549 - val_mae: 2331.5549 - val_mse: 22017424.0000\n",
      "Epoch 860/1000\n",
      "27/27 [==============================] - 0s 3ms/step - loss: 1702.9756 - mae: 1702.9756 - mse: 19510798.0000 - val_loss: 1862.9553 - val_mae: 1862.9553 - val_mse: 21854064.0000\n",
      "Epoch 861/1000\n",
      "27/27 [==============================] - 0s 3ms/step - loss: 1681.2606 - mae: 1681.2606 - mse: 19510312.0000 - val_loss: 1791.5481 - val_mae: 1791.5481 - val_mse: 20409554.0000\n",
      "Epoch 862/1000\n",
      "27/27 [==============================] - 0s 3ms/step - loss: 1669.1453 - mae: 1669.1453 - mse: 19381210.0000 - val_loss: 2030.7714 - val_mae: 2030.7714 - val_mse: 22187178.0000\n",
      "Epoch 863/1000\n",
      "27/27 [==============================] - 0s 2ms/step - loss: 1702.7404 - mae: 1702.7404 - mse: 19812050.0000 - val_loss: 1890.8562 - val_mae: 1890.8562 - val_mse: 20174736.0000\n",
      "Epoch 864/1000\n",
      "27/27 [==============================] - 0s 3ms/step - loss: 1730.6375 - mae: 1730.6375 - mse: 19762026.0000 - val_loss: 2091.8069 - val_mae: 2091.8069 - val_mse: 19888840.0000\n",
      "Epoch 865/1000\n",
      "27/27 [==============================] - 0s 3ms/step - loss: 1692.8341 - mae: 1692.8341 - mse: 19685902.0000 - val_loss: 1847.5793 - val_mae: 1847.5793 - val_mse: 21264986.0000\n",
      "Epoch 866/1000\n",
      "27/27 [==============================] - 0s 3ms/step - loss: 1708.5868 - mae: 1708.5868 - mse: 19944812.0000 - val_loss: 2096.4414 - val_mae: 2096.4414 - val_mse: 22695032.0000\n",
      "Epoch 867/1000\n",
      "27/27 [==============================] - 0s 3ms/step - loss: 1710.4812 - mae: 1710.4812 - mse: 19671710.0000 - val_loss: 2005.7410 - val_mae: 2005.7410 - val_mse: 23964942.0000\n",
      "Epoch 868/1000\n",
      "27/27 [==============================] - 0s 3ms/step - loss: 1729.4543 - mae: 1729.4543 - mse: 20214784.0000 - val_loss: 1831.1786 - val_mae: 1831.1786 - val_mse: 21184026.0000\n",
      "Epoch 869/1000\n",
      "27/27 [==============================] - 0s 3ms/step - loss: 1654.7490 - mae: 1654.7490 - mse: 19445806.0000 - val_loss: 2245.8352 - val_mae: 2245.8352 - val_mse: 23268058.0000\n",
      "Epoch 870/1000\n",
      "27/27 [==============================] - 0s 3ms/step - loss: 1724.7897 - mae: 1724.7897 - mse: 20047540.0000 - val_loss: 1998.0359 - val_mae: 1998.0359 - val_mse: 19901606.0000\n",
      "Epoch 871/1000\n",
      "27/27 [==============================] - 0s 3ms/step - loss: 1682.5591 - mae: 1682.5591 - mse: 19535272.0000 - val_loss: 1828.3815 - val_mae: 1828.3815 - val_mse: 21621186.0000\n",
      "Epoch 872/1000\n",
      "27/27 [==============================] - 0s 3ms/step - loss: 1696.8816 - mae: 1696.8816 - mse: 19837476.0000 - val_loss: 2235.7197 - val_mae: 2235.7197 - val_mse: 20852390.0000\n",
      "Epoch 873/1000\n",
      "27/27 [==============================] - 0s 3ms/step - loss: 1708.1443 - mae: 1708.1443 - mse: 19636926.0000 - val_loss: 1997.4058 - val_mae: 1997.4058 - val_mse: 21880976.0000\n",
      "Epoch 874/1000\n",
      "27/27 [==============================] - 0s 3ms/step - loss: 1689.7900 - mae: 1689.7900 - mse: 19598718.0000 - val_loss: 1989.2551 - val_mae: 1989.2551 - val_mse: 22012554.0000\n",
      "Epoch 875/1000\n",
      "27/27 [==============================] - 0s 3ms/step - loss: 1692.9576 - mae: 1692.9576 - mse: 19844384.0000 - val_loss: 1942.3198 - val_mae: 1942.3198 - val_mse: 21739942.0000\n",
      "Epoch 876/1000\n",
      "27/27 [==============================] - 0s 2ms/step - loss: 1699.4010 - mae: 1699.4010 - mse: 19740286.0000 - val_loss: 2107.5977 - val_mae: 2107.5977 - val_mse: 22569910.0000\n",
      "Epoch 877/1000\n",
      "27/27 [==============================] - 0s 3ms/step - loss: 1678.8282 - mae: 1678.8282 - mse: 19818000.0000 - val_loss: 1829.3636 - val_mae: 1829.3636 - val_mse: 20938302.0000\n",
      "Epoch 878/1000\n",
      "27/27 [==============================] - 0s 3ms/step - loss: 1700.2335 - mae: 1700.2335 - mse: 19881206.0000 - val_loss: 1830.5892 - val_mae: 1830.5892 - val_mse: 20523320.0000\n",
      "Epoch 879/1000\n",
      "27/27 [==============================] - 0s 3ms/step - loss: 1716.2045 - mae: 1716.2045 - mse: 20030772.0000 - val_loss: 1826.9880 - val_mae: 1826.9880 - val_mse: 19991520.0000\n",
      "Epoch 880/1000\n",
      "27/27 [==============================] - 0s 3ms/step - loss: 1692.0808 - mae: 1692.0808 - mse: 19737518.0000 - val_loss: 2014.1659 - val_mae: 2014.1659 - val_mse: 20011830.0000\n",
      "Epoch 881/1000\n",
      "27/27 [==============================] - 0s 3ms/step - loss: 1699.2990 - mae: 1699.2990 - mse: 19525070.0000 - val_loss: 2043.1638 - val_mae: 2043.1638 - val_mse: 22321798.0000\n",
      "Epoch 882/1000\n",
      "27/27 [==============================] - 0s 3ms/step - loss: 1661.2322 - mae: 1661.2322 - mse: 19285130.0000 - val_loss: 1981.2053 - val_mae: 1981.2053 - val_mse: 21979120.0000\n",
      "Epoch 883/1000\n",
      "27/27 [==============================] - 0s 3ms/step - loss: 1717.0989 - mae: 1717.0989 - mse: 20055300.0000 - val_loss: 1771.0575 - val_mae: 1771.0575 - val_mse: 20627734.0000\n",
      "Epoch 884/1000\n",
      "27/27 [==============================] - 0s 3ms/step - loss: 1702.9835 - mae: 1702.9835 - mse: 19763938.0000 - val_loss: 1823.4514 - val_mae: 1823.4514 - val_mse: 21188898.0000\n",
      "Epoch 885/1000\n",
      "27/27 [==============================] - 0s 3ms/step - loss: 1652.5916 - mae: 1652.5916 - mse: 19762696.0000 - val_loss: 1835.6478 - val_mae: 1835.6478 - val_mse: 20649650.0000\n",
      "Epoch 886/1000\n",
      "27/27 [==============================] - 0s 3ms/step - loss: 1691.1829 - mae: 1691.1829 - mse: 19653946.0000 - val_loss: 2037.5901 - val_mae: 2037.5901 - val_mse: 19950112.0000\n",
      "Epoch 887/1000\n",
      "27/27 [==============================] - 0s 3ms/step - loss: 1648.0520 - mae: 1648.0520 - mse: 19320876.0000 - val_loss: 2189.5024 - val_mae: 2189.5024 - val_mse: 22497970.0000\n",
      "Epoch 888/1000\n",
      "27/27 [==============================] - 0s 3ms/step - loss: 1722.4622 - mae: 1722.4622 - mse: 20003706.0000 - val_loss: 1999.4799 - val_mae: 1999.4799 - val_mse: 20153048.0000\n",
      "Epoch 889/1000\n",
      " 1/27 [>.............................] - ETA: 0s - loss: 1985.5043 - mae: 1985.5043 - mse: 22172644.0000INFO:tensorflow:Assets written to: .\\checkpoint\\assets\n"
     ]
    },
    {
     "name": "stderr",
     "output_type": "stream",
     "text": [
      "INFO:tensorflow:Assets written to: .\\checkpoint\\assets\n"
     ]
    },
    {
     "name": "stdout",
     "output_type": "stream",
     "text": [
      "27/27 [==============================] - 1s 27ms/step - loss: 1667.8140 - mae: 1667.8140 - mse: 19691232.0000 - val_loss: 1730.9755 - val_mae: 1730.9755 - val_mse: 20559556.0000\n",
      "Epoch 890/1000\n",
      "27/27 [==============================] - 0s 5ms/step - loss: 1703.2172 - mae: 1703.2172 - mse: 19848428.0000 - val_loss: 1786.1230 - val_mae: 1786.1230 - val_mse: 20097346.0000\n",
      "Epoch 891/1000\n",
      "27/27 [==============================] - 0s 3ms/step - loss: 1696.8328 - mae: 1696.8328 - mse: 19705966.0000 - val_loss: 1789.5615 - val_mae: 1789.5615 - val_mse: 21058604.0000\n",
      "Epoch 892/1000\n",
      "27/27 [==============================] - 0s 3ms/step - loss: 1677.5270 - mae: 1677.5270 - mse: 19564432.0000 - val_loss: 1835.8206 - val_mae: 1835.8206 - val_mse: 20021548.0000\n",
      "Epoch 893/1000\n",
      "27/27 [==============================] - 0s 3ms/step - loss: 1655.5747 - mae: 1655.5747 - mse: 19469156.0000 - val_loss: 1854.2151 - val_mae: 1854.2151 - val_mse: 21275184.0000\n",
      "Epoch 894/1000\n",
      "27/27 [==============================] - 0s 3ms/step - loss: 1672.7737 - mae: 1672.7737 - mse: 19739488.0000 - val_loss: 2066.9180 - val_mae: 2066.9180 - val_mse: 23643090.0000\n",
      "Epoch 895/1000\n",
      "27/27 [==============================] - 0s 3ms/step - loss: 1735.8889 - mae: 1735.8889 - mse: 20262616.0000 - val_loss: 1866.2019 - val_mae: 1866.2019 - val_mse: 19759448.0000\n",
      "Epoch 896/1000\n",
      "27/27 [==============================] - 0s 3ms/step - loss: 1686.0623 - mae: 1686.0623 - mse: 19507824.0000 - val_loss: 1934.2948 - val_mae: 1934.2948 - val_mse: 22379606.0000\n",
      "Epoch 897/1000\n",
      "27/27 [==============================] - 0s 3ms/step - loss: 1696.1121 - mae: 1696.1121 - mse: 19743972.0000 - val_loss: 1921.4366 - val_mae: 1921.4366 - val_mse: 19762254.0000\n",
      "Epoch 898/1000\n",
      "27/27 [==============================] - 0s 3ms/step - loss: 1671.9978 - mae: 1671.9978 - mse: 19446976.0000 - val_loss: 1755.2733 - val_mae: 1755.2733 - val_mse: 20043036.0000\n",
      "Epoch 899/1000\n",
      "27/27 [==============================] - 0s 4ms/step - loss: 1686.3007 - mae: 1686.3007 - mse: 19918212.0000 - val_loss: 1921.6697 - val_mae: 1921.6697 - val_mse: 22119536.0000\n",
      "Epoch 900/1000\n",
      "27/27 [==============================] - 0s 5ms/step - loss: 1625.9198 - mae: 1625.9198 - mse: 19355600.0000 - val_loss: 2133.4810 - val_mae: 2133.4810 - val_mse: 19896302.0000\n",
      "Epoch 901/1000\n",
      " 1/27 [>.............................] - ETA: 0s - loss: 1869.9932 - mae: 1869.9932 - mse: 13401963.0000INFO:tensorflow:Assets written to: .\\checkpoint\\assets\n"
     ]
    },
    {
     "name": "stderr",
     "output_type": "stream",
     "text": [
      "INFO:tensorflow:Assets written to: .\\checkpoint\\assets\n"
     ]
    },
    {
     "name": "stdout",
     "output_type": "stream",
     "text": [
      "27/27 [==============================] - 2s 95ms/step - loss: 1658.8014 - mae: 1658.8014 - mse: 19612354.0000 - val_loss: 1718.2344 - val_mae: 1718.2344 - val_mse: 20036252.0000\n",
      "Epoch 902/1000\n",
      "27/27 [==============================] - 0s 4ms/step - loss: 1676.5880 - mae: 1676.5880 - mse: 19648826.0000 - val_loss: 1956.4598 - val_mae: 1956.4598 - val_mse: 19821134.0000\n",
      "Epoch 903/1000\n",
      "27/27 [==============================] - 0s 3ms/step - loss: 1650.7538 - mae: 1650.7538 - mse: 19441448.0000 - val_loss: 2151.6460 - val_mae: 2151.6460 - val_mse: 19802804.0000\n",
      "Epoch 904/1000\n",
      "27/27 [==============================] - 0s 3ms/step - loss: 1698.6310 - mae: 1698.6310 - mse: 19432310.0000 - val_loss: 1808.7079 - val_mae: 1808.7079 - val_mse: 21098618.0000\n",
      "Epoch 905/1000\n",
      "27/27 [==============================] - 0s 4ms/step - loss: 1666.5259 - mae: 1666.5259 - mse: 19383638.0000 - val_loss: 2009.6937 - val_mae: 2009.6937 - val_mse: 22480008.0000\n",
      "Epoch 906/1000\n",
      "27/27 [==============================] - 0s 3ms/step - loss: 1686.8954 - mae: 1686.8954 - mse: 19662138.0000 - val_loss: 1857.4673 - val_mae: 1857.4673 - val_mse: 21538264.0000\n",
      "Epoch 907/1000\n",
      "27/27 [==============================] - 0s 3ms/step - loss: 1736.7625 - mae: 1736.7625 - mse: 19982784.0000 - val_loss: 1756.7031 - val_mae: 1756.7031 - val_mse: 19972410.0000\n",
      "Epoch 908/1000\n",
      "27/27 [==============================] - 0s 3ms/step - loss: 1653.1852 - mae: 1653.1852 - mse: 19751728.0000 - val_loss: 2019.5016 - val_mae: 2019.5016 - val_mse: 20058708.0000\n",
      "Epoch 909/1000\n",
      "27/27 [==============================] - 0s 3ms/step - loss: 1655.7644 - mae: 1655.7644 - mse: 19524040.0000 - val_loss: 1804.6509 - val_mae: 1804.6509 - val_mse: 21191226.0000\n",
      "Epoch 910/1000\n",
      "27/27 [==============================] - 0s 4ms/step - loss: 1660.5500 - mae: 1660.5500 - mse: 19287086.0000 - val_loss: 1989.5884 - val_mae: 1989.5884 - val_mse: 22434246.0000\n",
      "Epoch 911/1000\n",
      "27/27 [==============================] - 0s 3ms/step - loss: 1682.4102 - mae: 1682.4102 - mse: 19583572.0000 - val_loss: 1823.7906 - val_mae: 1823.7906 - val_mse: 21651488.0000\n",
      "Epoch 912/1000\n",
      "27/27 [==============================] - 0s 3ms/step - loss: 1689.9724 - mae: 1689.9724 - mse: 19615998.0000 - val_loss: 1768.5250 - val_mae: 1768.5250 - val_mse: 21052584.0000\n",
      "Epoch 913/1000\n",
      "27/27 [==============================] - 0s 3ms/step - loss: 1669.5920 - mae: 1669.5920 - mse: 19545172.0000 - val_loss: 1918.5886 - val_mae: 1918.5886 - val_mse: 21787060.0000\n",
      "Epoch 914/1000\n",
      "27/27 [==============================] - 0s 4ms/step - loss: 1655.8021 - mae: 1655.8021 - mse: 19392272.0000 - val_loss: 1856.4480 - val_mae: 1856.4480 - val_mse: 22048642.0000\n",
      "Epoch 915/1000\n",
      "27/27 [==============================] - 0s 3ms/step - loss: 1654.9567 - mae: 1654.9567 - mse: 19327376.0000 - val_loss: 1974.3187 - val_mae: 1974.3187 - val_mse: 21931518.0000\n",
      "Epoch 916/1000\n",
      "27/27 [==============================] - 0s 3ms/step - loss: 1692.5385 - mae: 1692.5385 - mse: 19791014.0000 - val_loss: 1857.7096 - val_mae: 1857.7096 - val_mse: 19912528.0000\n",
      "Epoch 917/1000\n",
      "27/27 [==============================] - 0s 3ms/step - loss: 1633.7255 - mae: 1633.7255 - mse: 19339960.0000 - val_loss: 2004.3020 - val_mae: 2004.3020 - val_mse: 20244692.0000\n",
      "Epoch 918/1000\n",
      "27/27 [==============================] - 0s 3ms/step - loss: 1688.7634 - mae: 1688.7634 - mse: 19694242.0000 - val_loss: 1769.1942 - val_mae: 1769.1942 - val_mse: 20537528.0000\n",
      "Epoch 919/1000\n",
      "27/27 [==============================] - 0s 3ms/step - loss: 1694.8868 - mae: 1694.8868 - mse: 19711972.0000 - val_loss: 1781.6304 - val_mae: 1781.6304 - val_mse: 20111784.0000\n",
      "Epoch 920/1000\n",
      "27/27 [==============================] - 0s 3ms/step - loss: 1655.2692 - mae: 1655.2692 - mse: 19190414.0000 - val_loss: 1732.5553 - val_mae: 1732.5553 - val_mse: 20263566.0000\n",
      "Epoch 921/1000\n",
      "27/27 [==============================] - 0s 3ms/step - loss: 1656.3564 - mae: 1656.3564 - mse: 19306020.0000 - val_loss: 1791.0073 - val_mae: 1791.0073 - val_mse: 21024602.0000\n",
      "Epoch 922/1000\n",
      "27/27 [==============================] - 0s 3ms/step - loss: 1706.4484 - mae: 1706.4484 - mse: 19806022.0000 - val_loss: 2055.6169 - val_mae: 2055.6169 - val_mse: 19770178.0000\n",
      "Epoch 923/1000\n",
      "27/27 [==============================] - 0s 3ms/step - loss: 1636.5663 - mae: 1636.5663 - mse: 19429656.0000 - val_loss: 1784.0920 - val_mae: 1784.0920 - val_mse: 20208218.0000\n",
      "Epoch 924/1000\n",
      "27/27 [==============================] - 0s 3ms/step - loss: 1685.3705 - mae: 1685.3705 - mse: 19540832.0000 - val_loss: 2229.5239 - val_mae: 2229.5239 - val_mse: 20130552.0000\n",
      "Epoch 925/1000\n",
      "27/27 [==============================] - 0s 3ms/step - loss: 1668.7356 - mae: 1668.7356 - mse: 19371288.0000 - val_loss: 1964.4742 - val_mae: 1964.4742 - val_mse: 20047982.0000\n",
      "Epoch 926/1000\n",
      " 1/27 [>.............................] - ETA: 0s - loss: 2150.9924 - mae: 2150.9924 - mse: 22863196.0000INFO:tensorflow:Assets written to: .\\checkpoint\\assets\n"
     ]
    },
    {
     "name": "stderr",
     "output_type": "stream",
     "text": [
      "INFO:tensorflow:Assets written to: .\\checkpoint\\assets\n"
     ]
    },
    {
     "name": "stdout",
     "output_type": "stream",
     "text": [
      "27/27 [==============================] - 1s 25ms/step - loss: 1660.7760 - mae: 1660.7760 - mse: 19649946.0000 - val_loss: 1707.0377 - val_mae: 1707.0377 - val_mse: 20558336.0000\n",
      "Epoch 927/1000\n",
      "27/27 [==============================] - 0s 4ms/step - loss: 1642.9657 - mae: 1642.9657 - mse: 19388730.0000 - val_loss: 1937.8152 - val_mae: 1937.8152 - val_mse: 22366840.0000\n",
      "Epoch 928/1000\n",
      "27/27 [==============================] - 0s 3ms/step - loss: 1675.0961 - mae: 1675.0961 - mse: 19830748.0000 - val_loss: 1787.5155 - val_mae: 1787.5155 - val_mse: 20695018.0000\n",
      "Epoch 929/1000\n",
      "27/27 [==============================] - 0s 3ms/step - loss: 1642.0851 - mae: 1642.0851 - mse: 19329898.0000 - val_loss: 2068.1772 - val_mae: 2068.1772 - val_mse: 19795020.0000\n",
      "Epoch 930/1000\n",
      "27/27 [==============================] - 0s 4ms/step - loss: 1669.4452 - mae: 1669.4452 - mse: 19564872.0000 - val_loss: 1939.3704 - val_mae: 1939.3704 - val_mse: 22196164.0000\n",
      "Epoch 931/1000\n",
      "27/27 [==============================] - 0s 4ms/step - loss: 1666.4250 - mae: 1666.4250 - mse: 19527596.0000 - val_loss: 1852.3215 - val_mae: 1852.3215 - val_mse: 21630374.0000\n",
      "Epoch 932/1000\n",
      "27/27 [==============================] - 0s 4ms/step - loss: 1675.3407 - mae: 1675.3407 - mse: 19881306.0000 - val_loss: 1912.1829 - val_mae: 1912.1829 - val_mse: 22985410.0000\n",
      "Epoch 933/1000\n",
      "27/27 [==============================] - 0s 3ms/step - loss: 1669.3403 - mae: 1669.3403 - mse: 19777260.0000 - val_loss: 1779.3378 - val_mae: 1779.3378 - val_mse: 20247396.0000\n",
      "Epoch 934/1000\n",
      "27/27 [==============================] - 0s 3ms/step - loss: 1673.8207 - mae: 1673.8207 - mse: 19440300.0000 - val_loss: 1887.8921 - val_mae: 1887.8921 - val_mse: 19787954.0000\n",
      "Epoch 935/1000\n",
      "27/27 [==============================] - 0s 3ms/step - loss: 1657.6067 - mae: 1657.6067 - mse: 19590398.0000 - val_loss: 1854.6113 - val_mae: 1854.6113 - val_mse: 21696232.0000\n",
      "Epoch 936/1000\n",
      "27/27 [==============================] - 0s 3ms/step - loss: 1640.2479 - mae: 1640.2479 - mse: 19347042.0000 - val_loss: 1749.7716 - val_mae: 1749.7716 - val_mse: 20721368.0000\n",
      "Epoch 937/1000\n",
      "27/27 [==============================] - 0s 4ms/step - loss: 1664.3242 - mae: 1664.3242 - mse: 19395140.0000 - val_loss: 2095.0691 - val_mae: 2095.0691 - val_mse: 19748502.0000\n",
      "Epoch 938/1000\n",
      "27/27 [==============================] - 0s 4ms/step - loss: 1659.5848 - mae: 1659.5848 - mse: 19418294.0000 - val_loss: 1999.1488 - val_mae: 1999.1488 - val_mse: 21948652.0000\n",
      "Epoch 939/1000\n",
      "27/27 [==============================] - 0s 3ms/step - loss: 1652.6942 - mae: 1652.6942 - mse: 19640244.0000 - val_loss: 1906.8607 - val_mae: 1906.8607 - val_mse: 19935794.0000\n",
      "Epoch 940/1000\n",
      "27/27 [==============================] - 0s 3ms/step - loss: 1676.5648 - mae: 1676.5648 - mse: 19508216.0000 - val_loss: 1845.7416 - val_mae: 1845.7416 - val_mse: 20269432.0000\n",
      "Epoch 941/1000\n",
      "27/27 [==============================] - 0s 3ms/step - loss: 1673.7129 - mae: 1673.7129 - mse: 20023178.0000 - val_loss: 1767.7808 - val_mae: 1767.7808 - val_mse: 21354386.0000\n",
      "Epoch 942/1000\n",
      " 1/27 [>.............................] - ETA: 0s - loss: 1340.0541 - mae: 1340.0541 - mse: 19360484.0000INFO:tensorflow:Assets written to: .\\checkpoint\\assets\n"
     ]
    },
    {
     "name": "stderr",
     "output_type": "stream",
     "text": [
      "INFO:tensorflow:Assets written to: .\\checkpoint\\assets\n"
     ]
    },
    {
     "name": "stdout",
     "output_type": "stream",
     "text": [
      "27/27 [==============================] - 1s 26ms/step - loss: 1701.2690 - mae: 1701.2690 - mse: 20113638.0000 - val_loss: 1698.8696 - val_mae: 1698.8696 - val_mse: 20589324.0000\n",
      "Epoch 943/1000\n",
      "27/27 [==============================] - 0s 4ms/step - loss: 1637.7075 - mae: 1637.7075 - mse: 19448340.0000 - val_loss: 1977.3683 - val_mae: 1977.3683 - val_mse: 22149756.0000\n",
      "Epoch 944/1000\n",
      "27/27 [==============================] - 0s 3ms/step - loss: 1650.4180 - mae: 1650.4180 - mse: 19690686.0000 - val_loss: 1785.8267 - val_mae: 1785.8267 - val_mse: 21353354.0000\n",
      "Epoch 945/1000\n",
      "27/27 [==============================] - 0s 3ms/step - loss: 1654.8661 - mae: 1654.8661 - mse: 19550570.0000 - val_loss: 1873.4502 - val_mae: 1873.4502 - val_mse: 20204912.0000\n",
      "Epoch 946/1000\n",
      "27/27 [==============================] - 0s 3ms/step - loss: 1667.3380 - mae: 1667.3380 - mse: 19597632.0000 - val_loss: 1910.3774 - val_mae: 1910.3774 - val_mse: 22862480.0000\n",
      "Epoch 947/1000\n",
      "27/27 [==============================] - 0s 4ms/step - loss: 1624.9934 - mae: 1624.9934 - mse: 19251222.0000 - val_loss: 1958.6361 - val_mae: 1958.6361 - val_mse: 20236304.0000\n",
      "Epoch 948/1000\n",
      "27/27 [==============================] - 0s 4ms/step - loss: 1623.6781 - mae: 1623.6781 - mse: 19326966.0000 - val_loss: 1787.3495 - val_mae: 1787.3495 - val_mse: 21117350.0000\n",
      "Epoch 949/1000\n",
      "27/27 [==============================] - 0s 3ms/step - loss: 1631.3988 - mae: 1631.3988 - mse: 19323726.0000 - val_loss: 1947.9752 - val_mae: 1947.9752 - val_mse: 20007918.0000\n",
      "Epoch 950/1000\n",
      "27/27 [==============================] - 0s 3ms/step - loss: 1649.3981 - mae: 1649.3981 - mse: 19355208.0000 - val_loss: 1855.3260 - val_mae: 1855.3260 - val_mse: 20091012.0000\n",
      "Epoch 951/1000\n",
      "27/27 [==============================] - 0s 3ms/step - loss: 1697.2086 - mae: 1697.2086 - mse: 19672704.0000 - val_loss: 1879.0406 - val_mae: 1879.0406 - val_mse: 20167584.0000\n",
      "Epoch 952/1000\n",
      "27/27 [==============================] - 0s 3ms/step - loss: 1657.8000 - mae: 1657.8000 - mse: 19435766.0000 - val_loss: 1886.0950 - val_mae: 1886.0950 - val_mse: 21239560.0000\n",
      "Epoch 953/1000\n",
      "27/27 [==============================] - 0s 3ms/step - loss: 1622.2880 - mae: 1622.2880 - mse: 19285604.0000 - val_loss: 1824.2961 - val_mae: 1824.2961 - val_mse: 21356370.0000\n",
      "Epoch 954/1000\n",
      "27/27 [==============================] - 0s 3ms/step - loss: 1689.2786 - mae: 1689.2786 - mse: 19560304.0000 - val_loss: 2073.7949 - val_mae: 2073.7949 - val_mse: 22409220.0000\n",
      "Epoch 955/1000\n",
      "27/27 [==============================] - 0s 3ms/step - loss: 1691.0779 - mae: 1691.0779 - mse: 20255124.0000 - val_loss: 1770.9276 - val_mae: 1770.9276 - val_mse: 20863524.0000\n",
      "Epoch 956/1000\n",
      "27/27 [==============================] - 0s 3ms/step - loss: 1655.5507 - mae: 1655.5507 - mse: 19499620.0000 - val_loss: 1732.7565 - val_mae: 1732.7565 - val_mse: 20806098.0000\n",
      "Epoch 957/1000\n",
      "27/27 [==============================] - 0s 3ms/step - loss: 1614.3677 - mae: 1614.3677 - mse: 19214308.0000 - val_loss: 1859.1974 - val_mae: 1859.1974 - val_mse: 22205176.0000\n",
      "Epoch 958/1000\n",
      "27/27 [==============================] - 0s 3ms/step - loss: 1675.8860 - mae: 1675.8860 - mse: 19836764.0000 - val_loss: 1834.0077 - val_mae: 1834.0077 - val_mse: 21172052.0000\n",
      "Epoch 959/1000\n",
      "27/27 [==============================] - 0s 3ms/step - loss: 1661.1555 - mae: 1661.1555 - mse: 19587794.0000 - val_loss: 1739.3798 - val_mae: 1739.3798 - val_mse: 20777798.0000\n",
      "Epoch 960/1000\n",
      "27/27 [==============================] - 0s 4ms/step - loss: 1631.1714 - mae: 1631.1714 - mse: 19151496.0000 - val_loss: 1834.3230 - val_mae: 1834.3230 - val_mse: 22120114.0000\n",
      "Epoch 961/1000\n",
      "27/27 [==============================] - 0s 3ms/step - loss: 1646.2515 - mae: 1646.2515 - mse: 19600550.0000 - val_loss: 2132.5972 - val_mae: 2132.5972 - val_mse: 23508428.0000\n",
      "Epoch 962/1000\n",
      "27/27 [==============================] - 0s 3ms/step - loss: 1661.8086 - mae: 1661.8086 - mse: 19819864.0000 - val_loss: 1759.9924 - val_mae: 1759.9924 - val_mse: 21175292.0000\n",
      "Epoch 963/1000\n",
      "27/27 [==============================] - 0s 3ms/step - loss: 1642.7128 - mae: 1642.7128 - mse: 19437126.0000 - val_loss: 1863.2634 - val_mae: 1863.2634 - val_mse: 22246826.0000\n",
      "Epoch 964/1000\n",
      "27/27 [==============================] - 0s 3ms/step - loss: 1631.2778 - mae: 1631.2778 - mse: 19347944.0000 - val_loss: 1891.5817 - val_mae: 1891.5817 - val_mse: 20043778.0000\n",
      "Epoch 965/1000\n",
      "27/27 [==============================] - 0s 3ms/step - loss: 1615.9120 - mae: 1615.9120 - mse: 18934256.0000 - val_loss: 1823.6223 - val_mae: 1823.6223 - val_mse: 21065912.0000\n",
      "Epoch 966/1000\n",
      "27/27 [==============================] - 0s 3ms/step - loss: 1631.8989 - mae: 1631.8989 - mse: 19490976.0000 - val_loss: 1702.7863 - val_mae: 1702.7863 - val_mse: 20569620.0000\n",
      "Epoch 967/1000\n",
      "27/27 [==============================] - 0s 2ms/step - loss: 1633.0254 - mae: 1633.0254 - mse: 19365906.0000 - val_loss: 1887.0797 - val_mae: 1887.0797 - val_mse: 21691600.0000\n",
      "Epoch 968/1000\n",
      "27/27 [==============================] - 0s 3ms/step - loss: 1678.6741 - mae: 1678.6741 - mse: 19705982.0000 - val_loss: 1880.3744 - val_mae: 1880.3744 - val_mse: 20274430.0000\n",
      "Epoch 969/1000\n",
      "27/27 [==============================] - 0s 3ms/step - loss: 1631.2974 - mae: 1631.2974 - mse: 19221026.0000 - val_loss: 1719.5570 - val_mae: 1719.5570 - val_mse: 20799918.0000\n",
      "Epoch 970/1000\n",
      "27/27 [==============================] - 0s 3ms/step - loss: 1648.7648 - mae: 1648.7648 - mse: 19375712.0000 - val_loss: 1870.2997 - val_mae: 1870.2997 - val_mse: 22298430.0000\n",
      "Epoch 971/1000\n",
      "27/27 [==============================] - 0s 3ms/step - loss: 1619.9243 - mae: 1619.9243 - mse: 19487460.0000 - val_loss: 2073.4109 - val_mae: 2073.4109 - val_mse: 19806376.0000\n",
      "Epoch 972/1000\n",
      "27/27 [==============================] - 0s 3ms/step - loss: 1639.7990 - mae: 1639.7990 - mse: 19523428.0000 - val_loss: 1753.2908 - val_mae: 1753.2908 - val_mse: 20717936.0000\n",
      "Epoch 973/1000\n",
      "27/27 [==============================] - 0s 3ms/step - loss: 1656.0303 - mae: 1656.0303 - mse: 19548978.0000 - val_loss: 1771.6414 - val_mae: 1771.6414 - val_mse: 20385458.0000\n",
      "Epoch 974/1000\n",
      "27/27 [==============================] - 0s 2ms/step - loss: 1664.6082 - mae: 1664.6082 - mse: 19347134.0000 - val_loss: 1714.8882 - val_mae: 1714.8882 - val_mse: 20528294.0000\n",
      "Epoch 975/1000\n",
      "27/27 [==============================] - 0s 3ms/step - loss: 1615.3921 - mae: 1615.3921 - mse: 19139546.0000 - val_loss: 1793.7261 - val_mae: 1793.7261 - val_mse: 20639838.0000\n",
      "Epoch 976/1000\n",
      "27/27 [==============================] - 0s 3ms/step - loss: 1658.1599 - mae: 1658.1599 - mse: 19749286.0000 - val_loss: 2065.5808 - val_mae: 2065.5808 - val_mse: 19835806.0000\n",
      "Epoch 977/1000\n",
      "27/27 [==============================] - 0s 3ms/step - loss: 1623.1493 - mae: 1623.1493 - mse: 19350100.0000 - val_loss: 2037.9628 - val_mae: 2037.9628 - val_mse: 19985466.0000\n",
      "Epoch 978/1000\n",
      "27/27 [==============================] - 0s 5ms/step - loss: 1658.3655 - mae: 1658.3655 - mse: 19553614.0000 - val_loss: 1752.5850 - val_mae: 1752.5850 - val_mse: 20883104.0000\n",
      "Epoch 979/1000\n",
      "27/27 [==============================] - 0s 3ms/step - loss: 1598.4733 - mae: 1598.4733 - mse: 19341140.0000 - val_loss: 1731.9233 - val_mae: 1731.9233 - val_mse: 21129752.0000\n",
      "Epoch 980/1000\n",
      "27/27 [==============================] - 0s 3ms/step - loss: 1642.4054 - mae: 1642.4054 - mse: 19284038.0000 - val_loss: 1711.1896 - val_mae: 1711.1896 - val_mse: 20779784.0000\n",
      "Epoch 981/1000\n",
      " 1/27 [>.............................] - ETA: 0s - loss: 1081.6714 - mae: 1081.6714 - mse: 11287904.0000INFO:tensorflow:Assets written to: .\\checkpoint\\assets\n"
     ]
    },
    {
     "name": "stderr",
     "output_type": "stream",
     "text": [
      "INFO:tensorflow:Assets written to: .\\checkpoint\\assets\n"
     ]
    },
    {
     "name": "stdout",
     "output_type": "stream",
     "text": [
      "27/27 [==============================] - 1s 25ms/step - loss: 1605.5634 - mae: 1605.5634 - mse: 19541946.0000 - val_loss: 1696.9854 - val_mae: 1696.9854 - val_mse: 20751004.0000\n",
      "Epoch 982/1000\n",
      "27/27 [==============================] - 0s 4ms/step - loss: 1624.6794 - mae: 1624.6794 - mse: 19315486.0000 - val_loss: 1994.2457 - val_mae: 1994.2457 - val_mse: 19791302.0000\n",
      "Epoch 983/1000\n",
      "27/27 [==============================] - 0s 4ms/step - loss: 1629.7961 - mae: 1629.7961 - mse: 19195778.0000 - val_loss: 1746.3057 - val_mae: 1746.3057 - val_mse: 20675714.0000\n",
      "Epoch 984/1000\n",
      "27/27 [==============================] - 0s 3ms/step - loss: 1628.4835 - mae: 1628.4835 - mse: 19166918.0000 - val_loss: 2096.9707 - val_mae: 2096.9707 - val_mse: 22720578.0000\n",
      "Epoch 985/1000\n",
      "27/27 [==============================] - 0s 3ms/step - loss: 1633.8079 - mae: 1633.8079 - mse: 19302044.0000 - val_loss: 2102.1292 - val_mae: 2102.1292 - val_mse: 22340010.0000\n",
      "Epoch 986/1000\n",
      "27/27 [==============================] - 0s 3ms/step - loss: 1615.4180 - mae: 1615.4180 - mse: 19444354.0000 - val_loss: 1758.2396 - val_mae: 1758.2396 - val_mse: 20000490.0000\n",
      "Epoch 987/1000\n",
      "27/27 [==============================] - 0s 3ms/step - loss: 1654.0084 - mae: 1654.0084 - mse: 19532272.0000 - val_loss: 1795.8368 - val_mae: 1795.8368 - val_mse: 20384736.0000\n",
      "Epoch 988/1000\n",
      "27/27 [==============================] - 0s 3ms/step - loss: 1628.4430 - mae: 1628.4430 - mse: 19350952.0000 - val_loss: 1784.3528 - val_mae: 1784.3528 - val_mse: 21071846.0000\n",
      "Epoch 989/1000\n",
      "27/27 [==============================] - 0s 3ms/step - loss: 1654.4413 - mae: 1654.4413 - mse: 19345782.0000 - val_loss: 1988.2374 - val_mae: 1988.2374 - val_mse: 22012186.0000\n",
      "Epoch 990/1000\n",
      "27/27 [==============================] - 0s 3ms/step - loss: 1652.3674 - mae: 1652.3674 - mse: 19571780.0000 - val_loss: 1702.5076 - val_mae: 1702.5076 - val_mse: 20205090.0000\n",
      "Epoch 991/1000\n",
      "27/27 [==============================] - 0s 3ms/step - loss: 1599.3309 - mae: 1599.3309 - mse: 19063346.0000 - val_loss: 1921.0739 - val_mae: 1921.0739 - val_mse: 21460128.0000\n",
      "Epoch 992/1000\n",
      "27/27 [==============================] - 0s 3ms/step - loss: 1622.5034 - mae: 1622.5034 - mse: 19340376.0000 - val_loss: 1713.8667 - val_mae: 1713.8667 - val_mse: 20612786.0000\n",
      "Epoch 993/1000\n",
      "27/27 [==============================] - 0s 3ms/step - loss: 1642.5464 - mae: 1642.5464 - mse: 19550620.0000 - val_loss: 2035.4375 - val_mae: 2035.4375 - val_mse: 19841486.0000\n",
      "Epoch 994/1000\n",
      "27/27 [==============================] - 0s 3ms/step - loss: 1625.2695 - mae: 1625.2695 - mse: 19286020.0000 - val_loss: 1777.5272 - val_mae: 1777.5272 - val_mse: 20280238.0000\n",
      "Epoch 995/1000\n",
      "27/27 [==============================] - 0s 3ms/step - loss: 1656.3845 - mae: 1656.3845 - mse: 19693154.0000 - val_loss: 1712.9484 - val_mae: 1712.9484 - val_mse: 20801972.0000\n",
      "Epoch 996/1000\n",
      "27/27 [==============================] - 0s 3ms/step - loss: 1617.1609 - mae: 1617.1609 - mse: 19349342.0000 - val_loss: 1751.3613 - val_mae: 1751.3613 - val_mse: 21509670.0000\n",
      "Epoch 997/1000\n",
      " 1/27 [>.............................] - ETA: 0s - loss: 144.5040 - mae: 144.5040 - mse: 39954.3750INFO:tensorflow:Assets written to: .\\checkpoint\\assets\n"
     ]
    },
    {
     "name": "stderr",
     "output_type": "stream",
     "text": [
      "INFO:tensorflow:Assets written to: .\\checkpoint\\assets\n"
     ]
    },
    {
     "name": "stdout",
     "output_type": "stream",
     "text": [
      "27/27 [==============================] - 1s 27ms/step - loss: 1640.2426 - mae: 1640.2426 - mse: 19196640.0000 - val_loss: 1641.3949 - val_mae: 1641.3949 - val_mse: 20235912.0000\n",
      "Epoch 998/1000\n",
      "27/27 [==============================] - 0s 3ms/step - loss: 1620.1672 - mae: 1620.1672 - mse: 19446656.0000 - val_loss: 1780.6515 - val_mae: 1780.6515 - val_mse: 19733308.0000\n",
      "Epoch 999/1000\n",
      "27/27 [==============================] - 0s 3ms/step - loss: 1611.4048 - mae: 1611.4048 - mse: 19107440.0000 - val_loss: 1662.1084 - val_mae: 1662.1084 - val_mse: 20022476.0000\n",
      "Epoch 1000/1000\n",
      "27/27 [==============================] - 0s 3ms/step - loss: 1640.4966 - mae: 1640.4966 - mse: 19499080.0000 - val_loss: 1846.6298 - val_mae: 1846.6298 - val_mse: 19606202.0000\n"
     ]
    }
   ],
   "source": [
    "import numpy as np\n",
    "import tensorflow as tf\n",
    "\n",
    "# Split the dataset\n",
    "train_dataset = dataset.sample(frac=0.8, random_state=0)\n",
    "test_dataset = dataset.drop(train_dataset.index)\n",
    "\n",
    "# Separate features and labels\n",
    "train_labels = train_dataset.pop(\"expenses\")\n",
    "test_labels = test_dataset.pop(\"expenses\")\n",
    "\n",
    "# Convert to NumPy arrays\n",
    "train_dataset = np.array(train_dataset, dtype=np.float32)\n",
    "train_labels = np.array(train_labels, dtype=np.float32)\n",
    "\n",
    "# Ensure shapes are correct\n",
    "print(train_dataset.shape, train_labels.shape)\n",
    "\n",
    "# Train the model\n",
    "EPOCHS = 1000\n",
    "history = model.fit(\n",
    "    train_dataset,\n",
    "    train_labels,\n",
    "    epochs=EPOCHS,\n",
    "    validation_split=0.2,\n",
    "    verbose=1,\n",
    "    callbacks=[tf.keras.callbacks.ModelCheckpoint(\"./checkpoint\", save_best_only=True, monitor='val_loss')]\n",
    ")\n"
   ]
  },
  {
   "cell_type": "code",
   "execution_count": 15,
   "metadata": {
    "colab": {
     "base_uri": "https://localhost:8080/",
     "height": 334
    },
    "id": "Xe7RXH3N3CWU",
    "outputId": "36215195-2efb-4b54-ef85-4330f0e1e032"
   },
   "outputs": [
    {
     "name": "stdout",
     "output_type": "stream",
     "text": [
      "9/9 - 0s - loss: 2462.5640 - mae: 2462.5640 - mse: 33382198.0000 - 54ms/epoch - 6ms/step\n",
      "Testing set Mean Abs Error: 2462.56 expenses\n",
      "You passed the challenge. Great job!\n",
      "9/9 [==============================] - 0s 2ms/step\n"
     ]
    },
    {
     "data": {
      "image/png": "[encoded data removed]",
      "text/plain": [
       "<Figure size 640x480 with 1 Axes>"
      ]
     },
     "metadata": {},
     "output_type": "display_data"
    }
   ],
   "source": [
    "import numpy as np\n",
    "import matplotlib.pyplot as plt\n",
    "\n",
    "# Convert test data to NumPy arrays\n",
    "test_dataset = np.array(test_dataset, dtype=np.float32)\n",
    "test_labels = np.array(test_labels, dtype=np.float32)\n",
    "\n",
    "# Evaluate the model\n",
    "loss, mae, mse = model.evaluate(test_dataset, test_labels, verbose=2)\n",
    "\n",
    "print(\"Testing set Mean Abs Error: {:5.2f} expenses\".format(mae))\n",
    "\n",
    "if mae < 3500:\n",
    "    print(\"You passed the challenge. Great job!\")\n",
    "else:\n",
    "    print(\"The Mean Abs Error must be less than 3500. Keep trying.\")\n",
    "\n",
    "# Plot predictions\n",
    "test_predictions = model.predict(test_dataset).flatten()\n",
    "\n",
    "a = plt.axes(aspect='equal')\n",
    "plt.scatter(test_labels, test_predictions)\n",
    "plt.xlabel('True values (expenses)')\n",
    "plt.ylabel('Predictions (expenses)')\n",
    "lims = [0, 50000]\n",
    "plt.xlim(lims)\n",
    "plt.ylim(lims)\n",
    "_ = plt.plot(lims, lims)\n",
    "\n"
   ]
  }
 ],
 "metadata": {
  "accelerator": "GPU",
  "colab": {
   "collapsed_sections": [],
   "name": "fcc_predict_health_costs_with_regression.ipynb",
   "provenance": []
  },
  "kernelspec": {
   "display_name": "Python 3",
   "name": "python3"
  },
  "language_info": {
   "codemirror_mode": {
    "name": "ipython",
    "version": 3
   },
   "file_extension": ".py",
   "mimetype": "text/x-python",
   "name": "python",
   "nbconvert_exporter": "python",
   "pygments_lexer": "ipython3",
   "version": "3.11.3"
  }
 },
 "nbformat": 4,
 "nbformat_minor": 0
}
